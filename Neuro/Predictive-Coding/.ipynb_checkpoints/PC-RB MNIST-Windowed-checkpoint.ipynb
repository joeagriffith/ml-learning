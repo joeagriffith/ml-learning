{
 "cells": [
  {
   "cell_type": "code",
   "execution_count": 1,
   "id": "548f8013",
   "metadata": {},
   "outputs": [
    {
     "name": "stderr",
     "output_type": "stream",
     "text": [
      "C:\\Users\\Joe\\AppData\\Local\\Programs\\Python\\Python39\\lib\\site-packages\\tqdm\\auto.py:22: TqdmWarning: IProgress not found. Please update jupyter and ipywidgets. See https://ipywidgets.readthedocs.io/en/stable/user_install.html\n",
      "  from .autonotebook import tqdm as notebook_tqdm\n"
     ]
    }
   ],
   "source": [
    "import torch\n",
    "import torch.nn as nn\n",
    "import torch.nn.functional as F\n",
    "import torch.optim as optim\n",
    "import torchvision\n",
    "import torchvision.datasets as datasets\n",
    "import torchvision.transforms as transforms\n",
    "from torch.utils.data import DataLoader\n",
    "from torch.utils.tensorboard import SummaryWriter\n",
    "from tqdm import tqdm\n",
    "import math\n",
    "from torch.autograd import Variable"
   ]
  },
  {
   "cell_type": "code",
   "execution_count": 2,
   "id": "25eb8b6c",
   "metadata": {},
   "outputs": [
    {
     "data": {
      "text/plain": [
       "'cuda'"
      ]
     },
     "execution_count": 2,
     "metadata": {},
     "output_type": "execute_result"
    }
   ],
   "source": [
    "device = \"cuda\" if torch.cuda.is_available() else \"cpu\"\n",
    "device"
   ]
  },
  {
   "cell_type": "code",
   "execution_count": 101,
   "id": "f25200b0",
   "metadata": {},
   "outputs": [],
   "source": [
    "MU = 0.5\n",
    "NU = 1.0\n",
    "ETA = 0.05\n",
    "STEPS = 10"
   ]
  },
  {
   "cell_type": "code",
   "execution_count": 102,
   "id": "e334ce4d",
   "metadata": {},
   "outputs": [],
   "source": [
    "class PCInputLayer(nn.Module):\n",
    "    def __init__(self, size):\n",
    "        super().__init__()\n",
    "        self.size = size\n",
    "        \n",
    "    def init_vars(self):\n",
    "        e = torch.zeros((self.size, 1)).to(device)\n",
    "        return e\n",
    "        \n",
    "    def step(self, x, td_pred):\n",
    "        return x - td_pred"
   ]
  },
  {
   "cell_type": "code",
   "execution_count": 103,
   "id": "4161e2b0",
   "metadata": {},
   "outputs": [],
   "source": [
    "class PCLayer(nn.Module):\n",
    "    def __init__(self, size_prev, size):\n",
    "        super().__init__()\n",
    "        self.size, self.size_prev = size, size_prev\n",
    "        \n",
    "        U = torch.zeros((size_prev, size)).to(device)\n",
    "        self.U = nn.Parameter(U)\n",
    "        nn.init.kaiming_uniform_(self.U, a=25) # <=== To Revisit\n",
    "        \n",
    "#         V = torch.zeros((size, size_prev)).to(device)\n",
    "#         self.V = nn.Parameter(V)\n",
    "#         nn.init.kaiming_uniform_(self.V, a=25) # <=== To Revisit\n",
    "        \n",
    "    def init_vars(self):\n",
    "        r = torch.zeros((self.size, 1)).to(device)\n",
    "        e = torch.zeros((self.size, 1)).to(device)\n",
    "        return r, e\n",
    "        \n",
    "    def pred(self, r):\n",
    "        return F.relu(torch.mm(self.U, r))\n",
    "\n",
    "    def step(self, e_inf, r, e, td_pred):\n",
    "        r = NU*r + MU*torch.mm(self.U.t(),e_inf) - ETA*e\n",
    "        e = r - td_pred      \n",
    "        return r, e"
   ]
  },
  {
   "cell_type": "code",
   "execution_count": 157,
   "id": "e67bc2d4",
   "metadata": {},
   "outputs": [],
   "source": [
    "class Model(nn.Module):\n",
    "    def __init__(self, input_size, h1_size, h2_size, num_classes):\n",
    "        super().__init__()\n",
    "        self.input_size = input_size\n",
    "        self.pc0 = PCInputLayer(input_size)\n",
    "        self.pc1 = PCLayer(input_size, h1_size)\n",
    "        self.pc2 = PCLayer(h1_size, h2_size)\n",
    "        self.pc3 = PCLayer(h2_size, num_classes)\n",
    "    \n",
    "    def train(self, x, targets, debug=False):\n",
    "        pc0_e = self.pc0.init_vars()\n",
    "        pc1_r, pc1_e = self.pc1.init_vars()\n",
    "        pc2_r, pc2_e = self.pc2.init_vars()\n",
    "        pc3_r, pc3_e = self.pc3.init_vars()\n",
    "        \n",
    "        for _ in range(STEPS):\n",
    "            pc0_e = self.pc0.step(x, self.pc1.pred(pc1_r))\n",
    "            pc1_r, pc1_e = self.pc1.step(pc0_e, pc1_r, pc1_e, self.pc2.pred(pc2_r))\n",
    "            pc2_r, pc2_e = self.pc2.step(pc1_e, pc2_r, pc2_e, self.pc3.pred(pc3_r))\n",
    "            pc3_r, pc3_e = self.pc3.step(pc2_e, pc3_r, pc3_e, targets)\n",
    "        \n",
    "        if debug:\n",
    "            print(\"printing pc3_r....\")\n",
    "            print(pc3_r)\n",
    "            print(\"printing pc3_e...\")\n",
    "            print(pc3_e)\n",
    "            \n",
    "        pc0_err = pc0_e.square().sum()/self.pc0.size\n",
    "        pc1_err = pc1_e.square().sum()/self.pc1.size\n",
    "        pc2_err = pc2_e.square().sum()/self.pc2.size\n",
    "        pc3_err = pc3_e.square().sum()/self.pc3.size\n",
    "            \n",
    "        total_sqr_err =  pc0_err + pc1_err + pc2_err + 10*pc3_err\n",
    "        return total_sqr_err"
   ]
  },
  {
   "cell_type": "code",
   "execution_count": 158,
   "id": "c326583b",
   "metadata": {},
   "outputs": [],
   "source": [
    "INPUT_SIZE = 784\n",
    "H1_SIZE = 784\n",
    "H2_SIZE = 784\n",
    "NUM_CLASSES = 10"
   ]
  },
  {
   "cell_type": "code",
   "execution_count": 159,
   "id": "524ef38b",
   "metadata": {},
   "outputs": [],
   "source": [
    "train_dataset = datasets.MNIST(root='dataset/', train=True, transform=transforms.ToTensor(), download=True)\n",
    "train_loader = DataLoader(dataset=train_dataset, shuffle=True)\n",
    "test_dataset = datasets.MNIST(root='dataset/', train=False, transform=transforms.ToTensor(), download=True)\n",
    "test_loader = DataLoader(dataset=test_dataset, shuffle=True)"
   ]
  },
  {
   "cell_type": "code",
   "execution_count": 160,
   "id": "a676adca",
   "metadata": {},
   "outputs": [],
   "source": [
    "model = Model(INPUT_SIZE, H1_SIZE, H2_SIZE, NUM_CLASSES).to(device)"
   ]
  },
  {
   "cell_type": "code",
   "execution_count": 161,
   "id": "abda876f",
   "metadata": {
    "scrolled": false
   },
   "outputs": [
    {
     "name": "stdout",
     "output_type": "stream",
     "text": [
      "mean_loss: tensor(0.0099, device='cuda:0', grad_fn=<DivBackward0>)\n",
      "mean_loss: tensor(0.6074, device='cuda:0', grad_fn=<DivBackward0>)\n",
      "mean_loss: tensor(0.5953, device='cuda:0', grad_fn=<DivBackward0>)\n",
      "mean_loss: tensor(0.6075, device='cuda:0', grad_fn=<DivBackward0>)\n",
      "mean_loss: tensor(0.6067, device='cuda:0', grad_fn=<DivBackward0>)\n",
      "mean_loss: tensor(0.6046, device='cuda:0', grad_fn=<DivBackward0>)\n",
      "mean_loss: tensor(0.6105, device='cuda:0', grad_fn=<DivBackward0>)\n",
      "mean_loss: tensor(0.6115, device='cuda:0', grad_fn=<DivBackward0>)\n",
      "mean_loss: tensor(0.6069, device='cuda:0', grad_fn=<DivBackward0>)\n",
      "mean_loss: tensor(0.6089, device='cuda:0', grad_fn=<DivBackward0>)\n",
      "mean_loss: tensor(0.6076, device='cuda:0', grad_fn=<DivBackward0>)\n",
      "mean_loss: tensor(0.6022, device='cuda:0', grad_fn=<DivBackward0>)\n",
      "mean_loss: tensor(0.5921, device='cuda:0', grad_fn=<DivBackward0>)\n",
      "mean_loss: tensor(0.6040, device='cuda:0', grad_fn=<DivBackward0>)\n",
      "mean_loss: tensor(0.5997, device='cuda:0', grad_fn=<DivBackward0>)\n",
      "mean_loss: tensor(0.6001, device='cuda:0', grad_fn=<DivBackward0>)\n",
      "mean_loss: tensor(0.5953, device='cuda:0', grad_fn=<DivBackward0>)\n",
      "mean_loss: tensor(0.6075, device='cuda:0', grad_fn=<DivBackward0>)\n",
      "mean_loss: tensor(0.6095, device='cuda:0', grad_fn=<DivBackward0>)\n",
      "mean_loss: tensor(0.6046, device='cuda:0', grad_fn=<DivBackward0>)\n",
      "mean_loss: tensor(0.5991, device='cuda:0', grad_fn=<DivBackward0>)\n",
      "mean_loss: tensor(0.6066, device='cuda:0', grad_fn=<DivBackward0>)\n",
      "mean_loss: tensor(0.5983, device='cuda:0', grad_fn=<DivBackward0>)\n",
      "mean_loss: tensor(0.6065, device='cuda:0', grad_fn=<DivBackward0>)\n",
      "mean_loss: tensor(0.6091, device='cuda:0', grad_fn=<DivBackward0>)\n",
      "mean_loss: tensor(0.5908, device='cuda:0', grad_fn=<DivBackward0>)\n",
      "mean_loss: tensor(0.6050, device='cuda:0', grad_fn=<DivBackward0>)\n",
      "mean_loss: tensor(0.6024, device='cuda:0', grad_fn=<DivBackward0>)\n",
      "mean_loss: tensor(0.6110, device='cuda:0', grad_fn=<DivBackward0>)\n",
      "mean_loss: tensor(0.6125, device='cuda:0', grad_fn=<DivBackward0>)\n",
      "mean_loss: tensor(0.5973, device='cuda:0', grad_fn=<DivBackward0>)\n",
      "mean_loss: tensor(0.6099, device='cuda:0', grad_fn=<DivBackward0>)\n",
      "mean_loss: tensor(0.6036, device='cuda:0', grad_fn=<DivBackward0>)\n",
      "mean_loss: tensor(0.6175, device='cuda:0', grad_fn=<DivBackward0>)\n",
      "mean_loss: tensor(0.6061, device='cuda:0', grad_fn=<DivBackward0>)\n",
      "mean_loss: tensor(0.5998, device='cuda:0', grad_fn=<DivBackward0>)\n",
      "mean_loss: tensor(0.6100, device='cuda:0', grad_fn=<DivBackward0>)\n",
      "mean_loss: tensor(0.6128, device='cuda:0', grad_fn=<DivBackward0>)\n",
      "mean_loss: tensor(0.5981, device='cuda:0', grad_fn=<DivBackward0>)\n",
      "mean_loss: tensor(0.6075, device='cuda:0', grad_fn=<DivBackward0>)\n",
      "mean_loss: tensor(0.6050, device='cuda:0', grad_fn=<DivBackward0>)\n",
      "mean_loss: tensor(0.5924, device='cuda:0', grad_fn=<DivBackward0>)\n",
      "mean_loss: tensor(0.6087, device='cuda:0', grad_fn=<DivBackward0>)\n",
      "mean_loss: tensor(0.6062, device='cuda:0', grad_fn=<DivBackward0>)\n"
     ]
    },
    {
     "ename": "KeyboardInterrupt",
     "evalue": "",
     "output_type": "error",
     "traceback": [
      "\u001b[1;31m---------------------------------------------------------------------------\u001b[0m",
      "\u001b[1;31mKeyboardInterrupt\u001b[0m                         Traceback (most recent call last)",
      "Cell \u001b[1;32mIn[161], line 16\u001b[0m\n\u001b[0;32m     13\u001b[0m         targets \u001b[38;5;241m=\u001b[39m torch\u001b[38;5;241m.\u001b[39mzeros((NUM_CLASSES, \u001b[38;5;241m1\u001b[39m))\u001b[38;5;241m.\u001b[39mto(device)\n\u001b[0;32m     14\u001b[0m         targets[y[\u001b[38;5;241m0\u001b[39m]] \u001b[38;5;241m=\u001b[39m \u001b[38;5;241m1\u001b[39m\n\u001b[1;32m---> 16\u001b[0m         loss \u001b[38;5;241m=\u001b[39m \u001b[43mmodel\u001b[49m\u001b[38;5;241;43m.\u001b[39;49m\u001b[43mtrain\u001b[49m\u001b[43m(\u001b[49m\u001b[43mx\u001b[49m\u001b[43m,\u001b[49m\u001b[43m \u001b[49m\u001b[43mtargets\u001b[49m\u001b[43m,\u001b[49m\u001b[43m \u001b[49m\u001b[43mdebug\u001b[49m\u001b[38;5;241;43m=\u001b[39;49m\u001b[38;5;28;43;01mFalse\u001b[39;49;00m\u001b[43m)\u001b[49m\n\u001b[0;32m     17\u001b[0m \u001b[38;5;66;03m#         print(\"targets: \", targets)\u001b[39;00m\n\u001b[0;32m     18\u001b[0m \u001b[38;5;66;03m#         print(loss)\u001b[39;00m\n\u001b[0;32m     20\u001b[0m         loss\u001b[38;5;241m.\u001b[39mbackward(retain_graph\u001b[38;5;241m=\u001b[39m\u001b[38;5;28;01mTrue\u001b[39;00m)\n",
      "Cell \u001b[1;32mIn[157], line 12\u001b[0m, in \u001b[0;36mModel.train\u001b[1;34m(self, x, targets, debug)\u001b[0m\n\u001b[0;32m     10\u001b[0m \u001b[38;5;28;01mdef\u001b[39;00m \u001b[38;5;21mtrain\u001b[39m(\u001b[38;5;28mself\u001b[39m, x, targets, debug\u001b[38;5;241m=\u001b[39m\u001b[38;5;28;01mFalse\u001b[39;00m):\n\u001b[0;32m     11\u001b[0m     pc0_e \u001b[38;5;241m=\u001b[39m \u001b[38;5;28mself\u001b[39m\u001b[38;5;241m.\u001b[39mpc0\u001b[38;5;241m.\u001b[39minit_vars()\n\u001b[1;32m---> 12\u001b[0m     pc1_r, pc1_e \u001b[38;5;241m=\u001b[39m \u001b[38;5;28;43mself\u001b[39;49m\u001b[38;5;241;43m.\u001b[39;49m\u001b[43mpc1\u001b[49m\u001b[38;5;241;43m.\u001b[39;49m\u001b[43minit_vars\u001b[49m\u001b[43m(\u001b[49m\u001b[43m)\u001b[49m\n\u001b[0;32m     13\u001b[0m     pc2_r, pc2_e \u001b[38;5;241m=\u001b[39m \u001b[38;5;28mself\u001b[39m\u001b[38;5;241m.\u001b[39mpc2\u001b[38;5;241m.\u001b[39minit_vars()\n\u001b[0;32m     14\u001b[0m     pc3_r, pc3_e \u001b[38;5;241m=\u001b[39m \u001b[38;5;28mself\u001b[39m\u001b[38;5;241m.\u001b[39mpc3\u001b[38;5;241m.\u001b[39minit_vars()\n",
      "Cell \u001b[1;32mIn[103], line 16\u001b[0m, in \u001b[0;36mPCLayer.init_vars\u001b[1;34m(self)\u001b[0m\n\u001b[0;32m     14\u001b[0m \u001b[38;5;28;01mdef\u001b[39;00m \u001b[38;5;21minit_vars\u001b[39m(\u001b[38;5;28mself\u001b[39m):\n\u001b[0;32m     15\u001b[0m     r \u001b[38;5;241m=\u001b[39m torch\u001b[38;5;241m.\u001b[39mzeros((\u001b[38;5;28mself\u001b[39m\u001b[38;5;241m.\u001b[39msize, \u001b[38;5;241m1\u001b[39m))\u001b[38;5;241m.\u001b[39mto(device)\n\u001b[1;32m---> 16\u001b[0m     e \u001b[38;5;241m=\u001b[39m \u001b[43mtorch\u001b[49m\u001b[38;5;241;43m.\u001b[39;49m\u001b[43mzeros\u001b[49m\u001b[43m(\u001b[49m\u001b[43m(\u001b[49m\u001b[38;5;28;43mself\u001b[39;49m\u001b[38;5;241;43m.\u001b[39;49m\u001b[43msize\u001b[49m\u001b[43m,\u001b[49m\u001b[43m \u001b[49m\u001b[38;5;241;43m1\u001b[39;49m\u001b[43m)\u001b[49m\u001b[43m)\u001b[49m\u001b[38;5;241;43m.\u001b[39;49m\u001b[43mto\u001b[49m\u001b[43m(\u001b[49m\u001b[43mdevice\u001b[49m\u001b[43m)\u001b[49m\n\u001b[0;32m     17\u001b[0m     \u001b[38;5;28;01mreturn\u001b[39;00m r, e\n",
      "\u001b[1;31mKeyboardInterrupt\u001b[0m: "
     ]
    }
   ],
   "source": [
    "LEARNING_RATE = 0.0000001\n",
    "NUM_EPOCHS = 1\n",
    "\n",
    "optimiser = optim.SGD(model.parameters(), lr=LEARNING_RATE)\n",
    "\n",
    "mean_loss = 0\n",
    "\n",
    "\n",
    "for epoch in range(NUM_EPOCHS):\n",
    "    for batch_idx, (data, y) in enumerate(train_loader):\n",
    "        \n",
    "        x = data.reshape((-1, 1)).to(device)\n",
    "        targets = torch.zeros((NUM_CLASSES, 1)).to(device)\n",
    "        targets[y[0]] = 1\n",
    "\n",
    "        loss = model.train(x, targets, debug=False)\n",
    "#         print(\"targets: \", targets)\n",
    "#         print(loss)\n",
    "        \n",
    "        loss.backward(retain_graph=True)\n",
    "        \n",
    "        \n",
    "        mean_loss += loss\n",
    "        if batch_idx % 64 == 0:\n",
    "            print(\"mean_loss:\",mean_loss / 64)\n",
    "            mean_loss = 0\n",
    "            optimiser.step()\n",
    "            optimiser.zero_grad()"
   ]
  },
  {
   "cell_type": "code",
   "execution_count": null,
   "id": "ae52ae58",
   "metadata": {},
   "outputs": [],
   "source": []
  },
  {
   "cell_type": "code",
   "execution_count": null,
   "id": "8d5c9ae7",
   "metadata": {},
   "outputs": [],
   "source": [
    "\n",
    "\n",
    "\n",
    "\n",
    "\n",
    "\n",
    "\n",
    "\n",
    "\n",
    "\n",
    "\n",
    "\n",
    "\n",
    "\n",
    "\n",
    "\n",
    "\n",
    "\n",
    "\n",
    "\n",
    "\n",
    "\n",
    "\n",
    "\n",
    "\n",
    "\n",
    "\n",
    "\n",
    "\n",
    "\n",
    "\n",
    "\n",
    "\n",
    "\n",
    "\n",
    "\n",
    "\n",
    "\n",
    "\n",
    "\n",
    "\n",
    "\n",
    "\n",
    "\n",
    "\n"
   ]
  },
  {
   "cell_type": "code",
   "execution_count": null,
   "id": "7ef14547",
   "metadata": {},
   "outputs": [],
   "source": []
  }
 ],
 "metadata": {
  "kernelspec": {
   "display_name": "Python 3 (ipykernel)",
   "language": "python",
   "name": "python3"
  },
  "language_info": {
   "codemirror_mode": {
    "name": "ipython",
    "version": 3
   },
   "file_extension": ".py",
   "mimetype": "text/x-python",
   "name": "python",
   "nbconvert_exporter": "python",
   "pygments_lexer": "ipython3",
   "version": "3.9.13"
  }
 },
 "nbformat": 4,
 "nbformat_minor": 5
}
