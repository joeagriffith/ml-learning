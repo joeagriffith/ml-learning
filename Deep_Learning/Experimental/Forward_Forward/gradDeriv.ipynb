{
 "cells": [
  {
   "cell_type": "code",
   "execution_count": 7,
   "metadata": {},
   "outputs": [],
   "source": [
    "import torch\n",
    "import torch.nn as nn\n",
    "import torch.nn.functional as F"
   ]
  },
  {
   "cell_type": "code",
   "execution_count": 14,
   "metadata": {},
   "outputs": [],
   "source": [
    "def cmp(s, dt, t):\n",
    "    ex = torch.all(dt == t.grad).item()\n",
    "    app = torch.allclose(dt, t.grad)\n",
    "    maxdiff = (dt - t.grad).abs().max().item()\n",
    "    print(f'{s:15s} | exact: {str(ex):5s} | approx: {str(app):5s} | maxdiff: {maxdiff}')"
   ]
  },
  {
   "cell_type": "code",
   "execution_count": 66,
   "metadata": {},
   "outputs": [],
   "source": [
    "torch.manual_seed(42)\n",
    "in_size = 2\n",
    "out_size = 3\n",
    "layer = nn.Linear(in_size, out_size, bias=True)\n",
    "x = F.normalize(torch.randn(10, in_size))\n",
    "x.requires_grad = True\n",
    "threshold = 2.0\n",
    "\n",
    "parameters = [layer]"
   ]
  },
  {
   "cell_type": "code",
   "execution_count": 67,
   "metadata": {},
   "outputs": [],
   "source": [
    "# Positive\n",
    "actv = layer(x)\n",
    "y = F.relu(actv)\n",
    "y_square = y.square()\n",
    "y_sum = y_square.sum(dim=1) # sum each vector\n",
    "y_mean = y_sum.mean() # mean over batch\n",
    "y_corr = y_mean - threshold\n",
    "log_p = torch.log(1 + torch.exp(y_corr))\n",
    "\n",
    "vals = [x, actv, y, y_square, y_sum, y_mean, y_corr, log_p]\n",
    "for p in parameters:\n",
    "    p.zero_grad()\n",
    "for v in vals:\n",
    "    v.retain_grad()\n",
    "\n",
    "log_p.backward()"
   ]
  },
  {
   "cell_type": "code",
   "execution_count": 68,
   "metadata": {},
   "outputs": [
    {
     "name": "stdout",
     "output_type": "stream",
     "text": [
      "dy_corr         | exact: True  | approx: True  | maxdiff: 0.0\n",
      "dy_mean         | exact: True  | approx: True  | maxdiff: 0.0\n",
      "dy_sum          | exact: True  | approx: True  | maxdiff: 0.0\n",
      "dy_square       | exact: True  | approx: True  | maxdiff: 0.0\n",
      "dy              | exact: True  | approx: True  | maxdiff: 0.0\n",
      "dactv           | exact: True  | approx: True  | maxdiff: 0.0\n",
      "dweight         | exact: True  | approx: True  | maxdiff: 0.0\n",
      "dbias           | exact: True  | approx: True  | maxdiff: 0.0\n"
     ]
    }
   ],
   "source": [
    "dy_corr = torch.sigmoid(y_corr)\n",
    "dy_mean = dy_corr * 1.0\n",
    "dy_sum = dy_mean / y_sum.shape[0]\n",
    "dy_square = dy_sum\n",
    "dy = dy_square * 2.0 * y\n",
    "dactv = dy * actv.sign()\n",
    "dweight = dactv.t() @ x\n",
    "dbias = dactv.sum(dim=0)\n",
    "\n",
    "cmp('dy_corr', dy_corr, y_corr)\n",
    "cmp('dy_mean', dy_mean, y_mean)\n",
    "cmp('dy_sum', dy_sum, y_sum)\n",
    "cmp('dy_square', dy_square, y_square)\n",
    "cmp('dy', dy, y)\n",
    "cmp('dactv', dactv, actv)\n",
    "cmp('dweight', dweight, layer.weight)\n",
    "cmp('dbias', dbias, layer.bias)"
   ]
  },
  {
   "cell_type": "code",
   "execution_count": 71,
   "metadata": {},
   "outputs": [
    {
     "name": "stdout",
     "output_type": "stream",
     "text": [
      "dweight         | exact: False | approx: True  | maxdiff: 1.4901161193847656e-08\n",
      "dbias           | exact: False | approx: True  | maxdiff: 1.4901161193847656e-08\n"
     ]
    }
   ],
   "source": [
    "dlogp = torch.sigmoid(y_corr)\n",
    "dweight = (dlogp * 2 * y).t() @ x / x.shape[0]\n",
    "dbias = (dlogp * 2 * y).mean(dim=0)\n",
    "\n",
    "cmp('dweight', dweight, layer.weight)\n",
    "cmp('dbias', dbias, layer.bias)"
   ]
  },
  {
   "cell_type": "code",
   "execution_count": 73,
   "metadata": {},
   "outputs": [],
   "source": [
    "# Negative\n",
    "actv = layer(x)\n",
    "y = F.relu(actv)\n",
    "y_square = y.square()\n",
    "y_sum = y_square.sum(dim=1) # sum each vector\n",
    "y_mean = y_sum.mean() # mean over batch\n",
    "y_corr = threshold - y_mean\n",
    "log_p = torch.log(1 + torch.exp(y_corr))\n",
    "\n",
    "vals = [x, actv, y, y_square, y_sum, y_mean, y_corr, log_p]\n",
    "for p in parameters:\n",
    "    p.zero_grad()\n",
    "for v in vals:\n",
    "    v.retain_grad()\n",
    "\n",
    "log_p.backward()"
   ]
  },
  {
   "cell_type": "code",
   "execution_count": 74,
   "metadata": {},
   "outputs": [
    {
     "name": "stdout",
     "output_type": "stream",
     "text": [
      "dy_corr         | exact: True  | approx: True  | maxdiff: 0.0\n",
      "dy_mean         | exact: True  | approx: True  | maxdiff: 0.0\n",
      "dy_sum          | exact: True  | approx: True  | maxdiff: 0.0\n",
      "dy_square       | exact: True  | approx: True  | maxdiff: 0.0\n",
      "dy              | exact: True  | approx: True  | maxdiff: 0.0\n",
      "dactv           | exact: True  | approx: True  | maxdiff: 0.0\n",
      "dweight         | exact: True  | approx: True  | maxdiff: 0.0\n",
      "dbias           | exact: True  | approx: True  | maxdiff: 0.0\n"
     ]
    }
   ],
   "source": [
    "dy_corr = torch.sigmoid(y_corr)\n",
    "dy_mean = dy_corr * -1.0\n",
    "dy_sum = dy_mean / y_sum.shape[0]\n",
    "dy_square = dy_sum\n",
    "dy = dy_square * 2.0 * y\n",
    "dactv = dy * actv.sign()\n",
    "dweight = dactv.t() @ x\n",
    "dbias = dactv.sum(dim=0)\n",
    "\n",
    "cmp('dy_corr', dy_corr, y_corr)\n",
    "cmp('dy_mean', dy_mean, y_mean)\n",
    "cmp('dy_sum', dy_sum, y_sum)\n",
    "cmp('dy_square', dy_square, y_square)\n",
    "cmp('dy', dy, y)\n",
    "cmp('dactv', dactv, actv)\n",
    "cmp('dweight', dweight, layer.weight)\n",
    "cmp('dbias', dbias, layer.bias)"
   ]
  },
  {
   "cell_type": "code",
   "execution_count": 75,
   "metadata": {},
   "outputs": [
    {
     "name": "stdout",
     "output_type": "stream",
     "text": [
      "dweight         | exact: False | approx: True  | maxdiff: 5.960464477539063e-08\n",
      "dbias           | exact: True  | approx: True  | maxdiff: 0.0\n"
     ]
    }
   ],
   "source": [
    "dlogp = torch.sigmoid(y_corr)\n",
    "dweight = (-dlogp * 2 * y).t() @ x / x.shape[0]\n",
    "dbias = (-dlogp * 2 * y).mean(dim=0)\n",
    "cmp('dweight', dweight, layer.weight)\n",
    "cmp('dbias', dbias, layer.bias)"
   ]
  }
 ],
 "metadata": {
  "kernelspec": {
   "display_name": "ml-env",
   "language": "python",
   "name": "python3"
  },
  "language_info": {
   "codemirror_mode": {
    "name": "ipython",
    "version": 3
   },
   "file_extension": ".py",
   "mimetype": "text/x-python",
   "name": "python",
   "nbconvert_exporter": "python",
   "pygments_lexer": "ipython3",
   "version": "3.11.4"
  },
  "orig_nbformat": 4
 },
 "nbformat": 4,
 "nbformat_minor": 2
}
