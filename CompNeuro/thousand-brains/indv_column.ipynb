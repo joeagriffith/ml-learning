{
 "cells": [
  {
   "cell_type": "code",
   "execution_count": 1,
   "metadata": {},
   "outputs": [],
   "source": [
    "import torch\n",
    "import torch.nn as nn\n",
    "import torch.nn.functional as F\n",
    "\n",
    "import matplotlib.pyplot as plt\n",
    "%matplotlib inline"
   ]
  },
  {
   "cell_type": "code",
   "execution_count": 2,
   "metadata": {},
   "outputs": [],
   "source": [
    "class MiniColumn:\n",
    "    def __init__(self, input_size):\n",
    "        self.input_size = input_size\n",
    "        \n",
    "\n",
    "\n",
    "class Column:\n",
    "    def __init__(self, input_size, n_mini_cols, alpha=0.1, thresh=0.5, gamma=0.1):\n",
    "        self.input_size = input_size\n",
    "        self.n_mini_cols = n_mini_cols\n",
    "        self.alpha = alpha\n",
    "        self.thresh = thresh\n",
    "        self.gamma = gamma\n",
    "\n",
    "        self.in_weight = nn.Parameter(torch.randn((n_mini_cols, input_size)))\n",
    "        self.pred_weight = nn.Parameter(torch.randn((n_mini_cols, n_mini_cols)))\n",
    "        self.lateral_inhibition = nn.Parameter(torch.ones((n_mini_cols, n_mini_cols)) - 2*torch.eye(n_mini_cols))\n",
    "\n",
    "    def init_state(self, batch_size=1):\n",
    "        return torch.zeros((batch_size, self.n_mini_cols))\n",
    "\n",
    "    def predict(self, state):\n",
    "        actv = torch.where(state > self.thresh, torch.ones_like(state), torch.zeros_like(state))\n",
    "        return F.linear(actv, self.pred_weight)\n",
    "\n",
    "    def inhibit(self, state):\n",
    "        actv = torch.where(state > self.thresh, torch.ones_like(state), torch.zeros_like(state))\n",
    "        return F.linear(actv, self.lateral_inhibition)\n",
    "\n",
    "    def update(self, state, input):\n",
    "        pred = self.predict(state)\n",
    "        inhib = self.inhibit(state)\n",
    "        state = state + self.alpha * (input + (self.gamma * pred) - inhib)\n",
    "\n",
    "    def __call__(self, input):\n",
    "        state = self.init_state(input.shape[0])\n",
    "        input = F.linear(input, self.in_weight)\n",
    "    \n"
   ]
  },
  {
   "cell_type": "code",
   "execution_count": 18,
   "metadata": {},
   "outputs": [
    {
     "data": {
      "text/plain": [
       "torch.Size([4, 6, 27])"
      ]
     },
     "execution_count": 18,
     "metadata": {},
     "output_type": "execute_result"
    }
   ],
   "source": [
    "Sequences = [\n",
    "    ['H', 'E', 'L', 'L', 'O', '.'],\n",
    "    ['H', 'I', 'B', 'R', 'O', 'S'],\n",
    "    ['H', 'E', 'L', 'P', 'M', 'E'],\n",
    "    ['H', 'E', 'A', 'L', 'M', 'E'],\n",
    "]\n",
    "\n",
    "str2idx = {c: i for i, c in enumerate('ABCDEFGHIJKLMNOPQRSTUVWXYZ.')}\n",
    "\n",
    "def seqs2tensor(seqs):\n",
    "    return torch.tensor([[str2idx[c] for c in seq] for seq in seqs]).float()\n",
    "data = seqs2tensor(Sequences)\n",
    "data = F.one_hot(data.long()).float()\n",
    "data.shape"
   ]
  },
  {
   "cell_type": "code",
   "execution_count": null,
   "metadata": {},
   "outputs": [],
   "source": [
    "col = Column(27, 64)\n",
    "state = col.init_state(data.shape[0])"
   ]
  }
 ],
 "metadata": {
  "kernelspec": {
   "display_name": "ml-env",
   "language": "python",
   "name": "python3"
  },
  "language_info": {
   "codemirror_mode": {
    "name": "ipython",
    "version": 3
   },
   "file_extension": ".py",
   "mimetype": "text/x-python",
   "name": "python",
   "nbconvert_exporter": "python",
   "pygments_lexer": "ipython3",
   "version": "3.11.4"
  }
 },
 "nbformat": 4,
 "nbformat_minor": 2
}
