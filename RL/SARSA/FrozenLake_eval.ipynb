{
 "cells": [
  {
   "cell_type": "code",
   "execution_count": 1,
   "id": "f6f6dcb4",
   "metadata": {},
   "outputs": [],
   "source": [
    "import gym\n",
    "import numpy as np\n",
    "import time\n",
    "from Sarsa import Sarsa"
   ]
  },
  {
   "cell_type": "code",
   "execution_count": 10,
   "id": "4f543843",
   "metadata": {},
   "outputs": [
    {
     "data": {
      "text/plain": [
       "0"
      ]
     },
     "execution_count": 10,
     "metadata": {},
     "output_type": "execute_result"
    }
   ],
   "source": [
    "env=gym.make(\"FrozenLake-v1\", is_slippery=True)\n",
    "sarsa = Sarsa(env, 0.001, 0.9, epsilon=0.1)\n",
    "env.reset()"
   ]
  },
  {
   "cell_type": "code",
   "execution_count": 11,
   "id": "b310f946",
   "metadata": {},
   "outputs": [
    {
     "name": "stdout",
     "output_type": "stream",
     "text": [
      "Learnt Policy: [2 3 3 3 0 0 0 0 3 1 0 0 0 2 3 0]\n"
     ]
    }
   ],
   "source": [
    "sarsa.train(10000)\n",
    "print(f\"Learnt Policy: {sarsa.policy}\")"
   ]
  },
  {
   "cell_type": "code",
   "execution_count": 12,
   "id": "0847d7fd",
   "metadata": {},
   "outputs": [
    {
     "name": "stdout",
     "output_type": "stream",
     "text": [
      "mean reward: 0.42778\n"
     ]
    }
   ],
   "source": [
    "#  Evaluate. Max Reward = 1.0\n",
    "total_rewards = []\n",
    "for i in range(50000):\n",
    "    total_reward = 0.0\n",
    "    state = env.reset()\n",
    "    done = False\n",
    "    while not done:\n",
    "        action = sarsa.act(state)\n",
    "        state, reward, done, _ =env.step(action)\n",
    "        total_reward += reward\n",
    "        # env.render()\n",
    "        # time.sleep(2)\n",
    "    total_rewards.append(reward)\n",
    "\n",
    "print(f\"mean reward: {np.array(total_rewards).mean()}\")"
   ]
  },
  {
   "cell_type": "code",
   "execution_count": 88,
   "id": "f574f0c1",
   "metadata": {},
   "outputs": [],
   "source": [
    "env.close()"
   ]
  }
 ],
 "metadata": {
  "kernelspec": {
   "display_name": "ml-env",
   "language": "python",
   "name": "python3"
  },
  "language_info": {
   "codemirror_mode": {
    "name": "ipython",
    "version": 3
   },
   "file_extension": ".py",
   "mimetype": "text/x-python",
   "name": "python",
   "nbconvert_exporter": "python",
   "pygments_lexer": "ipython3",
   "version": "3.7.15"
  },
  "vscode": {
   "interpreter": {
    "hash": "ebc7c8a3c5c4a81c6d3df3c7c091e8d1ec5b9d2aff4d30dfde49ec05d4a72c2e"
   }
  }
 },
 "nbformat": 4,
 "nbformat_minor": 5
}
