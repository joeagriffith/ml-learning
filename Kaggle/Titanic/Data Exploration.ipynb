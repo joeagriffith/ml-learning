{
 "cells": [
  {
   "cell_type": "code",
   "execution_count": 1,
   "id": "02421e32",
   "metadata": {},
   "outputs": [],
   "source": [
    "import numpy as np\n",
    "import matplotlib.pyplot as plt\n",
    "import pandas as pd"
   ]
  },
  {
   "cell_type": "code",
   "execution_count": 2,
   "id": "12de93ca",
   "metadata": {},
   "outputs": [],
   "source": [
    "# Load dataset\n",
    "train_df = pd.read_csv('data/train.csv', delimiter=\",\")"
   ]
  },
  {
   "cell_type": "code",
   "execution_count": 54,
   "id": "86158209",
   "metadata": {},
   "outputs": [
    {
     "data": {
      "text/plain": [
       "0.5"
      ]
     },
     "execution_count": 54,
     "metadata": {},
     "output_type": "execute_result"
    }
   ],
   "source": [
    "# balance xy into even Survived/Died\n",
    "g = xy.groupby('Survived')\n",
    "xy = pd.DataFrame(g.apply(lambda x: x.sample(g.size().min()).reset_index(drop=True)))"
   ]
  },
  {
   "cell_type": "code",
   "execution_count": 23,
   "id": "89253570",
   "metadata": {},
   "outputs": [
    {
     "data": {
      "text/plain": [
       "<BarContainer object of 3 artists>"
      ]
     },
     "execution_count": 23,
     "metadata": {},
     "output_type": "execute_result"
    },
    {
     "data": {
      "image/png": "[encoded data removed]",
      "text/plain": [
       "<Figure size 432x288 with 1 Axes>"
      ]
     },
     "metadata": {
      "needs_background": "light"
     },
     "output_type": "display_data"
    }
   ],
   "source": [
    "# Class x Survival_rate \n",
    "ys = np.array(xy[\"Survived\"])\n",
    "xs = np.array(xy[\"Pclass\"])\n",
    "\n",
    "totals = np.zeros(3)\n",
    "y = np.zeros(3)\n",
    "x = np.arange(3)\n",
    "\n",
    "for i in range(len(xs)):\n",
    "    totals[xs[i]-1] += 1\n",
    "    if ys[i] == 1:\n",
    "        y[xs[i]-1] += 1\n",
    "        \n",
    "y = y / totals * 100.0\n",
    "\n",
    "labels = ['First', 'Second', 'Third']\n",
    "\n",
    "plt.bar(x, y, tick_label=labels)"
   ]
  },
  {
   "cell_type": "code",
   "execution_count": 38,
   "id": "2b27a872",
   "metadata": {},
   "outputs": [
    {
     "data": {
      "text/plain": [
       "<BarContainer object of 2 artists>"
      ]
     },
     "execution_count": 38,
     "metadata": {},
     "output_type": "execute_result"
    },
    {
     "data": {
      "image/png": "[encoded data removed]",
      "text/plain": [
       "<Figure size 432x288 with 1 Axes>"
      ]
     },
     "metadata": {
      "needs_background": "light"
     },
     "output_type": "display_data"
    }
   ],
   "source": [
    "# Sex x Survival_rate\n",
    "ys = np.array(xy[\"Survived\"])\n",
    "xs = np.array(xy[\"Sex\"])\n",
    "\n",
    "sex = np.arange(2)\n",
    "total = np.zeros(2)\n",
    "survived = np.zeros(2)\n",
    "y = np.zeros(2)\n",
    "labels = [\"male\", \"female\"]\n",
    "\n",
    "for i, x in enumerate(xs):\n",
    "    if x == labels[0]:\n",
    "        total[0] += 1\n",
    "        if ys[i] == 1:\n",
    "            survived[0] += 1\n",
    "    elif x == labels[1]:\n",
    "        total[1] += 1\n",
    "        if ys[i] == 1:\n",
    "            survived[1] += 1\n",
    "    else:\n",
    "        print('Erroneous sex:', x)\n",
    "        \n",
    "survived = survived / total * 100\n",
    "\n",
    "\n",
    "plt.bar(sex, survived, tick_label=labels)"
   ]
  },
  {
   "cell_type": "code",
   "execution_count": 94,
   "id": "7541934a",
   "metadata": {},
   "outputs": [
    {
     "data": {
      "text/plain": [
       "<BarContainer object of 1 artists>"
      ]
     },
     "execution_count": 94,
     "metadata": {},
     "output_type": "execute_result"
    },
    {
     "data": {
      "image/png": "[encoded data removed]",
      "text/plain": [
       "<Figure size 432x288 with 1 Axes>"
      ]
     },
     "metadata": {
      "needs_background": "light"
     },
     "output_type": "display_data"
    }
   ],
   "source": [
    "# Age x Survival_rate\n",
    "ys = np.array(xy[\"Survived\"])\n",
    "xs = np.array(xy[\"Age\"])\n",
    "\n",
    "bin_width = 7\n",
    "max_age = 70\n",
    "y = np.zeros(int(max_age/bin_width))\n",
    "totals = np.zeros(int(max_age/bin_width))\n",
    "\n",
    "nan_total = 0\n",
    "nan_surv = 0\n",
    "\n",
    "for i, age in enumerate(xs):\n",
    "    if not np.isnan(age):\n",
    "        if age >= max_age:\n",
    "            age = max_age-1\n",
    "        totals[int(age)//bin_width] += 1\n",
    "        if ys[i] == 1:\n",
    "            y[int((age)//bin_width)] += 1\n",
    "    else:\n",
    "        nan_total += 1\n",
    "        if ys[i] == 1:\n",
    "            nan_surv += 1\n",
    "y = y / totals * 100\n",
    "\n",
    "x = np.arange(0, max_age, bin_width) + bin_width/2\n",
    "\n",
    "plt.bar(x, y, width=bin_width-1)\n",
    "plt.bar([-bin_width/2], [nan_surv/nan_total * 100], color='r', width=bin_width-1)\n",
    "#plt.bar(x, totals, width=bin_width-1)\n"
   ]
  },
  {
   "cell_type": "code",
   "execution_count": 24,
   "id": "b367efa1",
   "metadata": {},
   "outputs": [
    {
     "name": "stdout",
     "output_type": "stream",
     "text": [
      "[0. 0. 0.]\n"
     ]
    },
    {
     "data": {
      "text/plain": [
       "<BarContainer object of 3 artists>"
      ]
     },
     "execution_count": 24,
     "metadata": {},
     "output_type": "execute_result"
    },
    {
     "data": {
      "image/png": "[encoded data removed]",
      "text/plain": [
       "<Figure size 432x288 with 1 Axes>"
      ]
     },
     "metadata": {
      "needs_background": "light"
     },
     "output_type": "display_data"
    }
   ],
   "source": [
    "# {under_7, 7_and_over, unknown} x Survival\n",
    "ys = np.array(xy[\"Survived\"])\n",
    "xs = np.array(xy[\"Age\"])\n",
    "\n",
    "x = np.arange(3)\n",
    "y = np.zeros(3)\n",
    "totals = np.zeros(3)\n",
    "print(y)\n",
    "\n",
    "for i, age in enumerate(xs):\n",
    "    index = -1\n",
    "    if np.isnan(age):\n",
    "        index = 2\n",
    "    elif age >= 7:\n",
    "        index = 1\n",
    "    elif age < 7:\n",
    "        index = 0\n",
    "    else:\n",
    "        print(\"could not classify age value\")\n",
    "    totals[index] += 1\n",
    "    if ys[i] == 1:\n",
    "        y[index] += 1\n",
    "    \n",
    "y = y / totals * 100.0\n",
    "\n",
    "plt.bar(x,y)\n",
    "\n",
    "    "
   ]
  },
  {
   "cell_type": "code",
   "execution_count": 104,
   "id": "a78f6e5c",
   "metadata": {},
   "outputs": [
    {
     "data": {
      "text/plain": [
       "<BarContainer object of 2 artists>"
      ]
     },
     "execution_count": 104,
     "metadata": {},
     "output_type": "execute_result"
    },
    {
     "data": {
      "image/png": "[encoded data removed]",
      "text/plain": [
       "<Figure size 432x288 with 1 Axes>"
      ]
     },
     "metadata": {
      "needs_background": "light"
     },
     "output_type": "display_data"
    }
   ],
   "source": [
    "# Age_is_estimated x Survival_rate\n",
    "ys = np.array(xy[\"Survived\"])\n",
    "xs = np.array(xy[\"Age\"])\n",
    "\n",
    "bin_width = 4\n",
    "max_age = 96\n",
    "\n",
    "y = np.zeros(2)\n",
    "totals = np.zeros(2)\n",
    "for i, age in enumerate(xs):\n",
    "    if not np.isnan(age):\n",
    "        if age % 1 == 0:\n",
    "            totals[1] += 1\n",
    "            if ys[i] == 1:\n",
    "                y[1] += 1\n",
    "        else:\n",
    "            totals[0] += 1\n",
    "            if ys[i] == 1:\n",
    "                y[0] += 1\n",
    "y = y / totals * 100\n",
    "\n",
    "x = np.arange(2)\n",
    "\n",
    "plt.bar(x, y, tick_label=['Est', 'Known'])"
   ]
  },
  {
   "cell_type": "code",
   "execution_count": 102,
   "id": "47f8efcd",
   "metadata": {},
   "outputs": [
    {
     "name": "stderr",
     "output_type": "stream",
     "text": [
      "C:\\Users\\joegr\\AppData\\Local\\Temp/ipykernel_17916/1114444153.py:11: RuntimeWarning: invalid value encountered in true_divide\n",
      "  y = y / totals * 100\n"
     ]
    },
    {
     "data": {
      "text/plain": [
       "<BarContainer object of 9 artists>"
      ]
     },
     "execution_count": 102,
     "metadata": {},
     "output_type": "execute_result"
    },
    {
     "data": {
      "image/png": "[encoded data removed]",
      "text/plain": [
       "<Figure size 432x288 with 1 Axes>"
      ]
     },
     "metadata": {
      "needs_background": "light"
     },
     "output_type": "display_data"
    }
   ],
   "source": [
    "# sibsb x Survival rate\n",
    "ys = np.array(xy[\"Survived\"])\n",
    "xs = np.array(xy[\"SibSp\"])\n",
    "\n",
    "y = np.zeros(9)\n",
    "totals = np.zeros(9)\n",
    "for i, sibsp in enumerate(xs):\n",
    "    totals[sibsp] += 1\n",
    "    if ys[i] == 1:\n",
    "        y[sibsp] += 1\n",
    "y = y / totals * 100\n",
    "\n",
    "x = np.arange(9)\n",
    "\n",
    "plt.bar(x, y)"
   ]
  },
  {
   "cell_type": "code",
   "execution_count": 109,
   "id": "5eaeac36",
   "metadata": {},
   "outputs": [
    {
     "data": {
      "text/plain": [
       "<BarContainer object of 7 artists>"
      ]
     },
     "execution_count": 109,
     "metadata": {},
     "output_type": "execute_result"
    },
    {
     "data": {
      "image/png": "[encoded data removed]",
      "text/plain": [
       "<Figure size 432x288 with 1 Axes>"
      ]
     },
     "metadata": {
      "needs_background": "light"
     },
     "output_type": "display_data"
    }
   ],
   "source": [
    "# sibsb x Survival rate\n",
    "ys = np.array(xy[\"Survived\"])\n",
    "xs = np.array(xy[\"Parch\"])\n",
    "\n",
    "y = np.zeros(7)\n",
    "totals = np.zeros(7)\n",
    "for i, parch in enumerate(xs):\n",
    "    totals[parch] += 1\n",
    "    if ys[i] == 1:\n",
    "        y[parch] += 1\n",
    "y = y / totals * 100\n",
    "\n",
    "x = np.arange(7)\n",
    "\n",
    "plt.bar(x, y)"
   ]
  },
  {
   "cell_type": "code",
   "execution_count": 107,
   "id": "67eebd79",
   "metadata": {},
   "outputs": [
    {
     "data": {
      "text/plain": [
       "6"
      ]
     },
     "execution_count": 107,
     "metadata": {},
     "output_type": "execute_result"
    }
   ],
   "source": [
    "# sibsb x Survival rate\n",
    "ys = np.array(xy[\"Survived\"])\n",
    "xs = np.array(xy[\"Parch\"])\n",
    "\n",
    "y = np.zeros(7)\n",
    "totals = np.zeros(7)\n",
    "for i, parch in enumerate(xs):\n",
    "    totals[parch] += 1\n",
    "    if ys[i] == 1:\n",
    "        y[parch] += 1\n",
    "y = y / totals * 100\n",
    "\n",
    "x = np.arange(7)\n",
    "\n",
    "plt.bar(x, y)"
   ]
  },
  {
   "cell_type": "code",
   "execution_count": 137,
   "id": "2741a4dc",
   "metadata": {},
   "outputs": [
    {
     "name": "stderr",
     "output_type": "stream",
     "text": [
      "C:\\Users\\joegr\\AppData\\Local\\Temp/ipykernel_17916/1378999772.py:18: RuntimeWarning: invalid value encountered in true_divide\n",
      "  y = y / totals * 100\n"
     ]
    },
    {
     "data": {
      "text/plain": [
       "<BarContainer object of 60 artists>"
      ]
     },
     "execution_count": 137,
     "metadata": {},
     "output_type": "execute_result"
    },
    {
     "data": {
      "image/png": "[encoded data removed]",
      "text/plain": [
       "<Figure size 432x288 with 1 Axes>"
      ]
     },
     "metadata": {
      "needs_background": "light"
     },
     "output_type": "display_data"
    }
   ],
   "source": [
    "# Fare x Survival_rate\n",
    "ys = np.array(xy[\"Survived\"])\n",
    "xs = np.array(xy[\"Fare\"])\n",
    "\n",
    "bin_width = 10\n",
    "max_fare = 600\n",
    "thresh = 300\n",
    "\n",
    "y = np.zeros(int(max_fare/bin_width))\n",
    "totals = np.zeros(int(max_fare/bin_width))\n",
    "for i, fare in enumerate(xs):\n",
    "    if not np.isnan(fare):\n",
    "        if fare > thresh:\n",
    "            fare = thresh\n",
    "        totals[int(fare)//bin_width] += 1\n",
    "        if ys[i] == 1:\n",
    "            y[int((fare)//bin_width)] += 1\n",
    "y = y / totals * 100\n",
    "\n",
    "x = np.arange(0, max_fare, bin_width) + bin_width/2\n",
    "\n",
    "plt.bar(x, y, width=bin_width)"
   ]
  },
  {
   "cell_type": "code",
   "execution_count": 195,
   "id": "e1cc6fa5",
   "metadata": {},
   "outputs": [
    {
     "name": "stdout",
     "output_type": "stream",
     "text": [
      "Skipping a cabin\n"
     ]
    },
    {
     "data": {
      "text/plain": [
       "<BarContainer object of 8 artists>"
      ]
     },
     "execution_count": 195,
     "metadata": {},
     "output_type": "execute_result"
    },
    {
     "data": {
      "image/png": "[encoded data removed]",
      "text/plain": [
       "<Figure size 432x288 with 1 Axes>"
      ]
     },
     "metadata": {
      "needs_background": "light"
     },
     "output_type": "display_data"
    }
   ],
   "source": [
    "# Fare x Survival_rate\n",
    "new_xy = xy.loc[:,[\"Survived\", \"Cabin\"]]\n",
    "nans_xy = xy[xy[\"Cabin\"].isna()]\n",
    "new_xy = new_xy.dropna()\n",
    "ys = np.array(new_xy[\"Survived\"])\n",
    "xs = np.array(new_xy[\"Cabin\"])\n",
    "\n",
    "for i in range(len(xs)):\n",
    "    xs[i] = xs[i][0]\n",
    "    \n",
    "classes = np.arange(8)    \n",
    "survived_by_class = np.zeros(8)\n",
    "totals_by_class = np.zeros(8)\n",
    "\n",
    "\n",
    "for i, cabin in enumerate(xs):\n",
    "    cabin_class = ord(cabin) - 64\n",
    "    if cabin_class > 7:\n",
    "        print(\"Skipping a cabin\")\n",
    "        continue\n",
    "    totals_by_class[cabin_class] += 1\n",
    "    if ys[i] == 1:\n",
    "        survived_by_class[cabin_class] += 1\n",
    "\n",
    "totals_by_class[0] = len(nans_xy)\n",
    "survived_by_class[0] = np.array(nans_xy[\"Survived\"]).sum()\n",
    "\n",
    "survived_by_class = survived_by_class  / totals_by_class  * 100 \n",
    "\n",
    "labels = ['nan', 'A', 'B', 'C', 'D', 'E', 'F', 'G']\n",
    "\n",
    "plt.bar(classes, survived_by_class, tick_label = labels)"
   ]
  },
  {
   "cell_type": "code",
   "execution_count": 179,
   "id": "28862a9d",
   "metadata": {},
   "outputs": [
    {
     "data": {
      "text/plain": [
       "<BarContainer object of 3 artists>"
      ]
     },
     "execution_count": 179,
     "metadata": {},
     "output_type": "execute_result"
    },
    {
     "data": {
      "image/png": "[encoded data removed]",
      "text/plain": [
       "<Figure size 432x288 with 1 Axes>"
      ]
     },
     "metadata": {
      "needs_background": "light"
     },
     "output_type": "display_data"
    }
   ],
   "source": [
    "# Fare x Survival_rate\n",
    "ys = np.array(xy[\"Survived\"])\n",
    "xs = np.array(xy[\"Embarked\"])\n",
    "\n",
    "def embarked_to_num(emb):\n",
    "    if emb == 'S':\n",
    "        return 0\n",
    "    elif emb == 'C':\n",
    "        return 1\n",
    "    elif emb == 'Q':\n",
    "        return 2\n",
    "    else:\n",
    "        return -1\n",
    "    \n",
    "classes = np.arange(3)    \n",
    "survived_by_class = np.zeros(3)\n",
    "totals_by_class = np.zeros(3)\n",
    "\n",
    "for i, embarked in enumerate(xs):\n",
    "    class_id = embarked_to_num(embarked)\n",
    "    totals_by_class[class_id] += 1\n",
    "    if ys[i] == 1:\n",
    "        survived_by_class[class_id] += 1\n",
    "\n",
    "survived_by_class = survived_by_class / totals_by_class * 100\n",
    "\n",
    "labels = ['S', 'C', 'Q']\n",
    "\n",
    "plt.bar(classes, survived_by_class, tick_label=labels)"
   ]
  },
  {
   "cell_type": "code",
   "execution_count": 207,
   "id": "b7b20adb",
   "metadata": {},
   "outputs": [
    {
     "data": {
      "text/plain": [
       "<BarContainer object of 9 artists>"
      ]
     },
     "execution_count": 207,
     "metadata": {},
     "output_type": "execute_result"
    },
    {
     "data": {
      "image/png": "[encoded data removed]",
      "text/plain": [
       "<Figure size 432x288 with 1 Axes>"
      ]
     },
     "metadata": {
      "needs_background": "light"
     },
     "output_type": "display_data"
    }
   ],
   "source": [
    "# Embarked&Class x Survival\n",
    "# Fare x Survival_rate\n",
    "ys = np.array(xy[\"Survived\"])\n",
    "xs = np.array(xy[[\"Embarked\", \"Pclass\"]])\n",
    "\n",
    "def embarked_to_num(emb):\n",
    "    if emb == 'S':\n",
    "        return 0\n",
    "    elif emb == 'C':\n",
    "        return 1\n",
    "    elif emb == 'Q':\n",
    "        return 2\n",
    "    else:\n",
    "        return -1\n",
    "    \n",
    "classes = np.arange(9)    \n",
    "survived_by_class = np.zeros(9)\n",
    "totals_by_class = np.zeros(9)\n",
    "\n",
    "for i, embcla in enumerate(xs):\n",
    "    #class_id = embarked_to_num(embcla[0]) + (embcla[1]-1)*3 # grouped by Pclass\n",
    "    class_id = embarked_to_num(embcla[0]) *3 + (embcla[1]-1) # grouped by Embarked\n",
    "    \n",
    "    totals_by_class[class_id] += 1\n",
    "    if ys[i] == 1:\n",
    "        survived_by_class[class_id] += 1\n",
    "\n",
    "survived_by_class = survived_by_class / totals_by_class * 100\n",
    "\n",
    "labels1 = ['S1', 'S2', 'S3', 'C1', 'C2', 'C3', 'Q1', 'Q2', 'Q3']\n",
    "labels2 = ['S1', 'C1', 'Q1', 'S2', 'C2', 'Q2', 'S3', 'C3', 'Q3']\n",
    "\n",
    "plt.bar(classes, survived_by_class, tick_label=labels1)"
   ]
  },
  {
   "cell_type": "code",
   "execution_count": 227,
   "id": "b4ae556d",
   "metadata": {},
   "outputs": [
    {
     "name": "stdout",
     "output_type": "stream",
     "text": [
      "[['male' 3]\n",
      " ['female' 1]\n",
      " ['female' 3]\n",
      " ...\n",
      " ['female' 3]\n",
      " ['male' 1]\n",
      " ['male' 3]]\n",
      "[45. 17. 47. 91. 70. 72.]\n",
      "[122. 108. 347.  94.  76. 144.]\n"
     ]
    },
    {
     "data": {
      "text/plain": [
       "<BarContainer object of 6 artists>"
      ]
     },
     "execution_count": 227,
     "metadata": {},
     "output_type": "execute_result"
    },
    {
     "data": {
      "image/png": "[encoded data removed]",
      "text/plain": [
       "<Figure size 432x288 with 1 Axes>"
      ]
     },
     "metadata": {
      "needs_background": "light"
     },
     "output_type": "display_data"
    }
   ],
   "source": [
    "# Sex&Class x Survival\n",
    "# Fare x Survival_rate\n",
    "ys = np.array(xy[\"Survived\"])\n",
    "xs = np.array(xy[[\"Sex\", \"Pclass\"]])\n",
    "print(xs)\n",
    "\n",
    "def sex_to_num(sex):\n",
    "    if sex == 'male':\n",
    "        return 0\n",
    "    elif sex == 'female':\n",
    "        return 1\n",
    "    else:\n",
    "        return -1\n",
    "    \n",
    "classes = np.arange(6)    \n",
    "survived_by_class = np.zeros(6)\n",
    "totals_by_class = np.zeros(6)\n",
    "\n",
    "for i, sex_class in enumerate(xs):\n",
    "    #class_id = sex_to_num(sex_class[0]) + (sex_class[1]-1)*2 # grouped by Pclass\n",
    "    class_id = (sex_to_num(sex_class[0])*3) + (sex_class[1]-1) # grouped by Sex\n",
    "    \n",
    "    totals_by_class[class_id] += 1\n",
    "    if ys[i] == 1:\n",
    "        survived_by_class[class_id] += 1\n",
    "print(survived_by_class)\n",
    "print(totals_by_class)\n",
    "\n",
    "survived_by_class = survived_by_class / totals_by_class * 100\n",
    "\n",
    "labels1 = ['M1', 'M2', 'M3', 'F1', 'F2', 'F3']\n",
    "labels2 = ['M1', 'F1', 'M2', 'F2', 'M3', 'F3']\n",
    "\n",
    "plt.bar(classes, survived_by_class, tick_label=labels1)"
   ]
  },
  {
   "cell_type": "code",
   "execution_count": null,
   "id": "e954d421",
   "metadata": {},
   "outputs": [],
   "source": []
  },
  {
   "cell_type": "code",
   "execution_count": null,
   "id": "7223728a",
   "metadata": {},
   "outputs": [],
   "source": []
  }
 ],
 "metadata": {
  "kernelspec": {
   "display_name": "Python 3 (ipykernel)",
   "language": "python",
   "name": "python3"
  },
  "language_info": {
   "codemirror_mode": {
    "name": "ipython",
    "version": 3
   },
   "file_extension": ".py",
   "mimetype": "text/x-python",
   "name": "python",
   "nbconvert_exporter": "python",
   "pygments_lexer": "ipython3",
   "version": "3.9.7"
  }
 },
 "nbformat": 4,
 "nbformat_minor": 5
}
