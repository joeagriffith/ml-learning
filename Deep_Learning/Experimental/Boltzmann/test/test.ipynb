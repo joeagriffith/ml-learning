{
 "cells": [
  {
   "cell_type": "code",
   "execution_count": 1,
   "metadata": {},
   "outputs": [],
   "source": [
    "import torch\n",
    "import torch.nn as nn\n",
    "import torch.nn.functional as F\n",
    "import torchvision.transforms as transforms\n",
    "import torchvision.datasets as datasets\n",
    "from Deep_Learning.Experimental.Boltzmann.train import train, eval\n",
    "from Deep_Learning.Experimental.Boltzmann.model import FCBoltzmannModel\n",
    "from Utils.dataset import PreloadedDataset"
   ]
  },
  {
   "cell_type": "code",
   "execution_count": 2,
   "metadata": {},
   "outputs": [],
   "source": [
    "eval_criterion=nn.MSELoss()\n",
    "model = FCBoltzmannModel(2, 2, [1])\n",
    "step = 0"
   ]
  },
  {
   "cell_type": "code",
   "execution_count": 3,
   "metadata": {},
   "outputs": [],
   "source": [
    "def dprint(model, state):\n",
    "    print(f'state: {state}')\n",
    "    for i, layer in enumerate(model.layers):\n",
    "        print(f'layer {i}:\\nweight: {layer.weight.data}\\nbias: {layer.bias.data}\\n')\n"
   ]
  },
  {
   "cell_type": "code",
   "execution_count": 4,
   "metadata": {},
   "outputs": [
    {
     "name": "stdout",
     "output_type": "stream",
     "text": [
      "state: [tensor([[1., 1.]]), tensor([[1.]]), tensor([[0., 1.]])]\n",
      "layer 0:\n",
      "weight: tensor([[0.5742, 0.2785]])\n",
      "bias: tensor([-0.0741])\n",
      "\n",
      "layer 1:\n",
      "weight: tensor([[-0.8293],\n",
      "        [ 0.2271]])\n",
      "bias: tensor([0.4036, 0.3866])\n",
      "\n"
     ]
    }
   ],
   "source": [
    "state = [torch.tensor([[1.0, 1.0]]), torch.tensor([[1.0]]), torch.tensor([[0.0, 1.0]])]\n",
    "dprint(model, state)"
   ]
  },
  {
   "cell_type": "code",
   "execution_count": 5,
   "metadata": {},
   "outputs": [
    {
     "name": "stdout",
     "output_type": "stream",
     "text": [
      "energy_gap: -1.059\n",
      "p_1: 0.257\n",
      "0.2578\n"
     ]
    }
   ],
   "source": [
    "updateds = 0\n",
    "nums = 10000\n",
    "layer_i = 2\n",
    "node_i = 0\n",
    "temperature = 1.0\n",
    "for i in range(nums):\n",
    "    energy_gap = model._energy_gap(state, layer_i, node_i)\n",
    "    p_1 = 1.0 / (1 + (-energy_gap/temperature).exp())\n",
    "    activation = (p_1 > torch.rand(p_1.shape)).float()\n",
    "    updated = not torch.equal(state[layer_i][:,node_i], activation)\n",
    "    updateds += updated\n",
    "    if i == 0:\n",
    "        print(f'energy_gap: {energy_gap.item():.3f}')\n",
    "        print(f'p_1: {p_1.item():.3f}')\n",
    "print(updateds/nums)\n"
   ]
  },
  {
   "cell_type": "code",
   "execution_count": 6,
   "metadata": {},
   "outputs": [
    {
     "name": "stdout",
     "output_type": "stream",
     "text": [
      "0.0\n"
     ]
    },
    {
     "data": {
      "text/plain": [
       "[tensor([[1., 1.]]), tensor([[1.]]), tensor([[0., 1.]])]"
      ]
     },
     "execution_count": 6,
     "metadata": {},
     "output_type": "execute_result"
    }
   ],
   "source": [
    "updateds = 0\n",
    "nums = 1\n",
    "rands = []\n",
    "for i in range(nums):\n",
    "    state = [torch.tensor([[1.0, 1.0]]), torch.tensor([[1.0]]), torch.tensor([[0.0, 1.0]])]\n",
    "    if i == 1000:\n",
    "        debug = True\n",
    "    else:\n",
    "        debug = False\n",
    "    updated = model._update_node(state, layer_i, node_i, temperature = 1.0, debug=debug)\n",
    "   \n",
    "    # energy_gap = model._energy_gap(state, layer_i, node_i)\n",
    "    # p_1 = 1.0 / (1 + (-energy_gap/temperature).exp())\n",
    "    # rand = torch.rand(p_1.shape)\n",
    "    # activation = (p_1 > rand).float()\n",
    "    # updated = not torch.equal(state[layer_i][:,node_i], activation)\n",
    "    # if debug:\n",
    "    #     print(f'energy_gap: {energy_gap}')\n",
    "    #     print(f'p_1: {p_1}')\n",
    "    #     print(f'rand: {rand}')\n",
    "    #     print(f'activation: {activation}')\n",
    "\n",
    "\n",
    "    updateds += updated\n",
    "\n",
    "print(updateds/nums)\n",
    "state"
   ]
  },
  {
   "cell_type": "code",
   "execution_count": 21,
   "metadata": {},
   "outputs": [],
   "source": [
    "model = FCBoltzmannModel(728, 32, [256])\n",
    "x = torch.randint(0, 1, (1, 728)).float()\n",
    "for _ in range(5):\n",
    "    out = model(x, max_steps=20, temp_coeffs=(2.0, 2.0))"
   ]
  }
 ],
 "metadata": {
  "kernelspec": {
   "display_name": "ml-env",
   "language": "python",
   "name": "python3"
  },
  "language_info": {
   "codemirror_mode": {
    "name": "ipython",
    "version": 3
   },
   "file_extension": ".py",
   "mimetype": "text/x-python",
   "name": "python",
   "nbconvert_exporter": "python",
   "pygments_lexer": "ipython3",
   "version": "3.7.15"
  },
  "orig_nbformat": 4
 },
 "nbformat": 4,
 "nbformat_minor": 2
}
