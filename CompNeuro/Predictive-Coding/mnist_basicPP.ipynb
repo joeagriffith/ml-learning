{
 "cells": [
  {
   "cell_type": "code",
   "execution_count": 1,
   "metadata": {},
   "outputs": [
    {
     "name": "stderr",
     "output_type": "stream",
     "text": [
      "c:\\Users\\joeag\\AppData\\Local\\Programs\\Python\\Python310\\lib\\site-packages\\tqdm\\auto.py:22: TqdmWarning: IProgress not found. Please update jupyter and ipywidgets. See https://ipywidgets.readthedocs.io/en/stable/user_install.html\n",
      "  from .autonotebook import tqdm as notebook_tqdm\n"
     ]
    }
   ],
   "source": [
    "import torch\n",
    "import torch.nn as nn\n",
    "import torchvision.datasets as datasets\n",
    "import torchvision.transforms as transforms\n",
    "from torch.utils.data import DataLoader\n",
    "import torch.nn.functional as F\n",
    "from tqdm import tqdm\n",
    "from CustomDataset import PreloadedDataset\n",
    "import matplotlib.pyplot as plt"
   ]
  },
  {
   "cell_type": "code",
   "execution_count": 2,
   "metadata": {},
   "outputs": [
    {
     "data": {
      "text/plain": [
       "'cuda'"
      ]
     },
     "execution_count": 2,
     "metadata": {},
     "output_type": "execute_result"
    }
   ],
   "source": [
    "device = \"cuda\" if torch.cuda.is_available() else \"cpu\"\n",
    "device"
   ]
  },
  {
   "cell_type": "code",
   "execution_count": 3,
   "metadata": {},
   "outputs": [
    {
     "name": "stderr",
     "output_type": "stream",
     "text": [
      "c:\\Users\\joeag\\AppData\\Local\\Programs\\Python\\Python310\\lib\\site-packages\\torch\\nn\\functional.py:1960: UserWarning: nn.functional.sigmoid is deprecated. Use torch.sigmoid instead.\n",
      "  warnings.warn(\"nn.functional.sigmoid is deprecated. Use torch.sigmoid instead.\")\n"
     ]
    },
    {
     "data": {
      "image/png": "[encoded data removed]",
      "text/plain": [
       "<Figure size 1500x300 with 5 Axes>"
      ]
     },
     "metadata": {},
     "output_type": "display_data"
    }
   ],
   "source": [
    "VAL_RATIO = 0.2\n",
    "\n",
    "transform = transforms.Compose([\n",
    "    transforms.ToTensor(),\n",
    "    transforms.Normalize((0.1307,), (0.3081,)),\n",
    "    # Scale(255.0),\n",
    "    # transforms.RandomHorizontalFlip(p=0.5),\n",
    "    # transforms.RandomAffine(degrees=20, translate=(0.15,0.15), scale=(0.90,1.10)),\n",
    "])\n",
    "\n",
    "dataset = datasets.MNIST(root=\"../../../datasets/\", train=True, transform=transforms.ToTensor(), download=True)\n",
    "val_len = int(len(dataset) * VAL_RATIO)\n",
    "train_len = len(dataset) - val_len\n",
    "train_dataset, val_dataset = torch.utils.data.random_split(dataset, [train_len, val_len])\n",
    "train_dataset = PreloadedDataset.from_dataset(train_dataset, transform, device)\n",
    "val_dataset = PreloadedDataset.from_dataset(val_dataset, transforms.ToTensor(), device)\n",
    "INPUT_SHAPE = train_dataset[0][0].shape\n",
    "NUM_CLASSES = 10\n",
    "\n",
    "# Display some images\n",
    "fig, axes = plt.subplots(1, 5, figsize=(15, 3))\n",
    "for i, ax in enumerate(axes):\n",
    "    ax.imshow(F.sigmoid(train_dataset[i][0]).cpu().numpy().squeeze(), cmap=\"gray\")\n",
    "    ax.set_title(train_dataset[i][1])\n",
    "    ax.axis(\"off\")\n",
    "\n",
    "plt.show()"
   ]
  },
  {
   "cell_type": "code",
   "execution_count": 422,
   "metadata": {},
   "outputs": [],
   "source": [
    "class Layer(nn.Module):\n",
    "    def __init__(self, in_features, out_features, activation='sigmoid', lr=0.1, lateral=True):\n",
    "        super(Layer, self).__init__()\n",
    "\n",
    "        self.in_features = in_features\n",
    "        self.out_features = out_features\n",
    "        self.lr = lr\n",
    "        self.has_lateral = lateral\n",
    "\n",
    "        self.bottom_up = nn.Linear(in_features, out_features, bias=False)\n",
    "        # self.bottom_up.weight.data = F.sigmoid(self.bottom_up.weight.data)\n",
    "        self.top_down = nn.Linear(out_features, in_features, bias=True)\n",
    "        # self.top_down.weight.data = F.sigmoid(self.top_down.weight.data)\n",
    "        if lateral:\n",
    "            self.lateral = nn.Linear(out_features, out_features, bias=False)\n",
    "            self.lateral.weight.data = F.sigmoid(self.lateral.weight.data)\n",
    "\n",
    "\n",
    "        if activation == 'sigmoid':\n",
    "            self.activation = nn.Sigmoid()\n",
    "        elif activation == 'relu':\n",
    "            self.activation = nn.ReLU()\n",
    "        else:\n",
    "            self.activation = None\n",
    "\n",
    "        self.error = None\n",
    "        self.belief = None\n",
    "\n",
    "    def update_params(self, lr=0.01, reg=0.1):\n",
    "        self.bottom_up.weight.data += (lr * (1.0-reg) / self.belief.shape[0]) * (self.belief.t() @ self.error)\n",
    "        self.top_down.weight.data += (lr * (1.0-reg) / self.belief.shape[0]) * (self.error.t() @ self.belief)\n",
    "        if reg > 0.0:\n",
    "            self.bottom_up.weight.data -= lr * reg * self.bottom_up.weight.data\n",
    "            self.top_down.weight.data -= lr * reg * self.top_down.weight.data\n",
    "\n",
    "        self.top_down.bias.data += lr * self.error.mean(dim=0)\n",
    "\n",
    "        if self.has_lateral:\n",
    "            self.lateral.weight.data += (lr/self.belief.shape[0]) * self.belief.t() @ self.belief\n",
    "\n",
    "    def init_state(self, batch_size, random=True, device='cpu'):\n",
    "        if random:\n",
    "            self.error = torch.randn(batch_size, self.in_features).to(device)\n",
    "            self.belief = torch.randn(batch_size, self.out_features).to(device)\n",
    "        else:\n",
    "            self.error = torch.zeros(batch_size, self.in_features).to(device)\n",
    "            self.belief = torch.zeros(batch_size, self.out_features).to(device)\n",
    "\n",
    "        if self.activation is not None:\n",
    "            self.belief = self.activation(self.belief)\n",
    "        \n",
    "    def forward(self, bottom_up_belief, top_down_error=None):\n",
    "\n",
    "        self.error += self.lr * (bottom_up_belief - self.activation(self.top_down(self.belief)))\n",
    "\n",
    "        self.belief += self.lr * self.bottom_up(self.error)\n",
    "        if self.has_lateral:\n",
    "            self.belief -= self.lr * self.lateral(self.belief)\n",
    "        if top_down_error is not None:\n",
    "            self.belief -= self.lr * top_down_error\n",
    "\n",
    "    \n",
    "\n",
    "    "
   ]
  },
  {
   "cell_type": "code",
   "execution_count": 423,
   "metadata": {},
   "outputs": [],
   "source": [
    "class Model(nn.Module):\n",
    "    def __init__(self, sizes, activation='sigmoid', lr=0.1, steps=20, lateral=True):\n",
    "        super(Model, self).__init__()\n",
    "        self.sizes = sizes\n",
    "        self.depth = len(sizes)\n",
    "        self.activation = activation\n",
    "        self.lr = lr\n",
    "        self.steps = steps\n",
    "\n",
    "        self.layers = nn.ModuleList()\n",
    "        for i in range(self.depth-1):\n",
    "            self.layers.append(Layer(self.sizes[i], self.sizes[i+1], self.activation, self.lr, lateral=lateral))\n",
    "\n",
    "    def update_params(self, lr=0.01, reg=0.1):\n",
    "        for i in range(self.depth-1):\n",
    "            self.layers[i].update_params(lr, reg)\n",
    "\n",
    "    def update(self, x, y=None):\n",
    "        self.layers[0](x)\n",
    "        for i in range(1, self.depth-1):\n",
    "            if i < self.depth-2:\n",
    "                self.layers[i](self.layers[i-1].belief, self.layers[i+1].error)\n",
    "            else:\n",
    "                self.layers[i](self.layers[i-1].belief)  # pass noise as td_error?\n",
    "                if y is not None:\n",
    "                    self.layers[i].belief = y\n",
    "\n",
    "    def forward(self, x, y=None, steps=None):\n",
    "        if steps is None:\n",
    "            steps = self.steps\n",
    "\n",
    "        for i in range(self.depth-1):\n",
    "            self.layers[i].init_state(x.shape[0], device=x.device)\n",
    "        \n",
    "        for step_i in range(steps):\n",
    "            self.update(x, y)\n",
    "\n",
    "    @property\n",
    "    def output(self):\n",
    "        return self.layers[-1].belief\n",
    "\n",
    "    @property\n",
    "    def error(self):\n",
    "        error = 0\n",
    "        for i in range(self.depth-1):\n",
    "            error += self.layers[i].error.square().mean()\n",
    "        return error / (self.depth-1)\n",
    "\n"
   ]
  },
  {
   "cell_type": "code",
   "execution_count": 424,
   "metadata": {},
   "outputs": [],
   "source": [
    "def eval(model, dataset, batch_size=256):\n",
    "    dataloader = DataLoader(dataset, batch_size=batch_size, shuffle=True)\n",
    "    loss = 0\n",
    "    for x, y in dataloader:\n",
    "        x = x.flatten(start_dim=1)\n",
    "        with torch.no_grad():\n",
    "            model(x)\n",
    "        y_pred = model.output\n",
    "        loss += F.cross_entropy(y_pred, y, reduction='sum').item()\n",
    "    return loss / len(dataset)\n",
    "\n",
    "\n",
    "def train(model, train_dataset, val_dataset, batch_size, lr, reg, epochs, errors, losses, steps=20):\n",
    "\n",
    "    for epoch in range(epochs):\n",
    "        train_dataloader = DataLoader(train_dataset, batch_size=batch_size, shuffle=True)\n",
    "        error = 0\n",
    "        loop = tqdm(train_dataloader, leave=False, total=len(train_dataloader))\n",
    "        if epoch > 0:\n",
    "            loop.set_description('Epoch {}/{}'.format(epoch, epochs))\n",
    "            loop.set_postfix(loss=losses[-1], error=errors[-1])\n",
    "        for x, y in loop:\n",
    "            x = x.flatten(start_dim=1)\n",
    "            y = F.one_hot(y, num_classes=10).float()\n",
    "            with torch.no_grad():\n",
    "                model(x, y, steps=steps)\n",
    "            y_pred = model.output\n",
    "            model.update_params(lr, reg)\n",
    "            error += model.error\n",
    "\n",
    "        loss = eval(model, val_dataset)\n",
    "        errors.append(error/len(train_dataloader))\n",
    "        losses.append(loss/len(train_dataloader))\n",
    "\n",
    "    return errors, losses"
   ]
  },
  {
   "cell_type": "code",
   "execution_count": 425,
   "metadata": {},
   "outputs": [],
   "source": [
    "LATERAL = False\n",
    "model = Model([784, 100, 10], lateral=LATERAL, lr=0.1, activation='sigmoid').to(device)\n",
    "errors = []\n",
    "losses = []"
   ]
  },
  {
   "cell_type": "code",
   "execution_count": 455,
   "metadata": {},
   "outputs": [
    {
     "name": "stdout",
     "output_type": "stream",
     "text": [
      "1.9531033039093018\n"
     ]
    },
    {
     "data": {
      "text/plain": [
       "(tensor(0.0535, device='cuda:0'), tensor(0.1168, device='cuda:0'))"
      ]
     },
     "execution_count": 455,
     "metadata": {},
     "output_type": "execute_result"
    }
   ],
   "source": [
    "num = 10000\n",
    "x = train_dataset[0:num][0].flatten(start_dim=1)\n",
    "y = F.one_hot(train_dataset[0:num][1], num_classes=10).float()\n",
    "\n",
    "with torch.no_grad():\n",
    "    model(x,y=y, steps=10)\n",
    "print(model.error.item())\n",
    "model.update_params(lr=3e-4, reg=0.1)\n",
    "model.layers[0].bottom_up.weight.data.abs().max(), model.layers[0].top_down.weight.data.abs().max()\n"
   ]
  },
  {
   "cell_type": "code",
   "execution_count": 758,
   "metadata": {},
   "outputs": [
    {
     "name": "stderr",
     "output_type": "stream",
     "text": [
      "                                                                                                                \r"
     ]
    },
    {
     "ename": "KeyboardInterrupt",
     "evalue": "",
     "output_type": "error",
     "traceback": [
      "\u001b[1;31m---------------------------------------------------------------------------\u001b[0m",
      "\u001b[1;31mKeyboardInterrupt\u001b[0m                         Traceback (most recent call last)",
      "\u001b[1;32mc:\\Users\\joeag\\Documents\\ml-learning\\CompNeuro\\Predictive-Coding\\mnist_basicPP.ipynb Cell 9\u001b[0m in \u001b[0;36m6\n\u001b[0;32m      <a href='vscode-notebook-cell:/c%3A/Users/joeag/Documents/ml-learning/CompNeuro/Predictive-Coding/mnist_basicPP.ipynb#X24sZmlsZQ%3D%3D?line=3'>4</a>\u001b[0m STEPS\u001b[39m=\u001b[39m\u001b[39m2\u001b[39m\n\u001b[0;32m      <a href='vscode-notebook-cell:/c%3A/Users/joeag/Documents/ml-learning/CompNeuro/Predictive-Coding/mnist_basicPP.ipynb#X24sZmlsZQ%3D%3D?line=4'>5</a>\u001b[0m REG\u001b[39m=\u001b[39m\u001b[39m0.2\u001b[39m\n\u001b[1;32m----> <a href='vscode-notebook-cell:/c%3A/Users/joeag/Documents/ml-learning/CompNeuro/Predictive-Coding/mnist_basicPP.ipynb#X24sZmlsZQ%3D%3D?line=5'>6</a>\u001b[0m errors, losses \u001b[39m=\u001b[39m train(model, train_dataset, val_dataset, BATCH_SIZE, LR, REG, EPOCHS, errors, losses, STEPS)\n\u001b[0;32m      <a href='vscode-notebook-cell:/c%3A/Users/joeag/Documents/ml-learning/CompNeuro/Predictive-Coding/mnist_basicPP.ipynb#X24sZmlsZQ%3D%3D?line=7'>8</a>\u001b[0m fig, ax \u001b[39m=\u001b[39m plt\u001b[39m.\u001b[39msubplots(\u001b[39m1\u001b[39m, \u001b[39m2\u001b[39m, figsize\u001b[39m=\u001b[39m(\u001b[39m15\u001b[39m, \u001b[39m5\u001b[39m))\n\u001b[0;32m      <a href='vscode-notebook-cell:/c%3A/Users/joeag/Documents/ml-learning/CompNeuro/Predictive-Coding/mnist_basicPP.ipynb#X24sZmlsZQ%3D%3D?line=8'>9</a>\u001b[0m ax[\u001b[39m0\u001b[39m]\u001b[39m.\u001b[39mplot(errors)\n",
      "\u001b[1;32mc:\\Users\\joeag\\Documents\\ml-learning\\CompNeuro\\Predictive-Coding\\mnist_basicPP.ipynb Cell 9\u001b[0m in \u001b[0;36m2\n\u001b[0;32m     <a href='vscode-notebook-cell:/c%3A/Users/joeag/Documents/ml-learning/CompNeuro/Predictive-Coding/mnist_basicPP.ipynb#X24sZmlsZQ%3D%3D?line=23'>24</a>\u001b[0m y \u001b[39m=\u001b[39m F\u001b[39m.\u001b[39mone_hot(y, num_classes\u001b[39m=\u001b[39m\u001b[39m10\u001b[39m)\u001b[39m.\u001b[39mfloat()\n\u001b[0;32m     <a href='vscode-notebook-cell:/c%3A/Users/joeag/Documents/ml-learning/CompNeuro/Predictive-Coding/mnist_basicPP.ipynb#X24sZmlsZQ%3D%3D?line=24'>25</a>\u001b[0m \u001b[39mwith\u001b[39;00m torch\u001b[39m.\u001b[39mno_grad():\n\u001b[1;32m---> <a href='vscode-notebook-cell:/c%3A/Users/joeag/Documents/ml-learning/CompNeuro/Predictive-Coding/mnist_basicPP.ipynb#X24sZmlsZQ%3D%3D?line=25'>26</a>\u001b[0m     model(x, y, steps\u001b[39m=\u001b[39;49msteps)\n\u001b[0;32m     <a href='vscode-notebook-cell:/c%3A/Users/joeag/Documents/ml-learning/CompNeuro/Predictive-Coding/mnist_basicPP.ipynb#X24sZmlsZQ%3D%3D?line=26'>27</a>\u001b[0m y_pred \u001b[39m=\u001b[39m model\u001b[39m.\u001b[39moutput\n\u001b[0;32m     <a href='vscode-notebook-cell:/c%3A/Users/joeag/Documents/ml-learning/CompNeuro/Predictive-Coding/mnist_basicPP.ipynb#X24sZmlsZQ%3D%3D?line=27'>28</a>\u001b[0m model\u001b[39m.\u001b[39mupdate_params(lr, reg)\n",
      "File \u001b[1;32mc:\\Users\\joeag\\AppData\\Local\\Programs\\Python\\Python310\\lib\\site-packages\\torch\\nn\\modules\\module.py:1130\u001b[0m, in \u001b[0;36mModule._call_impl\u001b[1;34m(self, *input, **kwargs)\u001b[0m\n\u001b[0;32m   1126\u001b[0m \u001b[39m# If we don't have any hooks, we want to skip the rest of the logic in\u001b[39;00m\n\u001b[0;32m   1127\u001b[0m \u001b[39m# this function, and just call forward.\u001b[39;00m\n\u001b[0;32m   1128\u001b[0m \u001b[39mif\u001b[39;00m \u001b[39mnot\u001b[39;00m (\u001b[39mself\u001b[39m\u001b[39m.\u001b[39m_backward_hooks \u001b[39mor\u001b[39;00m \u001b[39mself\u001b[39m\u001b[39m.\u001b[39m_forward_hooks \u001b[39mor\u001b[39;00m \u001b[39mself\u001b[39m\u001b[39m.\u001b[39m_forward_pre_hooks \u001b[39mor\u001b[39;00m _global_backward_hooks\n\u001b[0;32m   1129\u001b[0m         \u001b[39mor\u001b[39;00m _global_forward_hooks \u001b[39mor\u001b[39;00m _global_forward_pre_hooks):\n\u001b[1;32m-> 1130\u001b[0m     \u001b[39mreturn\u001b[39;00m forward_call(\u001b[39m*\u001b[39m\u001b[39minput\u001b[39m, \u001b[39m*\u001b[39m\u001b[39m*\u001b[39mkwargs)\n\u001b[0;32m   1131\u001b[0m \u001b[39m# Do not call functions when jit is used\u001b[39;00m\n\u001b[0;32m   1132\u001b[0m full_backward_hooks, non_full_backward_hooks \u001b[39m=\u001b[39m [], []\n",
      "\u001b[1;32mc:\\Users\\joeag\\Documents\\ml-learning\\CompNeuro\\Predictive-Coding\\mnist_basicPP.ipynb Cell 9\u001b[0m in \u001b[0;36m3\n\u001b[0;32m     <a href='vscode-notebook-cell:/c%3A/Users/joeag/Documents/ml-learning/CompNeuro/Predictive-Coding/mnist_basicPP.ipynb#X24sZmlsZQ%3D%3D?line=29'>30</a>\u001b[0m     steps \u001b[39m=\u001b[39m \u001b[39mself\u001b[39m\u001b[39m.\u001b[39msteps\n\u001b[0;32m     <a href='vscode-notebook-cell:/c%3A/Users/joeag/Documents/ml-learning/CompNeuro/Predictive-Coding/mnist_basicPP.ipynb#X24sZmlsZQ%3D%3D?line=31'>32</a>\u001b[0m \u001b[39mfor\u001b[39;00m i \u001b[39min\u001b[39;00m \u001b[39mrange\u001b[39m(\u001b[39mself\u001b[39m\u001b[39m.\u001b[39mdepth\u001b[39m-\u001b[39m\u001b[39m1\u001b[39m):\n\u001b[1;32m---> <a href='vscode-notebook-cell:/c%3A/Users/joeag/Documents/ml-learning/CompNeuro/Predictive-Coding/mnist_basicPP.ipynb#X24sZmlsZQ%3D%3D?line=32'>33</a>\u001b[0m     \u001b[39mself\u001b[39;49m\u001b[39m.\u001b[39;49mlayers[i]\u001b[39m.\u001b[39;49minit_state(x\u001b[39m.\u001b[39;49mshape[\u001b[39m0\u001b[39;49m], device\u001b[39m=\u001b[39;49mx\u001b[39m.\u001b[39;49mdevice)\n\u001b[0;32m     <a href='vscode-notebook-cell:/c%3A/Users/joeag/Documents/ml-learning/CompNeuro/Predictive-Coding/mnist_basicPP.ipynb#X24sZmlsZQ%3D%3D?line=34'>35</a>\u001b[0m \u001b[39mfor\u001b[39;00m step_i \u001b[39min\u001b[39;00m \u001b[39mrange\u001b[39m(steps):\n\u001b[0;32m     <a href='vscode-notebook-cell:/c%3A/Users/joeag/Documents/ml-learning/CompNeuro/Predictive-Coding/mnist_basicPP.ipynb#X24sZmlsZQ%3D%3D?line=35'>36</a>\u001b[0m     \u001b[39mself\u001b[39m\u001b[39m.\u001b[39mupdate(x, y)\n",
      "\u001b[1;32mc:\\Users\\joeag\\Documents\\ml-learning\\CompNeuro\\Predictive-Coding\\mnist_basicPP.ipynb Cell 9\u001b[0m in \u001b[0;36m3\n\u001b[0;32m     <a href='vscode-notebook-cell:/c%3A/Users/joeag/Documents/ml-learning/CompNeuro/Predictive-Coding/mnist_basicPP.ipynb#X24sZmlsZQ%3D%3D?line=35'>36</a>\u001b[0m \u001b[39mdef\u001b[39;00m \u001b[39minit_state\u001b[39m(\u001b[39mself\u001b[39m, batch_size, random\u001b[39m=\u001b[39m\u001b[39mTrue\u001b[39;00m, device\u001b[39m=\u001b[39m\u001b[39m'\u001b[39m\u001b[39mcpu\u001b[39m\u001b[39m'\u001b[39m):\n\u001b[0;32m     <a href='vscode-notebook-cell:/c%3A/Users/joeag/Documents/ml-learning/CompNeuro/Predictive-Coding/mnist_basicPP.ipynb#X24sZmlsZQ%3D%3D?line=36'>37</a>\u001b[0m     \u001b[39mif\u001b[39;00m random:\n\u001b[1;32m---> <a href='vscode-notebook-cell:/c%3A/Users/joeag/Documents/ml-learning/CompNeuro/Predictive-Coding/mnist_basicPP.ipynb#X24sZmlsZQ%3D%3D?line=37'>38</a>\u001b[0m         \u001b[39mself\u001b[39m\u001b[39m.\u001b[39merror \u001b[39m=\u001b[39m torch\u001b[39m.\u001b[39;49mrandn(batch_size, \u001b[39mself\u001b[39;49m\u001b[39m.\u001b[39;49min_features)\u001b[39m.\u001b[39mto(device)\n\u001b[0;32m     <a href='vscode-notebook-cell:/c%3A/Users/joeag/Documents/ml-learning/CompNeuro/Predictive-Coding/mnist_basicPP.ipynb#X24sZmlsZQ%3D%3D?line=38'>39</a>\u001b[0m         \u001b[39mself\u001b[39m\u001b[39m.\u001b[39mbelief \u001b[39m=\u001b[39m torch\u001b[39m.\u001b[39mrandn(batch_size, \u001b[39mself\u001b[39m\u001b[39m.\u001b[39mout_features)\u001b[39m.\u001b[39mto(device)\n\u001b[0;32m     <a href='vscode-notebook-cell:/c%3A/Users/joeag/Documents/ml-learning/CompNeuro/Predictive-Coding/mnist_basicPP.ipynb#X24sZmlsZQ%3D%3D?line=39'>40</a>\u001b[0m     \u001b[39melse\u001b[39;00m:\n",
      "\u001b[1;31mKeyboardInterrupt\u001b[0m: "
     ]
    }
   ],
   "source": [
    "BATCH_SIZE=512\n",
    "LR=1e-3\n",
    "EPOCHS=20\n",
    "STEPS=2\n",
    "REG=0.2\n",
    "errors, losses = train(model, train_dataset, val_dataset, BATCH_SIZE, LR, REG, EPOCHS, errors, losses, STEPS)\n",
    "\n",
    "fig, ax = plt.subplots(1, 2, figsize=(15, 5))\n",
    "ax[0].plot(errors)\n",
    "ax[0].set_title('Errors')\n",
    "ax[1].plot(losses)\n",
    "ax[1].set_title('Losses')\n",
    "plt.show()\n",
    "\n"
   ]
  },
  {
   "cell_type": "code",
   "execution_count": null,
   "metadata": {},
   "outputs": [],
   "source": []
  }
 ],
 "metadata": {
  "kernelspec": {
   "display_name": "ml-env",
   "language": "python",
   "name": "python3"
  },
  "language_info": {
   "codemirror_mode": {
    "name": "ipython",
    "version": 3
   },
   "file_extension": ".py",
   "mimetype": "text/x-python",
   "name": "python",
   "nbconvert_exporter": "python",
   "pygments_lexer": "ipython3",
   "version": "3.10.7"
  },
  "orig_nbformat": 4,
  "vscode": {
   "interpreter": {
    "hash": "ebc7c8a3c5c4a81c6d3df3c7c091e8d1ec5b9d2aff4d30dfde49ec05d4a72c2e"
   }
  }
 },
 "nbformat": 4,
 "nbformat_minor": 2
}
