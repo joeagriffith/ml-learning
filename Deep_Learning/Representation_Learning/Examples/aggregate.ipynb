{
 "cells": [
  {
   "cell_type": "code",
   "execution_count": 1,
   "metadata": {},
   "outputs": [],
   "source": [
    "import shutil\n",
    "from glob import glob\n",
    "import tensorboard_reducer as tbr\n",
    "import os"
   ]
  },
  {
   "cell_type": "code",
   "execution_count": 2,
   "metadata": {},
   "outputs": [
    {
     "name": "stdout",
     "output_type": "stream",
     "text": [
      "Path Deep_Learning/Representation_Learning/Examples/MNIST/out/logs/AugPC-mnist_cnn-output/normalised-lr3e-3/classifier/ does not exist\n",
      "Path Deep_Learning/Representation_Learning/Examples/MNIST/out/logs/DINO-lrs/3e-3/classifier/ does not exist\n",
      "Found 3 event dirs:\n",
      "Deep_Learning/Representation_Learning/Examples/MNIST/out/logs/HAugPC2-stop_at-2/0/encoder\\run_1\n",
      "Deep_Learning/Representation_Learning/Examples/MNIST/out/logs/HAugPC2-stop_at-2/0/encoder\\run_2\n",
      "Deep_Learning/Representation_Learning/Examples/MNIST/out/logs/HAugPC2-stop_at-2/0/encoder\\run_3\n"
     ]
    },
    {
     "name": "stderr",
     "output_type": "stream",
     "text": [
      "Loading runs:   0%|          | 0/3 [00:00<?, ?it/s]"
     ]
    },
    {
     "name": "stderr",
     "output_type": "stream",
     "text": [
      "Loading runs: 100%|██████████| 3/3 [00:00<00:00, 72.27it/s]\n",
      "Reading tags: 100%|██████████| 3/3 [00:00<00:00, 268.49it/s]\n"
     ]
    },
    {
     "name": "stdout",
     "output_type": "stream",
     "text": [
      "Loaded 3 TensorBoard runs with 4 scalars and 250 steps each\n",
      "Reduced 4 scalars with 4 operations: (mean, min, max, std)\n",
      "Created new data file at 'Deep_Learning/Representation_Learning/Examples/MNIST/out/logs/HAugPC2-stop_at-2/0/encoder/reduction.csv'\n",
      "Reduction complete\n",
      "Found 3 event dirs:\n",
      "Deep_Learning/Representation_Learning/Examples/MNIST/out/logs/HAugPC2-stop_at-2/0/classifier\\run_1\n",
      "Deep_Learning/Representation_Learning/Examples/MNIST/out/logs/HAugPC2-stop_at-2/0/classifier\\run_2\n",
      "Deep_Learning/Representation_Learning/Examples/MNIST/out/logs/HAugPC2-stop_at-2/0/classifier\\run_3\n"
     ]
    },
    {
     "name": "stderr",
     "output_type": "stream",
     "text": [
      "Loading runs: 100%|██████████| 3/3 [00:00<00:00, 142.86it/s]\n",
      "Reading tags: 100%|██████████| 3/3 [00:00<00:00, 750.14it/s]\n"
     ]
    },
    {
     "name": "stdout",
     "output_type": "stream",
     "text": [
      "Loaded 3 TensorBoard runs with 4 scalars and 100 steps each\n",
      "Reduced 4 scalars with 4 operations: (mean, min, max, std)\n",
      "Created new data file at 'Deep_Learning/Representation_Learning/Examples/MNIST/out/logs/HAugPC2-stop_at-2/0/classifier/reduction.csv'\n",
      "Reduction complete\n",
      "Found 3 event dirs:\n",
      "Deep_Learning/Representation_Learning/Examples/MNIST/out/logs/HAugPC2-stop_at-2/1/encoder\\run_1\n",
      "Deep_Learning/Representation_Learning/Examples/MNIST/out/logs/HAugPC2-stop_at-2/1/encoder\\run_2\n",
      "Deep_Learning/Representation_Learning/Examples/MNIST/out/logs/HAugPC2-stop_at-2/1/encoder\\run_3\n"
     ]
    },
    {
     "name": "stderr",
     "output_type": "stream",
     "text": [
      "Loading runs: 100%|██████████| 3/3 [00:00<00:00, 74.05it/s]\n",
      "Reading tags: 100%|██████████| 3/3 [00:00<00:00, 749.88it/s]\n"
     ]
    },
    {
     "name": "stdout",
     "output_type": "stream",
     "text": [
      "Loaded 3 TensorBoard runs with 4 scalars and 250 steps each\n",
      "Reduced 4 scalars with 4 operations: (mean, min, max, std)\n",
      "Created new data file at 'Deep_Learning/Representation_Learning/Examples/MNIST/out/logs/HAugPC2-stop_at-2/1/encoder/reduction.csv'\n",
      "Reduction complete\n",
      "Found 3 event dirs:\n",
      "Deep_Learning/Representation_Learning/Examples/MNIST/out/logs/HAugPC2-stop_at-2/1/classifier\\run_1\n",
      "Deep_Learning/Representation_Learning/Examples/MNIST/out/logs/HAugPC2-stop_at-2/1/classifier\\run_2\n",
      "Deep_Learning/Representation_Learning/Examples/MNIST/out/logs/HAugPC2-stop_at-2/1/classifier\\run_3\n"
     ]
    },
    {
     "name": "stderr",
     "output_type": "stream",
     "text": [
      "Loading runs: 100%|██████████| 3/3 [00:00<00:00, 157.90it/s]\n",
      "Reading tags: 100%|██████████| 3/3 [00:00<00:00, 750.23it/s]\n"
     ]
    },
    {
     "name": "stdout",
     "output_type": "stream",
     "text": [
      "Loaded 3 TensorBoard runs with 4 scalars and 100 steps each\n",
      "Reduced 4 scalars with 4 operations: (mean, min, max, std)\n",
      "Created new data file at 'Deep_Learning/Representation_Learning/Examples/MNIST/out/logs/HAugPC2-stop_at-2/1/classifier/reduction.csv'\n",
      "Reduction complete\n",
      "Found 3 event dirs:\n",
      "Deep_Learning/Representation_Learning/Examples/MNIST/out/logs/HAugPC2-stop_at-2/2/encoder\\run_1\n",
      "Deep_Learning/Representation_Learning/Examples/MNIST/out/logs/HAugPC2-stop_at-2/2/encoder\\run_2\n",
      "Deep_Learning/Representation_Learning/Examples/MNIST/out/logs/HAugPC2-stop_at-2/2/encoder\\run_3\n"
     ]
    },
    {
     "name": "stderr",
     "output_type": "stream",
     "text": [
      "Loading runs: 100%|██████████| 3/3 [00:00<00:00, 75.93it/s]\n",
      "Reading tags: 100%|██████████| 3/3 [00:00<00:00, 600.07it/s]\n"
     ]
    },
    {
     "name": "stdout",
     "output_type": "stream",
     "text": [
      "Loaded 3 TensorBoard runs with 4 scalars and 250 steps each\n",
      "Reduced 4 scalars with 4 operations: (mean, min, max, std)\n",
      "Created new data file at 'Deep_Learning/Representation_Learning/Examples/MNIST/out/logs/HAugPC2-stop_at-2/2/encoder/reduction.csv'\n",
      "Reduction complete\n",
      "Found 3 event dirs:\n",
      "Deep_Learning/Representation_Learning/Examples/MNIST/out/logs/HAugPC2-stop_at-2/2/classifier\\run_1\n",
      "Deep_Learning/Representation_Learning/Examples/MNIST/out/logs/HAugPC2-stop_at-2/2/classifier\\run_2\n",
      "Deep_Learning/Representation_Learning/Examples/MNIST/out/logs/HAugPC2-stop_at-2/2/classifier\\run_3\n"
     ]
    },
    {
     "name": "stderr",
     "output_type": "stream",
     "text": [
      "Loading runs: 100%|██████████| 3/3 [00:00<00:00, 150.00it/s]\n",
      "Reading tags: 100%|██████████| 3/3 [00:00<00:00, 600.01it/s]\n"
     ]
    },
    {
     "name": "stdout",
     "output_type": "stream",
     "text": [
      "Loaded 3 TensorBoard runs with 4 scalars and 100 steps each\n",
      "Reduced 4 scalars with 4 operations: (mean, min, max, std)\n",
      "Created new data file at 'Deep_Learning/Representation_Learning/Examples/MNIST/out/logs/HAugPC2-stop_at-2/2/classifier/reduction.csv'\n",
      "Reduction complete\n",
      "Found 3 event dirs:\n",
      "Deep_Learning/Representation_Learning/Examples/MNIST/out/logs/HAugPC2-stop_at-2/3/encoder\\run_1\n",
      "Deep_Learning/Representation_Learning/Examples/MNIST/out/logs/HAugPC2-stop_at-2/3/encoder\\run_2\n",
      "Deep_Learning/Representation_Learning/Examples/MNIST/out/logs/HAugPC2-stop_at-2/3/encoder\\run_3\n"
     ]
    },
    {
     "name": "stderr",
     "output_type": "stream",
     "text": [
      "Loading runs: 100%|██████████| 3/3 [00:00<00:00, 46.51it/s]\n",
      "Reading tags: 100%|██████████| 3/3 [00:00<00:00, 750.55it/s]\n"
     ]
    },
    {
     "name": "stdout",
     "output_type": "stream",
     "text": [
      "Loaded 3 TensorBoard runs with 4 scalars and 250 steps each\n",
      "Reduced 4 scalars with 4 operations: (mean, min, max, std)\n",
      "Created new data file at 'Deep_Learning/Representation_Learning/Examples/MNIST/out/logs/HAugPC2-stop_at-2/3/encoder/reduction.csv'\n",
      "Reduction complete\n",
      "Found 3 event dirs:\n",
      "Deep_Learning/Representation_Learning/Examples/MNIST/out/logs/HAugPC2-stop_at-2/3/classifier\\run_1\n",
      "Deep_Learning/Representation_Learning/Examples/MNIST/out/logs/HAugPC2-stop_at-2/3/classifier\\run_2\n",
      "Deep_Learning/Representation_Learning/Examples/MNIST/out/logs/HAugPC2-stop_at-2/3/classifier\\run_3\n"
     ]
    },
    {
     "name": "stderr",
     "output_type": "stream",
     "text": [
      "Loading runs: 100%|██████████| 3/3 [00:00<00:00, 150.00it/s]\n",
      "Reading tags: 100%|██████████| 3/3 [00:00<00:00, 750.01it/s]\n"
     ]
    },
    {
     "name": "stdout",
     "output_type": "stream",
     "text": [
      "Loaded 3 TensorBoard runs with 4 scalars and 100 steps each\n",
      "Reduced 4 scalars with 4 operations: (mean, min, max, std)\n",
      "Created new data file at 'Deep_Learning/Representation_Learning/Examples/MNIST/out/logs/HAugPC2-stop_at-2/3/classifier/reduction.csv'\n",
      "Reduction complete\n",
      "Found 3 event dirs:\n",
      "Deep_Learning/Representation_Learning/Examples/MNIST/out/logs/HAugPC2-stop_at-2/4/encoder\\run_1\n",
      "Deep_Learning/Representation_Learning/Examples/MNIST/out/logs/HAugPC2-stop_at-2/4/encoder\\run_2\n",
      "Deep_Learning/Representation_Learning/Examples/MNIST/out/logs/HAugPC2-stop_at-2/4/encoder\\run_3\n"
     ]
    },
    {
     "name": "stderr",
     "output_type": "stream",
     "text": [
      "Loading runs: 100%|██████████| 3/3 [00:00<00:00, 75.94it/s]\n",
      "Reading tags: 100%|██████████| 3/3 [00:00<00:00, 600.36it/s]\n"
     ]
    },
    {
     "name": "stdout",
     "output_type": "stream",
     "text": [
      "Loaded 3 TensorBoard runs with 4 scalars and 250 steps each\n",
      "Reduced 4 scalars with 4 operations: (mean, min, max, std)\n",
      "Created new data file at 'Deep_Learning/Representation_Learning/Examples/MNIST/out/logs/HAugPC2-stop_at-2/4/encoder/reduction.csv'\n",
      "Reduction complete\n",
      "Found 3 event dirs:\n",
      "Deep_Learning/Representation_Learning/Examples/MNIST/out/logs/HAugPC2-stop_at-2/4/classifier\\run_1\n",
      "Deep_Learning/Representation_Learning/Examples/MNIST/out/logs/HAugPC2-stop_at-2/4/classifier\\run_2\n",
      "Deep_Learning/Representation_Learning/Examples/MNIST/out/logs/HAugPC2-stop_at-2/4/classifier\\run_3\n"
     ]
    },
    {
     "name": "stderr",
     "output_type": "stream",
     "text": [
      "Loading runs: 100%|██████████| 3/3 [00:00<00:00, 150.00it/s]\n",
      "Reading tags: 100%|██████████| 3/3 [00:00<00:00, 749.74it/s]\n"
     ]
    },
    {
     "name": "stdout",
     "output_type": "stream",
     "text": [
      "Loaded 3 TensorBoard runs with 4 scalars and 100 steps each\n",
      "Reduced 4 scalars with 4 operations: (mean, min, max, std)\n",
      "Created new data file at 'Deep_Learning/Representation_Learning/Examples/MNIST/out/logs/HAugPC2-stop_at-2/4/classifier/reduction.csv'\n",
      "Reduction complete\n",
      "Found 3 event dirs:\n",
      "Deep_Learning/Representation_Learning/Examples/MNIST/out/logs/HAugPC2-stop_at-2/5/encoder\\run_1\n",
      "Deep_Learning/Representation_Learning/Examples/MNIST/out/logs/HAugPC2-stop_at-2/5/encoder\\run_2\n",
      "Deep_Learning/Representation_Learning/Examples/MNIST/out/logs/HAugPC2-stop_at-2/5/encoder\\run_3\n"
     ]
    },
    {
     "name": "stderr",
     "output_type": "stream",
     "text": [
      "Loading runs: 100%|██████████| 3/3 [00:00<00:00, 76.92it/s]\n",
      "Reading tags: 100%|██████████| 3/3 [00:00<00:00, 599.93it/s]\n"
     ]
    },
    {
     "name": "stdout",
     "output_type": "stream",
     "text": [
      "Loaded 3 TensorBoard runs with 4 scalars and 250 steps each\n",
      "Reduced 4 scalars with 4 operations: (mean, min, max, std)\n",
      "Created new data file at 'Deep_Learning/Representation_Learning/Examples/MNIST/out/logs/HAugPC2-stop_at-2/5/encoder/reduction.csv'\n",
      "Reduction complete\n",
      "Found 3 event dirs:\n",
      "Deep_Learning/Representation_Learning/Examples/MNIST/out/logs/HAugPC2-stop_at-2/5/classifier\\run_1\n",
      "Deep_Learning/Representation_Learning/Examples/MNIST/out/logs/HAugPC2-stop_at-2/5/classifier\\run_2\n",
      "Deep_Learning/Representation_Learning/Examples/MNIST/out/logs/HAugPC2-stop_at-2/5/classifier\\run_3\n"
     ]
    },
    {
     "name": "stderr",
     "output_type": "stream",
     "text": [
      "Loading runs: 100%|██████████| 3/3 [00:00<00:00, 142.87it/s]\n",
      "Reading tags: 100%|██████████| 3/3 [00:00<00:00, 750.01it/s]"
     ]
    },
    {
     "name": "stdout",
     "output_type": "stream",
     "text": [
      "Loaded 3 TensorBoard runs with 4 scalars and 100 steps each\n",
      "Reduced 4 scalars with 4 operations: (mean, min, max, std)\n",
      "Created new data file at 'Deep_Learning/Representation_Learning/Examples/MNIST/out/logs/HAugPC2-stop_at-2/5/classifier/reduction.csv'\n",
      "Reduction complete\n",
      "Path Deep_Learning/Representation_Learning/Examples/MNIST/out/logs/LAugPC-loss/dino_online_targets/classifier/ does not exist\n",
      "Path Deep_Learning/Representation_Learning/Examples/MNIST/out/logs/LAugPC2-stop_layer/3/classifier/ does not exist\n",
      "Path Deep_Learning/Representation_Learning/Examples/MNIST/out/logs/pc_vs_ae1/Untrained/encoder/ does not exist\n"
     ]
    },
    {
     "name": "stderr",
     "output_type": "stream",
     "text": [
      "\n"
     ]
    }
   ],
   "source": [
    "example = \"MNIST\"\n",
    "log_path = f\"Deep_Learning/Representation_Learning/Examples/{example}/out/logs/\"\n",
    "for experiment in os.listdir(log_path):\n",
    "    experiment_path = log_path + experiment + \"/\"\n",
    "    for exp_id in os.listdir(experiment_path):\n",
    "        exp_id_path = experiment_path + exp_id + \"/\"\n",
    "        for model_type in ['encoder', 'classifier']:\n",
    "            # check if reduction already exists\n",
    "            if os.path.exists(exp_id_path + model_type + \"/reduction.csv\"):\n",
    "                continue\n",
    "\n",
    "            path = exp_id_path + model_type + \"/\"\n",
    "            # if path doesnt exist, skip\n",
    "            if not os.path.exists(path):\n",
    "                print(f\"Path {path} does not exist\")\n",
    "                continue\n",
    "            input_event_dirs = sorted(glob(path + \"*\"))\n",
    "            joined_dirs = \"\\n\".join(input_event_dirs)\n",
    "            print(f\"Found {len(input_event_dirs)} event dirs:\\n{joined_dirs}\")\n",
    "\n",
    "            csv_out_dir = path + 'reduction.csv'\n",
    "            overwrite = True\n",
    "            reduce_ops = (\"mean\", \"min\", \"max\", \"std\")\n",
    "            events_dict = tbr.load_tb_events(input_event_dirs, verbose=True)\n",
    "\n",
    "            reduced_events = tbr.reduce_events(events_dict, reduce_ops, verbose=True)\n",
    "\n",
    "            tbr.write_data_file(reduced_events, csv_out_dir, overwrite=overwrite, verbose=True)\n",
    "\n",
    "            print(\"Reduction complete\")"
   ]
  }
 ],
 "metadata": {
  "kernelspec": {
   "display_name": "ml-env",
   "language": "python",
   "name": "python3"
  },
  "language_info": {
   "codemirror_mode": {
    "name": "ipython",
    "version": 3
   },
   "file_extension": ".py",
   "mimetype": "text/x-python",
   "name": "python",
   "nbconvert_exporter": "python",
   "pygments_lexer": "ipython3",
   "version": "3.11.4"
  }
 },
 "nbformat": 4,
 "nbformat_minor": 2
}
