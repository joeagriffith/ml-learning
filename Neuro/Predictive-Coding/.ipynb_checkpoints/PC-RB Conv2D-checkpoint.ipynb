{
 "cells": [
  {
   "cell_type": "code",
   "execution_count": 1,
   "id": "d48f108b",
   "metadata": {},
   "outputs": [
    {
     "name": "stderr",
     "output_type": "stream",
     "text": [
      "C:\\Users\\Joe\\anaconda3\\envs\\ml-env\\lib\\site-packages\\tqdm\\auto.py:22: TqdmWarning: IProgress not found. Please update jupyter and ipywidgets. See https://ipywidgets.readthedocs.io/en/stable/user_install.html\n",
      "  from .autonotebook import tqdm as notebook_tqdm\n"
     ]
    }
   ],
   "source": [
    "import torch\n",
    "import torch.nn as nn\n",
    "import torch.nn.functional as F\n",
    "import torch.optim as optim\n",
    "import torchvision\n",
    "import torchvision.datasets as datasets\n",
    "import torchvision.transforms as transforms\n",
    "from torch.utils.data import DataLoader\n",
    "from torch.utils.tensorboard import SummaryWriter\n",
    "from tqdm import tqdm\n",
    "import math"
   ]
  },
  {
   "cell_type": "code",
   "execution_count": 17,
   "id": "bfa8d1f3",
   "metadata": {},
   "outputs": [
    {
     "data": {
      "text/plain": [
       "'cpu'"
      ]
     },
     "execution_count": 17,
     "metadata": {},
     "output_type": "execute_result"
    }
   ],
   "source": [
    "device = \"cuda\" if torch.cuda.is_available() else \"cpu\"\n",
    "device = \"cpu\"\n",
    "device"
   ]
  },
  {
   "cell_type": "code",
   "execution_count": 3,
   "id": "2890cff1",
   "metadata": {},
   "outputs": [],
   "source": [
    "MU = 0.5\n",
    "NU = 1.0\n",
    "ETA = 0.05\n",
    "STEPS = 10"
   ]
  },
  {
   "cell_type": "code",
   "execution_count": 4,
   "id": "e2c34304",
   "metadata": {},
   "outputs": [],
   "source": [
    "INPUT_CHANNELS = 1"
   ]
  },
  {
   "cell_type": "code",
   "execution_count": 5,
   "id": "70f3718a",
   "metadata": {},
   "outputs": [],
   "source": [
    "class PCInputLayer(nn.Module):\n",
    "    def __init__(self, in_channels, in_width, in_height, out_channels, kernel_size, stride_out=1, padding=0, bias=False):\n",
    "        super().__init__()\n",
    "        self.in_channels = in_channels\n",
    "        self.in_width = in_width\n",
    "        self.in_height = in_height\n",
    "#         self.out_channels = out_channels\n",
    "#         self.kernel_size = kernel_size\n",
    "#         self.stride = stride\n",
    "#         self.padding = padding\n",
    "        \n",
    "        self.conv = nn.Conv2d(in_channels, out_channels, kernel_size, stride=stride_out, padding=padding, bias=bias)\n",
    "\n",
    "        \n",
    "    def init_vars(self):\n",
    "        e = torch.zeros((self.in_channels, self.in_width, self.in_height)).to(device)\n",
    "        return e\n",
    "        \n",
    "    def step(self, x, td_pred):\n",
    "        e = F.relu(x-td_pred)\n",
    "        return self.conv(e), e"
   ]
  },
  {
   "cell_type": "code",
   "execution_count": 6,
   "id": "a9e700fe",
   "metadata": {},
   "outputs": [],
   "source": [
    "class PCHiddenLayer(nn.Module):\n",
    "    def __init__(self, in_channels, in_width, in_height, prev_channels, out_channels, kernel_size, stride_in=1, stride_out=1, padding=0, bias=False):\n",
    "        super().__init__()\n",
    "        self.in_channels = in_channels\n",
    "        self.in_width = in_width\n",
    "        self.in_height = in_height\n",
    "#         self.out_channels = out_channels\n",
    "#         self.kernel_size = kernel_size\n",
    "#         self.stride = stride\n",
    "#         self.padding = padding\n",
    "        \n",
    "        self.conv = nn.Conv2d(in_channels, out_channels, kernel_size, stride=stride_out, padding=padding, bias=bias)        \n",
    "        self.convT = nn.ConvTranspose2d(in_channels=in_channels, out_channels=prev_channels, kernel_size=kernel_size, stride=stride_in, padding=padding, bias=bias)\n",
    "        \n",
    "        \n",
    "    def init_vars(self):\n",
    "        e = torch.zeros((self.in_channels, self.in_width, self.in_height)).to(device)\n",
    "        r = torch.zeros((self.in_channels, self.in_width, self.in_height)).to(device)\n",
    "        return r, e\n",
    "    \n",
    "    def pred(self, r):\n",
    "        td_pred = F.tanh(self.convT(r))\n",
    "        return td_pred\n",
    "        \n",
    "    def step(self, bu_err, r, e, td_pred):\n",
    "        r = NU*r \n",
    "        r = r + MU*bu_err \n",
    "        r = r - ETA*e\n",
    "        e = F.relu(r-td_pred)\n",
    "        return self.conv(e), r, e"
   ]
  },
  {
   "cell_type": "code",
   "execution_count": 7,
   "id": "0cc03291",
   "metadata": {},
   "outputs": [],
   "source": [
    "class PCFinalLayer(nn.Module):\n",
    "    def __init__(self, in_channels, in_width, in_height, prev_channels, out_channels, kernel_size, stride_in=1, stride_out=1, padding=0, bias=False):\n",
    "        super().__init__()\n",
    "        self.in_channels = in_channels\n",
    "        self.in_width = in_width\n",
    "        self.in_height = in_height\n",
    "#         self.out_channels = out_channels\n",
    "#         self.kernel_size = kernel_size\n",
    "#         self.stride = stride\n",
    "#         self.padding = padding\n",
    "        \n",
    "        self.convT = nn.ConvTranspose2d(in_channels, prev_channels, kernel_size=kernel_size, stride=stride_in, padding=padding, bias=bias)\n",
    "        \n",
    "        \n",
    "    def init_vars(self):\n",
    "        r = torch.zeros((self.in_channels, self.in_width, self.in_height)).to(device)\n",
    "        return r\n",
    "    \n",
    "    def pred(self, r):\n",
    "        return F.tanh(self.convT(r))\n",
    "        \n",
    "    def step(self, bu_err, r):\n",
    "        r = NU*r + MU*bu_err\n",
    "        return r"
   ]
  },
  {
   "cell_type": "code",
   "execution_count": 8,
   "id": "fdffe01a",
   "metadata": {},
   "outputs": [],
   "source": [
    "class Model(nn.Module):\n",
    "    def __init__(self):\n",
    "        super().__init__()\n",
    "        self.in_layer = PCInputLayer(1, 27, 27, 32, (3,3), stride_out=3)\n",
    "        self.hid0_layer = PCHiddenLayer(32, 9, 9, 1, 128, (3,3), stride_in=3, stride_out=1)\n",
    "        self.hid1_layer = PCHiddenLayer(128, 7, 7, 32, 256, (3,3), stride_in=1, stride_out=2)\n",
    "        self.fin_layer = PCFinalLayer(256, 3, 3, 128, 10, (3,3), stride_in=2)\n",
    "        \n",
    "    def forward(self, x):\n",
    "        in_e = self.in_layer.init_vars()\n",
    "        hid0_r, hid0_e = self.hid0_layer.init_vars()\n",
    "        hid1_r, hid1_e = self.hid1_layer.init_vars()\n",
    "        fin_r = self.fin_layer.init_vars()\n",
    "        \n",
    "        for _ in range(STEPS):\n",
    "            in_bu_e, in_e = self.in_layer.step(x, self.hid0_layer.pred(hid0_r))\n",
    "            hid0_bu_e, hid0_r, hid0_e = self.hid0_layer.step(in_bu_e, hid0_r, hid0_e, self.hid1_layer.pred(hid1_r))\n",
    "            hid1_bu_e, hid1_r, hid1_e = self.hid1_layer.step(hid0_bu_e, hid1_r, hid1_e, self.fin_layer.pred(fin_r))\n",
    "            fin_r = self.fin_layer.step(hid1_bu_e, fin_r)\n",
    "    \n",
    "        in_err = in_e.square().sum()/in_e.numel()\n",
    "        hid0_err = hid0_e.square().sum()/hid0_e.numel()\n",
    "        hid1_err = hid1_e.square().sum()/hid1_e.numel()\n",
    "        total_mean_sqr_err = in_err + hid0_err + hid1_err\n",
    "        return total_mean_sqr_err"
   ]
  },
  {
   "cell_type": "code",
   "execution_count": 9,
   "id": "7258ff5f",
   "metadata": {},
   "outputs": [],
   "source": [
    "train_dataset = datasets.MNIST(root='dataset/', train=True, transform=transforms.ToTensor(), download=True)\n",
    "train_loader = DataLoader(dataset=train_dataset, shuffle=True)\n",
    "test_dataset = datasets.MNIST(root='dataset/', train=False, transform=transforms.ToTensor(), download=True)\n",
    "test_loader = DataLoader(dataset=test_dataset, shuffle=True)"
   ]
  },
  {
   "cell_type": "code",
   "execution_count": 18,
   "id": "e101bc66",
   "metadata": {},
   "outputs": [],
   "source": [
    "model = Model().to(device)"
   ]
  },
  {
   "cell_type": "code",
   "execution_count": 19,
   "id": "d4f118f4",
   "metadata": {},
   "outputs": [
    {
     "data": {
      "text/plain": [
       "Model(\n",
       "  (in_layer): PCInputLayer(\n",
       "    (conv): Conv2d(1, 32, kernel_size=(3, 3), stride=(3, 3), bias=False)\n",
       "  )\n",
       "  (hid0_layer): PCHiddenLayer(\n",
       "    (conv): Conv2d(32, 128, kernel_size=(3, 3), stride=(1, 1), bias=False)\n",
       "    (convT): ConvTranspose2d(32, 1, kernel_size=(3, 3), stride=(3, 3), bias=False)\n",
       "  )\n",
       "  (hid1_layer): PCHiddenLayer(\n",
       "    (conv): Conv2d(128, 256, kernel_size=(3, 3), stride=(2, 2), bias=False)\n",
       "    (convT): ConvTranspose2d(128, 32, kernel_size=(3, 3), stride=(1, 1), bias=False)\n",
       "  )\n",
       "  (fin_layer): PCFinalLayer(\n",
       "    (convT): ConvTranspose2d(256, 128, kernel_size=(3, 3), stride=(2, 2), bias=False)\n",
       "  )\n",
       ")"
      ]
     },
     "execution_count": 19,
     "metadata": {},
     "output_type": "execute_result"
    }
   ],
   "source": [
    "model.load_state_dict(torch.load('PC-RB_Conv2D.pth'))\n",
    "model.eval()"
   ]
  },
  {
   "cell_type": "code",
   "execution_count": 34,
   "id": "57656792",
   "metadata": {},
   "outputs": [
    {
     "name": "stdout",
     "output_type": "stream",
     "text": [
      "mean_loss: 0.00012998381862416863\n",
      "mean_loss: 0.12273669242858887\n",
      "mean_loss: 0.12055642902851105\n",
      "mean_loss: 0.12314210087060928\n",
      "mean_loss: 0.12240884453058243\n",
      "mean_loss: 0.12397337704896927\n",
      "mean_loss: 0.11964358389377594\n",
      "mean_loss: 0.12050309032201767\n",
      "mean_loss: 0.021882830187678337\n",
      "mean_loss: 0.12059059739112854\n",
      "mean_loss: 0.1163795217871666\n",
      "mean_loss: 0.11759209632873535\n",
      "mean_loss: 0.11873355507850647\n",
      "mean_loss: 0.11686024814844131\n",
      "mean_loss: 0.11771158874034882\n",
      "mean_loss: 0.11639812588691711\n",
      "mean_loss: 0.020974311977624893\n",
      "mean_loss: 0.11555317044258118\n",
      "mean_loss: 0.11647531390190125\n",
      "mean_loss: 0.11258436739444733\n",
      "mean_loss: 0.11207454651594162\n",
      "mean_loss: 0.11430878937244415\n",
      "mean_loss: 0.1108192428946495\n",
      "mean_loss: 0.11045262962579727\n",
      "mean_loss: 0.02032107673585415\n",
      "mean_loss: 0.11010843515396118\n",
      "mean_loss: 0.10855016112327576\n",
      "mean_loss: 0.1086776852607727\n",
      "mean_loss: 0.10940124094486237\n",
      "mean_loss: 0.10827821493148804\n",
      "mean_loss: 0.10806307941675186\n"
     ]
    },
    {
     "ename": "KeyboardInterrupt",
     "evalue": "",
     "output_type": "error",
     "traceback": [
      "\u001b[1;31m---------------------------------------------------------------------------\u001b[0m",
      "\u001b[1;31mKeyboardInterrupt\u001b[0m                         Traceback (most recent call last)",
      "\u001b[1;32m~\\AppData\\Local\\Temp\\ipykernel_21596\\453631835.py\u001b[0m in \u001b[0;36m<module>\u001b[1;34m\u001b[0m\n\u001b[0;32m      8\u001b[0m     \u001b[1;32mfor\u001b[0m \u001b[0mbatch_idx\u001b[0m\u001b[1;33m,\u001b[0m \u001b[1;33m(\u001b[0m\u001b[0mdata\u001b[0m\u001b[1;33m,\u001b[0m \u001b[0my\u001b[0m\u001b[1;33m)\u001b[0m \u001b[1;32min\u001b[0m \u001b[0menumerate\u001b[0m\u001b[1;33m(\u001b[0m\u001b[0mtrain_loader\u001b[0m\u001b[1;33m)\u001b[0m\u001b[1;33m:\u001b[0m\u001b[1;33m\u001b[0m\u001b[1;33m\u001b[0m\u001b[0m\n\u001b[0;32m      9\u001b[0m         \u001b[0mx\u001b[0m \u001b[1;33m=\u001b[0m \u001b[0mdata\u001b[0m\u001b[1;33m[\u001b[0m\u001b[1;33m:\u001b[0m\u001b[1;33m,\u001b[0m\u001b[1;33m:\u001b[0m\u001b[1;33m,\u001b[0m\u001b[1;33m:\u001b[0m\u001b[1;36m27\u001b[0m\u001b[1;33m,\u001b[0m\u001b[1;33m:\u001b[0m\u001b[1;36m27\u001b[0m\u001b[1;33m]\u001b[0m\u001b[1;33m.\u001b[0m\u001b[0mreshape\u001b[0m\u001b[1;33m(\u001b[0m\u001b[1;33m(\u001b[0m\u001b[1;36m1\u001b[0m\u001b[1;33m,\u001b[0m\u001b[1;36m27\u001b[0m\u001b[1;33m,\u001b[0m\u001b[1;36m27\u001b[0m\u001b[1;33m)\u001b[0m\u001b[1;33m)\u001b[0m\u001b[1;33m.\u001b[0m\u001b[0mto\u001b[0m\u001b[1;33m(\u001b[0m\u001b[0mdevice\u001b[0m\u001b[1;33m)\u001b[0m\u001b[1;33m\u001b[0m\u001b[1;33m\u001b[0m\u001b[0m\n\u001b[1;32m---> 10\u001b[1;33m         \u001b[0mloss\u001b[0m \u001b[1;33m=\u001b[0m \u001b[0mmodel\u001b[0m\u001b[1;33m(\u001b[0m\u001b[0mx\u001b[0m\u001b[1;33m)\u001b[0m\u001b[1;33m\u001b[0m\u001b[1;33m\u001b[0m\u001b[0m\n\u001b[0m\u001b[0;32m     11\u001b[0m \u001b[1;33m\u001b[0m\u001b[0m\n\u001b[0;32m     12\u001b[0m         \u001b[0mloss\u001b[0m\u001b[1;33m.\u001b[0m\u001b[0mbackward\u001b[0m\u001b[1;33m(\u001b[0m\u001b[0mretain_graph\u001b[0m\u001b[1;33m=\u001b[0m\u001b[1;32mTrue\u001b[0m\u001b[1;33m)\u001b[0m\u001b[1;33m\u001b[0m\u001b[1;33m\u001b[0m\u001b[0m\n",
      "\u001b[1;32m~\\anaconda3\\envs\\ml-env\\lib\\site-packages\\torch\\nn\\modules\\module.py\u001b[0m in \u001b[0;36m_call_impl\u001b[1;34m(self, *input, **kwargs)\u001b[0m\n\u001b[0;32m   1192\u001b[0m         if not (self._backward_hooks or self._forward_hooks or self._forward_pre_hooks or _global_backward_hooks\n\u001b[0;32m   1193\u001b[0m                 or _global_forward_hooks or _global_forward_pre_hooks):\n\u001b[1;32m-> 1194\u001b[1;33m             \u001b[1;32mreturn\u001b[0m \u001b[0mforward_call\u001b[0m\u001b[1;33m(\u001b[0m\u001b[1;33m*\u001b[0m\u001b[0minput\u001b[0m\u001b[1;33m,\u001b[0m \u001b[1;33m**\u001b[0m\u001b[0mkwargs\u001b[0m\u001b[1;33m)\u001b[0m\u001b[1;33m\u001b[0m\u001b[1;33m\u001b[0m\u001b[0m\n\u001b[0m\u001b[0;32m   1195\u001b[0m         \u001b[1;31m# Do not call functions when jit is used\u001b[0m\u001b[1;33m\u001b[0m\u001b[1;33m\u001b[0m\u001b[1;33m\u001b[0m\u001b[0m\n\u001b[0;32m   1196\u001b[0m         \u001b[0mfull_backward_hooks\u001b[0m\u001b[1;33m,\u001b[0m \u001b[0mnon_full_backward_hooks\u001b[0m \u001b[1;33m=\u001b[0m \u001b[1;33m[\u001b[0m\u001b[1;33m]\u001b[0m\u001b[1;33m,\u001b[0m \u001b[1;33m[\u001b[0m\u001b[1;33m]\u001b[0m\u001b[1;33m\u001b[0m\u001b[1;33m\u001b[0m\u001b[0m\n",
      "\u001b[1;32m~\\AppData\\Local\\Temp\\ipykernel_21596\\652889081.py\u001b[0m in \u001b[0;36mforward\u001b[1;34m(self, x)\u001b[0m\n\u001b[0;32m     15\u001b[0m         \u001b[1;32mfor\u001b[0m \u001b[0m_\u001b[0m \u001b[1;32min\u001b[0m \u001b[0mrange\u001b[0m\u001b[1;33m(\u001b[0m\u001b[0mSTEPS\u001b[0m\u001b[1;33m)\u001b[0m\u001b[1;33m:\u001b[0m\u001b[1;33m\u001b[0m\u001b[1;33m\u001b[0m\u001b[0m\n\u001b[0;32m     16\u001b[0m             \u001b[0min_bu_e\u001b[0m\u001b[1;33m,\u001b[0m \u001b[0min_e\u001b[0m \u001b[1;33m=\u001b[0m \u001b[0mself\u001b[0m\u001b[1;33m.\u001b[0m\u001b[0min_layer\u001b[0m\u001b[1;33m.\u001b[0m\u001b[0mstep\u001b[0m\u001b[1;33m(\u001b[0m\u001b[0mx\u001b[0m\u001b[1;33m,\u001b[0m \u001b[0mself\u001b[0m\u001b[1;33m.\u001b[0m\u001b[0mhid0_layer\u001b[0m\u001b[1;33m.\u001b[0m\u001b[0mpred\u001b[0m\u001b[1;33m(\u001b[0m\u001b[0mhid0_r\u001b[0m\u001b[1;33m)\u001b[0m\u001b[1;33m)\u001b[0m\u001b[1;33m\u001b[0m\u001b[1;33m\u001b[0m\u001b[0m\n\u001b[1;32m---> 17\u001b[1;33m             \u001b[0mhid0_bu_e\u001b[0m\u001b[1;33m,\u001b[0m \u001b[0mhid0_r\u001b[0m\u001b[1;33m,\u001b[0m \u001b[0mhid0_e\u001b[0m \u001b[1;33m=\u001b[0m \u001b[0mself\u001b[0m\u001b[1;33m.\u001b[0m\u001b[0mhid0_layer\u001b[0m\u001b[1;33m.\u001b[0m\u001b[0mstep\u001b[0m\u001b[1;33m(\u001b[0m\u001b[0min_bu_e\u001b[0m\u001b[1;33m,\u001b[0m \u001b[0mhid0_r\u001b[0m\u001b[1;33m,\u001b[0m \u001b[0mhid0_e\u001b[0m\u001b[1;33m,\u001b[0m \u001b[0mself\u001b[0m\u001b[1;33m.\u001b[0m\u001b[0mhid1_layer\u001b[0m\u001b[1;33m.\u001b[0m\u001b[0mpred\u001b[0m\u001b[1;33m(\u001b[0m\u001b[0mhid1_r\u001b[0m\u001b[1;33m)\u001b[0m\u001b[1;33m)\u001b[0m\u001b[1;33m\u001b[0m\u001b[1;33m\u001b[0m\u001b[0m\n\u001b[0m\u001b[0;32m     18\u001b[0m             \u001b[0mhid1_bu_e\u001b[0m\u001b[1;33m,\u001b[0m \u001b[0mhid1_r\u001b[0m\u001b[1;33m,\u001b[0m \u001b[0mhid1_e\u001b[0m \u001b[1;33m=\u001b[0m \u001b[0mself\u001b[0m\u001b[1;33m.\u001b[0m\u001b[0mhid1_layer\u001b[0m\u001b[1;33m.\u001b[0m\u001b[0mstep\u001b[0m\u001b[1;33m(\u001b[0m\u001b[0mhid0_bu_e\u001b[0m\u001b[1;33m,\u001b[0m \u001b[0mhid1_r\u001b[0m\u001b[1;33m,\u001b[0m \u001b[0mhid1_e\u001b[0m\u001b[1;33m,\u001b[0m \u001b[0mself\u001b[0m\u001b[1;33m.\u001b[0m\u001b[0mfin_layer\u001b[0m\u001b[1;33m.\u001b[0m\u001b[0mpred\u001b[0m\u001b[1;33m(\u001b[0m\u001b[0mfin_r\u001b[0m\u001b[1;33m)\u001b[0m\u001b[1;33m)\u001b[0m\u001b[1;33m\u001b[0m\u001b[1;33m\u001b[0m\u001b[0m\n\u001b[0;32m     19\u001b[0m             \u001b[0mfin_r\u001b[0m \u001b[1;33m=\u001b[0m \u001b[0mself\u001b[0m\u001b[1;33m.\u001b[0m\u001b[0mfin_layer\u001b[0m\u001b[1;33m.\u001b[0m\u001b[0mstep\u001b[0m\u001b[1;33m(\u001b[0m\u001b[0mhid1_bu_e\u001b[0m\u001b[1;33m,\u001b[0m \u001b[0mfin_r\u001b[0m\u001b[1;33m)\u001b[0m\u001b[1;33m\u001b[0m\u001b[1;33m\u001b[0m\u001b[0m\n",
      "\u001b[1;32m~\\AppData\\Local\\Temp\\ipykernel_21596\\2174539259.py\u001b[0m in \u001b[0;36mstep\u001b[1;34m(self, bu_err, r, e, td_pred)\u001b[0m\n\u001b[0;32m     28\u001b[0m         \u001b[0mr\u001b[0m \u001b[1;33m=\u001b[0m \u001b[0mr\u001b[0m \u001b[1;33m-\u001b[0m \u001b[0mETA\u001b[0m\u001b[1;33m*\u001b[0m\u001b[0me\u001b[0m\u001b[1;33m\u001b[0m\u001b[1;33m\u001b[0m\u001b[0m\n\u001b[0;32m     29\u001b[0m         \u001b[0me\u001b[0m \u001b[1;33m=\u001b[0m \u001b[0mF\u001b[0m\u001b[1;33m.\u001b[0m\u001b[0mrelu\u001b[0m\u001b[1;33m(\u001b[0m\u001b[0mr\u001b[0m\u001b[1;33m-\u001b[0m\u001b[0mtd_pred\u001b[0m\u001b[1;33m)\u001b[0m\u001b[1;33m\u001b[0m\u001b[1;33m\u001b[0m\u001b[0m\n\u001b[1;32m---> 30\u001b[1;33m         \u001b[1;32mreturn\u001b[0m \u001b[0mself\u001b[0m\u001b[1;33m.\u001b[0m\u001b[0mconv\u001b[0m\u001b[1;33m(\u001b[0m\u001b[0me\u001b[0m\u001b[1;33m)\u001b[0m\u001b[1;33m,\u001b[0m \u001b[0mr\u001b[0m\u001b[1;33m,\u001b[0m \u001b[0me\u001b[0m\u001b[1;33m\u001b[0m\u001b[1;33m\u001b[0m\u001b[0m\n\u001b[0m",
      "\u001b[1;32m~\\anaconda3\\envs\\ml-env\\lib\\site-packages\\torch\\nn\\modules\\module.py\u001b[0m in \u001b[0;36m_call_impl\u001b[1;34m(self, *input, **kwargs)\u001b[0m\n\u001b[0;32m   1192\u001b[0m         if not (self._backward_hooks or self._forward_hooks or self._forward_pre_hooks or _global_backward_hooks\n\u001b[0;32m   1193\u001b[0m                 or _global_forward_hooks or _global_forward_pre_hooks):\n\u001b[1;32m-> 1194\u001b[1;33m             \u001b[1;32mreturn\u001b[0m \u001b[0mforward_call\u001b[0m\u001b[1;33m(\u001b[0m\u001b[1;33m*\u001b[0m\u001b[0minput\u001b[0m\u001b[1;33m,\u001b[0m \u001b[1;33m**\u001b[0m\u001b[0mkwargs\u001b[0m\u001b[1;33m)\u001b[0m\u001b[1;33m\u001b[0m\u001b[1;33m\u001b[0m\u001b[0m\n\u001b[0m\u001b[0;32m   1195\u001b[0m         \u001b[1;31m# Do not call functions when jit is used\u001b[0m\u001b[1;33m\u001b[0m\u001b[1;33m\u001b[0m\u001b[1;33m\u001b[0m\u001b[0m\n\u001b[0;32m   1196\u001b[0m         \u001b[0mfull_backward_hooks\u001b[0m\u001b[1;33m,\u001b[0m \u001b[0mnon_full_backward_hooks\u001b[0m \u001b[1;33m=\u001b[0m \u001b[1;33m[\u001b[0m\u001b[1;33m]\u001b[0m\u001b[1;33m,\u001b[0m \u001b[1;33m[\u001b[0m\u001b[1;33m]\u001b[0m\u001b[1;33m\u001b[0m\u001b[1;33m\u001b[0m\u001b[0m\n",
      "\u001b[1;32m~\\anaconda3\\envs\\ml-env\\lib\\site-packages\\torch\\nn\\modules\\conv.py\u001b[0m in \u001b[0;36mforward\u001b[1;34m(self, input)\u001b[0m\n\u001b[0;32m    461\u001b[0m \u001b[1;33m\u001b[0m\u001b[0m\n\u001b[0;32m    462\u001b[0m     \u001b[1;32mdef\u001b[0m \u001b[0mforward\u001b[0m\u001b[1;33m(\u001b[0m\u001b[0mself\u001b[0m\u001b[1;33m,\u001b[0m \u001b[0minput\u001b[0m\u001b[1;33m:\u001b[0m \u001b[0mTensor\u001b[0m\u001b[1;33m)\u001b[0m \u001b[1;33m->\u001b[0m \u001b[0mTensor\u001b[0m\u001b[1;33m:\u001b[0m\u001b[1;33m\u001b[0m\u001b[1;33m\u001b[0m\u001b[0m\n\u001b[1;32m--> 463\u001b[1;33m         \u001b[1;32mreturn\u001b[0m \u001b[0mself\u001b[0m\u001b[1;33m.\u001b[0m\u001b[0m_conv_forward\u001b[0m\u001b[1;33m(\u001b[0m\u001b[0minput\u001b[0m\u001b[1;33m,\u001b[0m \u001b[0mself\u001b[0m\u001b[1;33m.\u001b[0m\u001b[0mweight\u001b[0m\u001b[1;33m,\u001b[0m \u001b[0mself\u001b[0m\u001b[1;33m.\u001b[0m\u001b[0mbias\u001b[0m\u001b[1;33m)\u001b[0m\u001b[1;33m\u001b[0m\u001b[1;33m\u001b[0m\u001b[0m\n\u001b[0m\u001b[0;32m    464\u001b[0m \u001b[1;33m\u001b[0m\u001b[0m\n\u001b[0;32m    465\u001b[0m \u001b[1;32mclass\u001b[0m \u001b[0mConv3d\u001b[0m\u001b[1;33m(\u001b[0m\u001b[0m_ConvNd\u001b[0m\u001b[1;33m)\u001b[0m\u001b[1;33m:\u001b[0m\u001b[1;33m\u001b[0m\u001b[1;33m\u001b[0m\u001b[0m\n",
      "\u001b[1;32m~\\anaconda3\\envs\\ml-env\\lib\\site-packages\\torch\\nn\\modules\\conv.py\u001b[0m in \u001b[0;36m_conv_forward\u001b[1;34m(self, input, weight, bias)\u001b[0m\n\u001b[0;32m    458\u001b[0m                             _pair(0), self.dilation, self.groups)\n\u001b[0;32m    459\u001b[0m         return F.conv2d(input, weight, bias, self.stride,\n\u001b[1;32m--> 460\u001b[1;33m                         self.padding, self.dilation, self.groups)\n\u001b[0m\u001b[0;32m    461\u001b[0m \u001b[1;33m\u001b[0m\u001b[0m\n\u001b[0;32m    462\u001b[0m     \u001b[1;32mdef\u001b[0m \u001b[0mforward\u001b[0m\u001b[1;33m(\u001b[0m\u001b[0mself\u001b[0m\u001b[1;33m,\u001b[0m \u001b[0minput\u001b[0m\u001b[1;33m:\u001b[0m \u001b[0mTensor\u001b[0m\u001b[1;33m)\u001b[0m \u001b[1;33m->\u001b[0m \u001b[0mTensor\u001b[0m\u001b[1;33m:\u001b[0m\u001b[1;33m\u001b[0m\u001b[1;33m\u001b[0m\u001b[0m\n",
      "\u001b[1;31mKeyboardInterrupt\u001b[0m: "
     ]
    }
   ],
   "source": [
    "LEARNING_RATE = 3e-7\n",
    "NUM_EPOCHS = 5\n",
    "optimiser = optim.SGD(model.parameters(), lr=LEARNING_RATE)\n",
    "mean_loss = 0\n",
    "\n",
    "model.train()\n",
    "for epoch in range(NUM_EPOCHS):\n",
    "    for batch_idx, (data, y) in enumerate(train_loader):\n",
    "        x = data[:,:,:27,:27].reshape((1,27,27)).to(device)\n",
    "        loss = model(x)\n",
    "        \n",
    "        loss.backward(retain_graph=True)\n",
    "        mean_loss += loss\n",
    "        if batch_idx % 512 == 0:\n",
    "            if batch_idx % 8192 == 0:\n",
    "                print(f'mean_loss: {mean_loss/512}')\n",
    "            mean_loss = 0\n",
    "            optimiser.step()\n",
    "            optimiser.zero_grad()\n",
    "     "
   ]
  },
  {
   "cell_type": "code",
   "execution_count": 35,
   "id": "554338cc",
   "metadata": {},
   "outputs": [],
   "source": [
    "torch.save(model.state_dict(), 'PC-RB_Conv2D.pth')"
   ]
  },
  {
   "cell_type": "code",
   "execution_count": 36,
   "id": "df101a4d",
   "metadata": {},
   "outputs": [
    {
     "ename": "AttributeError",
     "evalue": "'Model' object has no attribute 'fin_r'",
     "output_type": "error",
     "traceback": [
      "\u001b[1;31m---------------------------------------------------------------------------\u001b[0m",
      "\u001b[1;31mAttributeError\u001b[0m                            Traceback (most recent call last)",
      "\u001b[1;32m~\\AppData\\Local\\Temp\\ipykernel_21596\\1207432265.py\u001b[0m in \u001b[0;36m<module>\u001b[1;34m\u001b[0m\n\u001b[0;32m      8\u001b[0m     \u001b[1;32mfor\u001b[0m \u001b[0mbatch_idx\u001b[0m\u001b[1;33m,\u001b[0m \u001b[1;33m(\u001b[0m\u001b[0mdata\u001b[0m\u001b[1;33m,\u001b[0m \u001b[0my\u001b[0m\u001b[1;33m)\u001b[0m \u001b[1;32min\u001b[0m \u001b[0menumerate\u001b[0m\u001b[1;33m(\u001b[0m\u001b[0mtrain_loader\u001b[0m\u001b[1;33m)\u001b[0m\u001b[1;33m:\u001b[0m\u001b[1;33m\u001b[0m\u001b[1;33m\u001b[0m\u001b[0m\n\u001b[0;32m      9\u001b[0m         \u001b[0mx\u001b[0m \u001b[1;33m=\u001b[0m \u001b[0mdata\u001b[0m\u001b[1;33m[\u001b[0m\u001b[1;33m:\u001b[0m\u001b[1;33m,\u001b[0m\u001b[1;33m:\u001b[0m\u001b[1;33m,\u001b[0m\u001b[1;33m:\u001b[0m\u001b[1;36m27\u001b[0m\u001b[1;33m,\u001b[0m\u001b[1;33m:\u001b[0m\u001b[1;36m27\u001b[0m\u001b[1;33m]\u001b[0m\u001b[1;33m.\u001b[0m\u001b[0mreshape\u001b[0m\u001b[1;33m(\u001b[0m\u001b[1;33m(\u001b[0m\u001b[1;36m1\u001b[0m\u001b[1;33m,\u001b[0m\u001b[1;36m27\u001b[0m\u001b[1;33m,\u001b[0m\u001b[1;36m27\u001b[0m\u001b[1;33m)\u001b[0m\u001b[1;33m)\u001b[0m\u001b[1;33m.\u001b[0m\u001b[0mto\u001b[0m\u001b[1;33m(\u001b[0m\u001b[0mdevice\u001b[0m\u001b[1;33m)\u001b[0m\u001b[1;33m\u001b[0m\u001b[1;33m\u001b[0m\u001b[0m\n\u001b[1;32m---> 10\u001b[1;33m         \u001b[0mprint\u001b[0m\u001b[1;33m(\u001b[0m\u001b[0mmodel\u001b[0m\u001b[1;33m.\u001b[0m\u001b[0mfin_r\u001b[0m\u001b[1;33m)\u001b[0m\u001b[1;33m\u001b[0m\u001b[1;33m\u001b[0m\u001b[0m\n\u001b[0m\u001b[0;32m     11\u001b[0m         \u001b[0mloss\u001b[0m \u001b[1;33m=\u001b[0m \u001b[0mmodel\u001b[0m\u001b[1;33m(\u001b[0m\u001b[0mx\u001b[0m\u001b[1;33m)\u001b[0m\u001b[1;33m\u001b[0m\u001b[1;33m\u001b[0m\u001b[0m\n\u001b[0;32m     12\u001b[0m \u001b[1;33m\u001b[0m\u001b[0m\n",
      "\u001b[1;32m~\\anaconda3\\envs\\ml-env\\lib\\site-packages\\torch\\nn\\modules\\module.py\u001b[0m in \u001b[0;36m__getattr__\u001b[1;34m(self, name)\u001b[0m\n\u001b[0;32m   1268\u001b[0m                 \u001b[1;32mreturn\u001b[0m \u001b[0mmodules\u001b[0m\u001b[1;33m[\u001b[0m\u001b[0mname\u001b[0m\u001b[1;33m]\u001b[0m\u001b[1;33m\u001b[0m\u001b[1;33m\u001b[0m\u001b[0m\n\u001b[0;32m   1269\u001b[0m         raise AttributeError(\"'{}' object has no attribute '{}'\".format(\n\u001b[1;32m-> 1270\u001b[1;33m             type(self).__name__, name))\n\u001b[0m\u001b[0;32m   1271\u001b[0m \u001b[1;33m\u001b[0m\u001b[0m\n\u001b[0;32m   1272\u001b[0m     \u001b[1;32mdef\u001b[0m \u001b[0m__setattr__\u001b[0m\u001b[1;33m(\u001b[0m\u001b[0mself\u001b[0m\u001b[1;33m,\u001b[0m \u001b[0mname\u001b[0m\u001b[1;33m:\u001b[0m \u001b[0mstr\u001b[0m\u001b[1;33m,\u001b[0m \u001b[0mvalue\u001b[0m\u001b[1;33m:\u001b[0m \u001b[0mUnion\u001b[0m\u001b[1;33m[\u001b[0m\u001b[0mTensor\u001b[0m\u001b[1;33m,\u001b[0m \u001b[1;34m'Module'\u001b[0m\u001b[1;33m]\u001b[0m\u001b[1;33m)\u001b[0m \u001b[1;33m->\u001b[0m \u001b[1;32mNone\u001b[0m\u001b[1;33m:\u001b[0m\u001b[1;33m\u001b[0m\u001b[1;33m\u001b[0m\u001b[0m\n",
      "\u001b[1;31mAttributeError\u001b[0m: 'Model' object has no attribute 'fin_r'"
     ]
    }
   ],
   "source": [
    "LEARNING_RATE = 3e-7\n",
    "NUM_EPOCHS = 5\n",
    "optimiser = optim.SGD(model.parameters(), lr=LEARNING_RATE)\n",
    "mean_loss = 0\n",
    "\n",
    "model.eval()\n",
    "for epoch in range(NUM_EPOCHS):\n",
    "    for batch_idx, (data, y) in enumerate(train_loader):\n",
    "        x = data[:,:,:27,:27].reshape((1,27,27)).to(device)\n",
    "        print(model.fin_r)\n",
    "        loss = model(x)\n",
    "        \n",
    "        print(model.fin_r)\n",
    "        break\n",
    "    break"
   ]
  }
 ],
 "metadata": {
  "kernelspec": {
   "display_name": "Python [conda env:ml-env] *",
   "language": "python",
   "name": "conda-env-ml-env-py"
  },
  "language_info": {
   "codemirror_mode": {
    "name": "ipython",
    "version": 3
   },
   "file_extension": ".py",
   "mimetype": "text/x-python",
   "name": "python",
   "nbconvert_exporter": "python",
   "pygments_lexer": "ipython3",
   "version": "3.7.15"
  }
 },
 "nbformat": 4,
 "nbformat_minor": 5
}
