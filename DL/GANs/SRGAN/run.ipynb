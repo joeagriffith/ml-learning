{
 "cells": [
  {
   "cell_type": "code",
   "execution_count": 1,
   "id": "1eb1a1a9",
   "metadata": {},
   "outputs": [
    {
     "name": "stderr",
     "output_type": "stream",
     "text": [
      "C:\\Users\\Joe\\anaconda3\\envs\\ml-env\\lib\\site-packages\\tqdm\\auto.py:22: TqdmWarning: IProgress not found. Please update jupyter and ipywidgets. See https://ipywidgets.readthedocs.io/en/stable/user_install.html\n",
      "  from .autonotebook import tqdm as notebook_tqdm\n"
     ]
    }
   ],
   "source": [
    "import torch\n",
    "from torch import nn\n",
    "from SRGAN import Generator, Discriminator"
   ]
  },
  {
   "cell_type": "code",
   "execution_count": 5,
   "id": "fa0de458",
   "metadata": {},
   "outputs": [
    {
     "name": "stdout",
     "output_type": "stream",
     "text": [
      "torch.Size([5, 3, 96, 96])\n",
      "torch.Size([5, 1])\n"
     ]
    }
   ],
   "source": [
    "#  Test SRGAN Nets\n",
    "low_resolution = 24\n",
    "with torch.cuda.amp.autocast():\n",
    "    x = torch.randn((5, 3, low_resolution, low_resolution))\n",
    "    gen = Generator()\n",
    "    gen_out = gen(x)\n",
    "    disc = Discriminator()\n",
    "    disc_out = disc(gen_out)\n",
    "    \n",
    "    print(gen_out.shape)\n",
    "    print(disc_out.shape)"
   ]
  },
  {
   "cell_type": "code",
   "execution_count": null,
   "id": "01d76508",
   "metadata": {},
   "outputs": [],
   "source": []
  },
  {
   "cell_type": "code",
   "execution_count": null,
   "id": "3d7aa898",
   "metadata": {},
   "outputs": [],
   "source": []
  }
 ],
 "metadata": {
  "kernelspec": {
   "display_name": "Python [conda env:ml-env] *",
   "language": "python",
   "name": "conda-env-ml-env-py"
  },
  "language_info": {
   "codemirror_mode": {
    "name": "ipython",
    "version": 3
   },
   "file_extension": ".py",
   "mimetype": "text/x-python",
   "name": "python",
   "nbconvert_exporter": "python",
   "pygments_lexer": "ipython3",
   "version": "3.7.15"
  }
 },
 "nbformat": 4,
 "nbformat_minor": 5
}
