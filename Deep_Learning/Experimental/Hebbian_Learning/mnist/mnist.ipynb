{
 "cells": [
  {
   "cell_type": "code",
   "execution_count": 1,
   "metadata": {},
   "outputs": [],
   "source": [
    "import torch\n",
    "import torch.nn as nn\n",
    "import torch.nn.functional as F\n",
    "import torchvision.transforms as transforms\n",
    "import torchvision.datasets as datasets\n",
    "from Utils.dataset import PreloadedDataset\n",
    "from torch.utils.tensorboard import SummaryWriter\n",
    "from tqdm import tqdm\n",
    "\n",
    "import math"
   ]
  },
  {
   "cell_type": "code",
   "execution_count": 2,
   "metadata": {},
   "outputs": [
    {
     "data": {
      "text/plain": [
       "device(type='cpu')"
      ]
     },
     "execution_count": 2,
     "metadata": {},
     "output_type": "execute_result"
    }
   ],
   "source": [
    "# device = torch.device('cuda') if torch.cuda.is_available() else \"cpu\"ArithmeticError\n",
    "device = torch.device('cpu')\n",
    "device"
   ]
  },
  {
   "cell_type": "code",
   "execution_count": 3,
   "metadata": {},
   "outputs": [
    {
     "name": "stderr",
     "output_type": "stream",
     "text": [
      "                                     \r"
     ]
    },
    {
     "name": "stdout",
     "output_type": "stream",
     "text": [
      "Loaded MNIST with 1 samples\n"
     ]
    },
    {
     "ename": "IndexError",
     "evalue": "index 1 is out of bounds for dimension 0 with size 1",
     "output_type": "error",
     "traceback": [
      "\u001b[1;31m---------------------------------------------------------------------------\u001b[0m",
      "\u001b[1;31mIndexError\u001b[0m                                Traceback (most recent call last)",
      "\u001b[1;32m~\\AppData\\Local\\Temp\\ipykernel_31156\\748353068.py\u001b[0m in \u001b[0;36m<module>\u001b[1;34m\u001b[0m\n\u001b[0;32m     15\u001b[0m \u001b[0mfig\u001b[0m\u001b[1;33m,\u001b[0m \u001b[0maxs\u001b[0m \u001b[1;33m=\u001b[0m \u001b[0mplt\u001b[0m\u001b[1;33m.\u001b[0m\u001b[0msubplots\u001b[0m\u001b[1;33m(\u001b[0m\u001b[1;36m1\u001b[0m\u001b[1;33m,\u001b[0m \u001b[1;36m5\u001b[0m\u001b[1;33m,\u001b[0m \u001b[0mfigsize\u001b[0m\u001b[1;33m=\u001b[0m\u001b[1;33m(\u001b[0m\u001b[1;36m15\u001b[0m\u001b[1;33m,\u001b[0m \u001b[1;36m5\u001b[0m\u001b[1;33m)\u001b[0m\u001b[1;33m)\u001b[0m\u001b[1;33m\u001b[0m\u001b[1;33m\u001b[0m\u001b[0m\n\u001b[0;32m     16\u001b[0m \u001b[1;32mfor\u001b[0m \u001b[0mi\u001b[0m \u001b[1;32min\u001b[0m \u001b[0mrange\u001b[0m\u001b[1;33m(\u001b[0m\u001b[1;36m5\u001b[0m\u001b[1;33m)\u001b[0m\u001b[1;33m:\u001b[0m\u001b[1;33m\u001b[0m\u001b[1;33m\u001b[0m\u001b[0m\n\u001b[1;32m---> 17\u001b[1;33m     \u001b[0maxs\u001b[0m\u001b[1;33m[\u001b[0m\u001b[0mi\u001b[0m\u001b[1;33m]\u001b[0m\u001b[1;33m.\u001b[0m\u001b[0mimshow\u001b[0m\u001b[1;33m(\u001b[0m\u001b[0mnp\u001b[0m\u001b[1;33m.\u001b[0m\u001b[0msqueeze\u001b[0m\u001b[1;33m(\u001b[0m\u001b[0mpositive_dataset\u001b[0m\u001b[1;33m[\u001b[0m\u001b[0mi\u001b[0m\u001b[1;33m]\u001b[0m\u001b[1;33m[\u001b[0m\u001b[1;36m0\u001b[0m\u001b[1;33m]\u001b[0m\u001b[1;33m.\u001b[0m\u001b[0mnumpy\u001b[0m\u001b[1;33m(\u001b[0m\u001b[1;33m)\u001b[0m\u001b[1;33m)\u001b[0m\u001b[1;33m,\u001b[0m \u001b[0mcmap\u001b[0m\u001b[1;33m=\u001b[0m\u001b[1;34m'gray'\u001b[0m\u001b[1;33m)\u001b[0m\u001b[1;33m\u001b[0m\u001b[1;33m\u001b[0m\u001b[0m\n\u001b[0m\u001b[0;32m     18\u001b[0m     \u001b[0maxs\u001b[0m\u001b[1;33m[\u001b[0m\u001b[0mi\u001b[0m\u001b[1;33m]\u001b[0m\u001b[1;33m.\u001b[0m\u001b[0mset_title\u001b[0m\u001b[1;33m(\u001b[0m\u001b[1;34mf\"Label: {positive_dataset[i][1]}\"\u001b[0m\u001b[1;33m)\u001b[0m\u001b[1;33m\u001b[0m\u001b[1;33m\u001b[0m\u001b[0m\n\u001b[0;32m     19\u001b[0m \u001b[0mplt\u001b[0m\u001b[1;33m.\u001b[0m\u001b[0mshow\u001b[0m\u001b[1;33m(\u001b[0m\u001b[1;33m)\u001b[0m\u001b[1;33m\u001b[0m\u001b[1;33m\u001b[0m\u001b[0m\n",
      "\u001b[1;32mc:\\Users\\Joe\\Documents\\ML-Learning\\Utils\\dataset.py\u001b[0m in \u001b[0;36m__getitem__\u001b[1;34m(self, idx)\u001b[0m\n\u001b[0;32m    118\u001b[0m     \u001b[1;31m#  This saves us from transforming individual images, which is very slow.\u001b[0m\u001b[1;33m\u001b[0m\u001b[1;33m\u001b[0m\u001b[1;33m\u001b[0m\u001b[0m\n\u001b[0;32m    119\u001b[0m     \u001b[1;32mdef\u001b[0m \u001b[0m__getitem__\u001b[0m\u001b[1;33m(\u001b[0m\u001b[0mself\u001b[0m\u001b[1;33m,\u001b[0m \u001b[0midx\u001b[0m\u001b[1;33m)\u001b[0m\u001b[1;33m:\u001b[0m\u001b[1;33m\u001b[0m\u001b[1;33m\u001b[0m\u001b[0m\n\u001b[1;32m--> 120\u001b[1;33m         \u001b[1;32mreturn\u001b[0m \u001b[0mself\u001b[0m\u001b[1;33m.\u001b[0m\u001b[0mtransformed_images\u001b[0m\u001b[1;33m[\u001b[0m\u001b[0midx\u001b[0m\u001b[1;33m]\u001b[0m\u001b[1;33m,\u001b[0m \u001b[0mself\u001b[0m\u001b[1;33m.\u001b[0m\u001b[0mtargets\u001b[0m\u001b[1;33m[\u001b[0m\u001b[0midx\u001b[0m\u001b[1;33m]\u001b[0m\u001b[1;33m\u001b[0m\u001b[1;33m\u001b[0m\u001b[0m\n\u001b[0m\u001b[0;32m    121\u001b[0m \u001b[1;33m\u001b[0m\u001b[0m\n\u001b[0;32m    122\u001b[0m \u001b[1;33m\u001b[0m\u001b[0m\n",
      "\u001b[1;31mIndexError\u001b[0m: index 1 is out of bounds for dimension 0 with size 1"
     ]
    },
    {
     "data": {
      "image/png": "[encoded data removed]",
      "text/plain": [
       "<Figure size 1500x500 with 5 Axes>"
      ]
     },
     "metadata": {},
     "output_type": "display_data"
    }
   ],
   "source": [
    "transform = transforms.Compose([\n",
    "    transforms.ToTensor(),\n",
    "    transforms.Normalize((0.1307,), (0.3081,)),\n",
    "])\n",
    "\n",
    "subset_size = 1\n",
    "raw_dataset = datasets.MNIST(root=\"../Datasets/\", train=True, transform=transform, download=False)\n",
    "raw_dataset = torch.utils.data.Subset(raw_dataset, range(subset_size))\n",
    "\n",
    "positive_dataset = PreloadedDataset.from_dataset(raw_dataset, transforms.ToTensor(), device)\n",
    "print(f'Loaded MNIST with {len(positive_dataset)} samples')\n",
    "# show first samples\n",
    "import matplotlib.pyplot as plt\n",
    "import numpy as np\n",
    "fig, axs = plt.subplots(1, 5, figsize=(15, 5))\n",
    "for i in range(5):\n",
    "    axs[i].imshow(np.squeeze(positive_dataset[i][0].numpy()), cmap='gray')\n",
    "    axs[i].set_title(f\"Label: {positive_dataset[i][1]}\")\n",
    "plt.show()"
   ]
  },
  {
   "cell_type": "code",
   "execution_count": 4,
   "metadata": {},
   "outputs": [],
   "source": [
    "def mix_images(x1, x2, steps=10):\n",
    "    mask = torch.bernoulli(torch.ones((28,28))*0.5).unsqueeze(0).unsqueeze(0)\n",
    "    # blur  with a filter of the form [1/4, 1/2, 1/4] in both horizontal and veritical directions\n",
    "    filter_h = torch.tensor([[1/4, 1/2, 1/4]])\n",
    "    filter_v = torch.tensor([[1/4], [1/2], [1/4]])\n",
    "    for _ in range(5):\n",
    "        mask = F.conv2d(mask, filter_h.unsqueeze(0).unsqueeze(0), padding='same')\n",
    "        mask = F.conv2d(mask, filter_v.unsqueeze(0).unsqueeze(0), padding='same')\n",
    "\n",
    "    \n",
    "    # threshold at 0.5\n",
    "    mask_1 = mask > 0.5\n",
    "    mask_2 = mask <= 0.5\n",
    "\n",
    "    out = x1*mask_1 + x2*mask_2\n",
    "    return out.squeeze(0)"
   ]
  },
  {
   "cell_type": "code",
   "execution_count": 5,
   "metadata": {},
   "outputs": [
    {
     "name": "stderr",
     "output_type": "stream",
     "text": [
      "                                     "
     ]
    },
    {
     "name": "stdout",
     "output_type": "stream",
     "text": [
      "Loaded MNIST with 1 samples\n"
     ]
    },
    {
     "name": "stderr",
     "output_type": "stream",
     "text": [
      "\r"
     ]
    },
    {
     "ename": "IndexError",
     "evalue": "index 1 is out of bounds for dimension 0 with size 1",
     "output_type": "error",
     "traceback": [
      "\u001b[1;31m---------------------------------------------------------------------------\u001b[0m",
      "\u001b[1;31mIndexError\u001b[0m                                Traceback (most recent call last)",
      "\u001b[1;32m~\\AppData\\Local\\Temp\\ipykernel_31156\\1203964420.py\u001b[0m in \u001b[0;36m<module>\u001b[1;34m\u001b[0m\n\u001b[0;32m     16\u001b[0m \u001b[0mfig\u001b[0m\u001b[1;33m,\u001b[0m \u001b[0maxs\u001b[0m \u001b[1;33m=\u001b[0m \u001b[0mplt\u001b[0m\u001b[1;33m.\u001b[0m\u001b[0msubplots\u001b[0m\u001b[1;33m(\u001b[0m\u001b[1;36m1\u001b[0m\u001b[1;33m,\u001b[0m \u001b[1;36m5\u001b[0m\u001b[1;33m,\u001b[0m \u001b[0mfigsize\u001b[0m\u001b[1;33m=\u001b[0m\u001b[1;33m(\u001b[0m\u001b[1;36m15\u001b[0m\u001b[1;33m,\u001b[0m \u001b[1;36m5\u001b[0m\u001b[1;33m)\u001b[0m\u001b[1;33m)\u001b[0m\u001b[1;33m\u001b[0m\u001b[1;33m\u001b[0m\u001b[0m\n\u001b[0;32m     17\u001b[0m \u001b[1;32mfor\u001b[0m \u001b[0mi\u001b[0m \u001b[1;32min\u001b[0m \u001b[0mrange\u001b[0m\u001b[1;33m(\u001b[0m\u001b[1;36m5\u001b[0m\u001b[1;33m)\u001b[0m\u001b[1;33m:\u001b[0m\u001b[1;33m\u001b[0m\u001b[1;33m\u001b[0m\u001b[0m\n\u001b[1;32m---> 18\u001b[1;33m     \u001b[0maxs\u001b[0m\u001b[1;33m[\u001b[0m\u001b[0mi\u001b[0m\u001b[1;33m]\u001b[0m\u001b[1;33m.\u001b[0m\u001b[0mimshow\u001b[0m\u001b[1;33m(\u001b[0m\u001b[0mnp\u001b[0m\u001b[1;33m.\u001b[0m\u001b[0msqueeze\u001b[0m\u001b[1;33m(\u001b[0m\u001b[0mnegative_dataset\u001b[0m\u001b[1;33m[\u001b[0m\u001b[0mi\u001b[0m\u001b[1;33m]\u001b[0m\u001b[1;33m[\u001b[0m\u001b[1;36m0\u001b[0m\u001b[1;33m]\u001b[0m\u001b[1;33m.\u001b[0m\u001b[0mnumpy\u001b[0m\u001b[1;33m(\u001b[0m\u001b[1;33m)\u001b[0m\u001b[1;33m)\u001b[0m\u001b[1;33m,\u001b[0m \u001b[0mcmap\u001b[0m\u001b[1;33m=\u001b[0m\u001b[1;34m'gray'\u001b[0m\u001b[1;33m)\u001b[0m\u001b[1;33m\u001b[0m\u001b[1;33m\u001b[0m\u001b[0m\n\u001b[0m\u001b[0;32m     19\u001b[0m     \u001b[0maxs\u001b[0m\u001b[1;33m[\u001b[0m\u001b[0mi\u001b[0m\u001b[1;33m]\u001b[0m\u001b[1;33m.\u001b[0m\u001b[0mset_title\u001b[0m\u001b[1;33m(\u001b[0m\u001b[1;34mf\"Label: {negative_dataset[i][1]}\"\u001b[0m\u001b[1;33m)\u001b[0m\u001b[1;33m\u001b[0m\u001b[1;33m\u001b[0m\u001b[0m\n\u001b[0;32m     20\u001b[0m \u001b[0mplt\u001b[0m\u001b[1;33m.\u001b[0m\u001b[0mshow\u001b[0m\u001b[1;33m(\u001b[0m\u001b[1;33m)\u001b[0m\u001b[1;33m\u001b[0m\u001b[1;33m\u001b[0m\u001b[0m\n",
      "\u001b[1;32mc:\\Users\\Joe\\Documents\\ML-Learning\\Utils\\dataset.py\u001b[0m in \u001b[0;36m__getitem__\u001b[1;34m(self, idx)\u001b[0m\n\u001b[0;32m    118\u001b[0m     \u001b[1;31m#  This saves us from transforming individual images, which is very slow.\u001b[0m\u001b[1;33m\u001b[0m\u001b[1;33m\u001b[0m\u001b[1;33m\u001b[0m\u001b[0m\n\u001b[0;32m    119\u001b[0m     \u001b[1;32mdef\u001b[0m \u001b[0m__getitem__\u001b[0m\u001b[1;33m(\u001b[0m\u001b[0mself\u001b[0m\u001b[1;33m,\u001b[0m \u001b[0midx\u001b[0m\u001b[1;33m)\u001b[0m\u001b[1;33m:\u001b[0m\u001b[1;33m\u001b[0m\u001b[1;33m\u001b[0m\u001b[0m\n\u001b[1;32m--> 120\u001b[1;33m         \u001b[1;32mreturn\u001b[0m \u001b[0mself\u001b[0m\u001b[1;33m.\u001b[0m\u001b[0mtransformed_images\u001b[0m\u001b[1;33m[\u001b[0m\u001b[0midx\u001b[0m\u001b[1;33m]\u001b[0m\u001b[1;33m,\u001b[0m \u001b[0mself\u001b[0m\u001b[1;33m.\u001b[0m\u001b[0mtargets\u001b[0m\u001b[1;33m[\u001b[0m\u001b[0midx\u001b[0m\u001b[1;33m]\u001b[0m\u001b[1;33m\u001b[0m\u001b[1;33m\u001b[0m\u001b[0m\n\u001b[0m\u001b[0;32m    121\u001b[0m \u001b[1;33m\u001b[0m\u001b[0m\n\u001b[0;32m    122\u001b[0m \u001b[1;33m\u001b[0m\u001b[0m\n",
      "\u001b[1;31mIndexError\u001b[0m: index 1 is out of bounds for dimension 0 with size 1"
     ]
    },
    {
     "data": {
      "image/png": "[encoded data removed]",
      "text/plain": [
       "<Figure size 1500x500 with 5 Axes>"
      ]
     },
     "metadata": {},
     "output_type": "display_data"
    }
   ],
   "source": [
    "# Create second dataset using the mix func to build negative examples\n",
    "negative_dataset = PreloadedDataset.from_dataset(raw_dataset, transforms.ToTensor(), device)\n",
    "print(f'Loaded MNIST with {len(negative_dataset)} samples')\n",
    "\n",
    "def mix_dataset(dataset):\n",
    "    for i in range(len(dataset)):\n",
    "        j = i + 1 if i < len(dataset) - 1 else 0\n",
    "        dataset.transformed_images[i] = mix_images(dataset.images[i], dataset.images[j])\n",
    "    return dataset\n",
    "\n",
    "negative_dataset = mix_dataset(negative_dataset)\n",
    "\n",
    "# show first samples\n",
    "import matplotlib.pyplot as plt\n",
    "import numpy as np\n",
    "fig, axs = plt.subplots(1, 5, figsize=(15, 5))\n",
    "for i in range(5):\n",
    "    axs[i].imshow(np.squeeze(negative_dataset[i][0].numpy()), cmap='gray')\n",
    "    axs[i].set_title(f\"Label: {negative_dataset[i][1]}\")\n",
    "plt.show()\n"
   ]
  },
  {
   "cell_type": "code",
   "execution_count": 6,
   "metadata": {},
   "outputs": [],
   "source": [
    "class Model(nn.Module):\n",
    "\n",
    "    def __init__(self, in_features, out_features, hiddens=[]):\n",
    "        super(Model, self).__init__()\n",
    "        self.shape = [in_features] + hiddens + [out_features]\n",
    "        layers = []\n",
    "        for h in hiddens:\n",
    "            layers.append(nn.Linear(h, in_features))\n",
    "            in_features = h\n",
    "        layers.append(nn.Linear(out_features, in_features))\n",
    "        self.layers = nn.ModuleList(layers)\n",
    "\n",
    "    def init_state(self, batch_size=1):\n",
    "        E = [torch.zeros((batch_size, self.shape[i])) for i in range(len(self.shape)-1)]\n",
    "        R = [torch.zeros((batch_size, self.shape[i+1])) for i in range(len(self.shape)-1)]\n",
    "        return [E,R]\n",
    "\n",
    "    def step(self, x, state=None):\n",
    "        if state is None:\n",
    "            state = self.init_state(len(x))\n",
    "        else:\n",
    "            for i in range(len(self.layers)):\n",
    "                state[0][i] = state[0][i].detach()\n",
    "                state[1][i] = state[1][i].detach()\n",
    "\n",
    "        with torch.no_grad():\n",
    "            for i in range(len(self.layers)):\n",
    "                pred = self.layers[i](state[1][i])\n",
    "                state[0][i] = x - pred if i==0  else state[1][i-1] - pred\n",
    "        for i in range(len(self.layers)):\n",
    "            state[1][i] = state[1][i] + F.linear(state[0][i], self.layers[i].weight.T)\n",
    "        return state\n",
    "\n",
    "    def forward(self, x, state=None, steps=20):\n",
    "        for _ in range(steps):\n",
    "            state = self.step(x, state)\n",
    "        return state"
   ]
  },
  {
   "cell_type": "code",
   "execution_count": 51,
   "metadata": {},
   "outputs": [],
   "source": [
    "def measure_errs(\n",
    "        model,\n",
    "        dataloader,\n",
    "):\n",
    "    E = [0.0 for _ in range(len(model.layers))]\n",
    "\n",
    "    for batch_idx, (images, _) in enumerate(dataloader):\n",
    "        images = images.flatten(start_dim=1)\n",
    "        state = model(images, steps=5)\n",
    "        for i, e in enumerate(state[0]):\n",
    "            E[i] += e.abs().mean()\n",
    "    \n",
    "    for i in range(len(E)):\n",
    "        E[i] /= batch_idx+1\n",
    "\n",
    "    return E\n",
    "\n",
    "def train(\n",
    "        model,\n",
    "        positive_dataset,\n",
    "        negative_dataset,\n",
    "        batch_size,\n",
    "        lr,\n",
    "        epochs,\n",
    "        measure_errs_every=1,\n",
    "        step=0,\n",
    "):\n",
    "    # writer = SummaryWriter(\"Deep_Learning/Experimental/Hebbian_Learning/mnist/out/logs\")\n",
    "    Es = [[] for _ in range(len(model.layers))]\n",
    "    layer_reg_coeff = [0.3, 0.1]\n",
    "    positive_dataloader = torch.utils.data.DataLoader(positive_dataset, batch_size=batch_size, shuffle=True)\n",
    "\n",
    "    for epoch in range(epochs):\n",
    "        negative_dataset = mix_dataset(negative_dataset)\n",
    "        negative_dataloader = torch.utils.data.DataLoader(negative_dataset, batch_size=batch_size, shuffle=True)\n",
    "        \n",
    "        # For some dumb reason, i have to reinitialise the loop every epoch\n",
    "        loop = tqdm(enumerate(positive_dataloader), total=len(positive_dataloader), leave=False) \n",
    "\n",
    "        neg_it = iter(negative_dataloader)\n",
    "        for batch_idx, (images, y) in loop:\n",
    "            images = images.flatten(start_dim=1)\n",
    "\n",
    "            for phase in range(2):\n",
    "                phase_coeff = 1.0\n",
    "                if phase == 1: # Negative phase\n",
    "                    continue\n",
    "                    # images = torch.randn_like(images)\n",
    "                    images = next(neg_it)[0].flatten(start_dim=1)\n",
    "                    phase_coeff = -0.5\n",
    "\n",
    "                state = model.init_state(len(images))\n",
    "                for step_i in range(4):\n",
    "                    state = model.step(images, state)\n",
    "                    if step_i > 0:\n",
    "                        model.zero_grad()\n",
    "                        reg = -1.0 * sum(l.weight.square().mean() for l in model.layers)\n",
    "                        reg.backward()\n",
    "                        \n",
    "                        for i in range(len(model.layers)):\n",
    "                            model.layers[i].weight.grad += -state[0][i].T @ state[1][i]\n",
    "                            model.layers[i].weight.grad /= len(images)\n",
    "                            # print(f'epoch: {epoch}, batch: {batch_idx}, layer: {i}, phase: {phase}, step: {step_i}')\n",
    "                            # print(f'e_mag: {state[0][i].abs().mean()}, r_mag: {state[1][i].abs().mean()}')\n",
    "                            # print(model.layers[i].weight.grad.abs().mean())\n",
    "                            model.layers[i].weight.data += phase_coeff*lr*model.layers[i].weight.grad\n",
    "\n",
    "            step += len(images)\n",
    "\n",
    "        if epoch % measure_errs_every == 0:\n",
    "            E = measure_errs(model, positive_dataloader)\n",
    "            for i, e in enumerate(E):\n",
    "                Es[i].append(e)\n",
    "\n",
    "    return Es, step"
   ]
  },
  {
   "cell_type": "code",
   "execution_count": 67,
   "metadata": {},
   "outputs": [
    {
     "data": {
      "text/plain": [
       "tensor(0.0227)"
      ]
     },
     "execution_count": 67,
     "metadata": {},
     "output_type": "execute_result"
    }
   ],
   "source": [
    "positive_dataset[0][0].flatten().mean()"
   ]
  },
  {
   "cell_type": "code",
   "execution_count": 58,
   "metadata": {},
   "outputs": [],
   "source": [
    "model = Model(784, 64, [])\n",
    "for layer in model.layers:\n",
    "    layer.weight.data *= 0.01\n",
    "step = 0"
   ]
  },
  {
   "cell_type": "code",
   "execution_count": 11,
   "metadata": {},
   "outputs": [
    {
     "name": "stdout",
     "output_type": "stream",
     "text": [
      "layer: 0, e_mag: 0.717157781124115, r_mag: 0.04973415285348892\n",
      "layer: 1, e_mag: 0.058073725551366806, r_mag: 0.0022778718266636133\n",
      "layer: 2, e_mag: 0.06193847954273224, r_mag: 0.0026818341575562954\n"
     ]
    }
   ],
   "source": [
    "batch_size = 4\n",
    "dataloader = torch.utils.data.DataLoader(positive_dataset, batch_size=batch_size, shuffle=True)\n",
    "x = next(iter(dataloader))[0].flatten(start_dim=1)\n",
    "state = model.init_state(len(x))\n",
    "\n",
    "state = model.step(x, state)\n",
    "state = model.step(x, state)\n",
    "state = model.step(x, state)\n",
    "state = model.step(x, state)\n",
    "state = model.step(x, state)\n",
    "state = model.step(x, state)\n",
    "\n",
    "for i in range(len(model.layers)):\n",
    "    print(f'layer: {i}, e_mag: {state[0][i].abs().mean()}, r_mag: {state[1][i].abs().mean()}')\n"
   ]
  },
  {
   "cell_type": "code",
   "execution_count": 57,
   "metadata": {},
   "outputs": [
    {
     "name": "stderr",
     "output_type": "stream",
     "text": [
      "                                     \r"
     ]
    },
    {
     "data": {
      "image/png": "[encoded data removed]",
      "text/plain": [
       "<Figure size 640x480 with 1 Axes>"
      ]
     },
     "metadata": {},
     "output_type": "display_data"
    }
   ],
   "source": [
    "batch_size = 1\n",
    "lr = 0.0001\n",
    "optimiser = torch.optim.AdamW(model.parameters(), lr, weight_decay=1.0)\n",
    "epochs=100\n",
    "Es, step = train(\n",
    "    model,\n",
    "    positive_dataset,\n",
    "    negative_dataset,\n",
    "    batch_size,\n",
    "    lr,\n",
    "    epochs,\n",
    "    step=step,\n",
    ")\n",
    "# plot logarithmic\n",
    "for i, e in enumerate(Es):\n",
    "    plt.plot(e, label=f'layer {i}')\n",
    "# plt.yscale('log')\n",
    "plt.legend()\n",
    "plt.title('Errors')\n",
    "plt.show()"
   ]
  },
  {
   "cell_type": "code",
   "execution_count": 79,
   "metadata": {},
   "outputs": [
    {
     "name": "stdout",
     "output_type": "stream",
     "text": [
      "tensor(2.2823e+28)\n"
     ]
    }
   ],
   "source": [
    "for i, e in enumerate(Es):\n",
    "    print(max(e))"
   ]
  },
  {
   "cell_type": "code",
   "execution_count": null,
   "metadata": {},
   "outputs": [
    {
     "name": "stdout",
     "output_type": "stream",
     "text": [
      "tensor(0.0613, grad_fn=<MeanBackward0>) tensor(0.0634, grad_fn=<MeanBackward0>)\n",
      "tensor(0.0312, grad_fn=<MeanBackward0>) tensor(0.0274, grad_fn=<MeanBackward0>)\n"
     ]
    }
   ],
   "source": [
    "for layer in model.layers:\n",
    "    print(layer.weight.abs().mean(), layer.bias.abs().mean())"
   ]
  },
  {
   "cell_type": "code",
   "execution_count": null,
   "metadata": {},
   "outputs": [
    {
     "name": "stdout",
     "output_type": "stream",
     "text": [
      "tensor(1.0533)\n",
      "tensor(2.9642)\n",
      "tensor(1.0847)\n",
      "tensor(2.9922)\n",
      "tensor(0.9877)\n",
      "tensor(2.7128)\n"
     ]
    }
   ],
   "source": [
    "positive_sample = positive_dataset[0][0].flatten().unsqueeze(0)\n",
    "negative_sample = negative_dataset[0][0].flatten().unsqueeze(0)\n",
    "random_sample = torch.randn_like(positive_sample)\n",
    "\n",
    "out1 = model(positive_sample)\n",
    "out2 = model(negative_sample)\n",
    "out3 = model(random_sample)\n",
    "\n",
    "print(out1[0][0].abs().mean())\n",
    "print(out1[0][1].abs().mean())\n",
    "print(out2[0][0].abs().mean())\n",
    "print(out2[0][1].abs().mean())\n",
    "print(out3[0][0].abs().mean())\n",
    "print(out3[0][1].abs().mean())\n"
   ]
  }
 ],
 "metadata": {
  "kernelspec": {
   "display_name": "ml-env",
   "language": "python",
   "name": "python3"
  },
  "language_info": {
   "codemirror_mode": {
    "name": "ipython",
    "version": 3
   },
   "file_extension": ".py",
   "mimetype": "text/x-python",
   "name": "python",
   "nbconvert_exporter": "python",
   "pygments_lexer": "ipython3",
   "version": "3.7.15"
  },
  "orig_nbformat": 4
 },
 "nbformat": 4,
 "nbformat_minor": 2
}
