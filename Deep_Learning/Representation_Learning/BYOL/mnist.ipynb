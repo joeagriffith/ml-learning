{
 "cells": [
  {
   "cell_type": "code",
   "execution_count": 2,
   "metadata": {},
   "outputs": [],
   "source": [
    "import torch\n",
    "import torch.nn as nn\n",
    "import torch.nn.functional as F\n",
    "import torchvision.transforms as transforms\n",
    "import torchvision.datasets as datasets\n",
    "from torch.utils.data import DataLoader\n",
    "from torch.utils.tensorboard import SummaryWriter\n",
    "from Utils.dataset import PreloadedDataset\n",
    "import matplotlib.pyplot as plt\n",
    "from tqdm import tqdm\n",
    "\n",
    "from Deep_Learning.Representation_Learning.BYOL.model import Model\n",
    "from Deep_Learning.Representation_Learning.BYOL.train import train"
   ]
  },
  {
   "cell_type": "code",
   "execution_count": 3,
   "metadata": {},
   "outputs": [],
   "source": [
    "device = torch.device('cuda' if torch.cuda.is_available() else 'cpu')\n",
    "torch.backends.cudnn.benchmark = True"
   ]
  },
  {
   "cell_type": "code",
   "execution_count": 4,
   "metadata": {},
   "outputs": [
    {
     "name": "stderr",
     "output_type": "stream",
     "text": [
      "  0%|          | 0/48000 [00:00<?, ?it/s]"
     ]
    },
    {
     "name": "stderr",
     "output_type": "stream",
     "text": [
      "                                                        \r"
     ]
    },
    {
     "data": {
      "image/png": "[encoded data removed]",
      "text/plain": [
       "<Figure size 1500x500 with 10 Axes>"
      ]
     },
     "metadata": {},
     "output_type": "display_data"
    },
    {
     "name": "stdout",
     "output_type": "stream",
     "text": [
      "Max value: tensor(1., device='cuda:0')\n",
      "Min value: tensor(0., device='cuda:0')\n"
     ]
    }
   ],
   "source": [
    "dataset = datasets.MNIST(root='../Datasets/', train=True, transform=transforms.ToTensor(), download=True)\n",
    "t_dataset = datasets.MNIST(root='../Datasets/', train=False, transform=transforms.ToTensor(), download=True)\n",
    "\n",
    "VAL_RATIO = 0.2\n",
    "n_val = int(len(dataset) * VAL_RATIO)\n",
    "n_train = len(dataset) - n_val\n",
    "train_set, val_set = torch.utils.data.random_split(dataset, [n_train, n_val])\n",
    "\n",
    "train_transform = transforms.Compose([\n",
    "    transforms.ToTensor(),\n",
    "    # transforms.RandomAffine(degrees=10, translate=(0.1, 0.1), scale=(0.9, 1.1)),\n",
    "    # transforms.Normalize((0.1307,), (0.3081,)),\n",
    "    # SigmoidTransform(),\n",
    "    # TanhTransform(),\n",
    "])\n",
    "val_transform = transforms.Compose([\n",
    "    transforms.ToTensor(),\n",
    "    # transforms.Normalize((0.1307,), (0.3081,)),\n",
    "    # SigmoidTransform(),\n",
    "    # TanhTransform()\n",
    "])\n",
    "\n",
    "augmentation = transforms.Compose([\n",
    "    transforms.RandomApply([transforms.RandomAffine(degrees=180)], p=0.75),\n",
    "    transforms.RandomApply([transforms.RandomAffine(degrees=0, translate=(0.286, 0))], p=0.75),\n",
    "    transforms.RandomApply([transforms.RandomAffine(degrees=0, translate=(0, 0.286))], p=0.75),\n",
    "    transforms.RandomApply([transforms.RandomAffine(degrees=0, scale=(0.75, 1.25))], p=0.75),\n",
    "    transforms.RandomApply([transforms.RandomAffine(degrees=0, shear=25)], p=0.75),\n",
    "])\n",
    "\n",
    "train_set = PreloadedDataset.from_dataset(train_set, train_transform, device)\n",
    "val_set = PreloadedDataset.from_dataset(val_set, val_transform, device)\n",
    "test_set = PreloadedDataset.from_dataset(t_dataset, val_transform, device)\n",
    "\n",
    "# Show example images\n",
    "fig, axes = plt.subplots(1, 10, figsize=(15,5))\n",
    "for i, ax in enumerate(axes):\n",
    "    img, label = train_set[i]\n",
    "    img = augmentation(img)\n",
    "    ax.imshow(img.squeeze().cpu(), cmap='gray')\n",
    "    ax.set_title(f\"Label: {label}\")\n",
    "    ax.axis('off')\n",
    "plt.show()\n",
    "\n",
    "# print max and min values\n",
    "print('Max value:', train_set.transformed_images.max())\n",
    "print('Min value:', train_set.transformed_images.min())"
   ]
  },
  {
   "cell_type": "code",
   "execution_count": 5,
   "metadata": {},
   "outputs": [
    {
     "data": {
      "image/png": "[encoded data removed]",
      "text/plain": [
       "<Figure size 1500x500 with 10 Axes>"
      ]
     },
     "metadata": {},
     "output_type": "display_data"
    }
   ],
   "source": [
    "images = train_set.transformed_images[:5]\n",
    "images = torch.cat([images, images], dim=1).view(-1, 1, 28, 28).contiguous()\n",
    "\n",
    "fig, axes = plt.subplots(1, 10, figsize=(15,5))\n",
    "for i, ax in enumerate(axes):\n",
    "    img = images[i]\n",
    "    ax.imshow(img.squeeze().cpu(), cmap='gray')\n",
    "    ax.axis('off')\n",
    "plt.show()"
   ]
  },
  {
   "cell_type": "code",
   "execution_count": 8,
   "metadata": {},
   "outputs": [],
   "source": [
    "model_name = 'BYOL-0.001-BS256'\n",
    "log_dir = f'Deep_Learning/Representation_Learning/logs/{model_name}'\n",
    "save_dir = f'Deep_Learning/Representation_Learning/BYOL/models/{model_name}.pth'\n",
    "# log_dir = None\n",
    "# save_dir = None\n",
    "writer = None\n",
    "if log_dir is not None:\n",
    "    writer = SummaryWriter(log_dir)\n",
    "model = Model(in_features=1).to(device)"
   ]
  },
  {
   "cell_type": "code",
   "execution_count": 9,
   "metadata": {},
   "outputs": [
    {
     "name": "stdout",
     "output_type": "stream",
     "text": [
      "Model not found, training new model\n"
     ]
    },
    {
     "name": "stderr",
     "output_type": "stream",
     "text": [
      "                                                                                                          \r"
     ]
    },
    {
     "name": "stdout",
     "output_type": "stream",
     "text": [
      "Loading Best Model\n"
     ]
    }
   ],
   "source": [
    "to_train = True\n",
    "if save_dir is not None:\n",
    "    try:\n",
    "        model.load_state_dict(torch.load(save_dir))\n",
    "        to_train = False\n",
    "    except FileNotFoundError:\n",
    "        pass\n",
    "        print('Model not found, training new model')\n",
    "if to_train:\n",
    "    train(\n",
    "        model,\n",
    "        train_set,\n",
    "        val_set,\n",
    "        num_epochs=500,\n",
    "        batch_size=256,\n",
    "        lr=0.001,\n",
    "        wd=1.5e-6,\n",
    "        augmentation=augmentation,\n",
    "        writer=writer,\n",
    "        save_dir=save_dir,\n",
    "        save_every=5,\n",
    "    )"
   ]
  },
  {
   "cell_type": "code",
   "execution_count": 9,
   "metadata": {},
   "outputs": [
    {
     "name": "stdout",
     "output_type": "stream",
     "text": [
      "Loading Best Model\n"
     ]
    }
   ],
   "source": [
    "print(\"Loading Best Model\")\n",
    "if save_dir is not None:\n",
    "    try:\n",
    "        model.load_state_dict(torch.load(save_dir))\n",
    "    except FileNotFoundError:\n",
    "        print('Model not found')"
   ]
  },
  {
   "cell_type": "code",
   "execution_count": 10,
   "metadata": {},
   "outputs": [
    {
     "name": "stderr",
     "output_type": "stream",
     "text": [
      "                                                                                                                           \r"
     ]
    }
   ],
   "source": [
    "classifier = nn.Linear(512, 10).to(device)\n",
    "\n",
    "num_epochs = 100\n",
    "batch_size = 100\n",
    "lr = 0.01\n",
    "optimiser = torch.optim.AdamW(classifier.parameters(), lr=lr)\n",
    "\n",
    "indices = []\n",
    "for i in range(10):\n",
    "    idx = train_set.targets == i\n",
    "    indices.append(torch.where(idx)[0][:100])\n",
    "indices = torch.cat(indices)\n",
    "train1k = PreloadedDataset.from_dataset(train_set, train_transform, device)\n",
    "train1k.images = train1k.images[indices]\n",
    "train1k.transformed_images = train1k.transformed_images[indices]\n",
    "train1k.targets = train1k.targets[indices]\n",
    "\n",
    "train_loader = DataLoader(train1k, batch_size=batch_size, shuffle=True)\n",
    "val_loader = DataLoader(test_set, batch_size=batch_size, shuffle=False)\n",
    "scaler = torch.cuda.amp.GradScaler()\n",
    "\n",
    "last_train_loss = torch.tensor(-1, device=device) \n",
    "last_train_acc = torch.tensor(-1, device=device)\n",
    "last_val_loss = torch.tensor(-1, device=device)\n",
    "last_val_acc = torch.tensor(-1, device=device)\n",
    "\n",
    "postfix = {}\n",
    "for epoch in range(num_epochs):\n",
    "    loop = tqdm(enumerate(train_loader), total=len(train_loader), leave=False)\n",
    "    loop.set_description(f'Epoch [{epoch}/{num_epochs}]')\n",
    "    if epoch > 0:\n",
    "        loop.set_postfix(postfix)\n",
    "    epoch_train_loss = torch.zeros(len(train_loader), device=device)\n",
    "    epoch_train_acc = torch.zeros(len(train_loader), device=device)\n",
    "    for i, (x, y) in loop:\n",
    "        with torch.cuda.amp.autocast():\n",
    "            with torch.no_grad():\n",
    "                x = model(x)\n",
    "            y_pred = classifier(x)\n",
    "            loss = F.cross_entropy(y_pred, y)\n",
    "        optimiser.zero_grad(set_to_none=True)\n",
    "        scaler.scale(loss).backward()\n",
    "        scaler.step(optimiser)\n",
    "        scaler.update()\n",
    "\n",
    "        epoch_train_loss[i] = loss.detach()\n",
    "        epoch_train_acc[i] = (y_pred.argmax(dim=1) == y).float().mean().detach()\n",
    "\n",
    "    last_train_loss = epoch_train_loss.mean()\n",
    "    last_train_acc = epoch_train_acc.mean()\n",
    "    \n",
    "    with torch.no_grad():\n",
    "        epoch_val_loss = torch.zeros(len(val_loader), device=device) \n",
    "        epoch_val_acc = torch.zeros(len(val_loader), device=device)\n",
    "        for i, (x, y) in enumerate(val_loader):\n",
    "            with torch.cuda.amp.autocast():\n",
    "                x = model(x)\n",
    "                y_pred = classifier(x)\n",
    "                loss = F.cross_entropy(y_pred, y)\n",
    "            epoch_val_loss[i] = loss.detach()\n",
    "            epoch_val_acc[i] =  (y_pred.argmax(dim=1) == y).float().mean().detach()\n",
    "\n",
    "    last_val_loss = epoch_val_loss.mean()\n",
    "    last_val_acc = epoch_val_acc.mean()\n",
    "    \n",
    "    if writer is not None:\n",
    "        writer.add_scalar('Classifier/train_loss', last_train_loss.item(), epoch)\n",
    "        writer.add_scalar('Classifier/train_acc', last_train_acc.item(), epoch)\n",
    "        writer.add_scalar('Classifier/val_loss', last_val_loss.item(), epoch)\n",
    "        writer.add_scalar('Classifier/val_acc', last_val_acc.item(), epoch)\n",
    "    postfix = {\n",
    "        'Train Loss': last_train_loss.item(),\n",
    "        'Train Acc': last_train_acc.item(),\n",
    "        'Val Loss': last_val_loss.item(),\n",
    "        'Val Acc': last_val_acc.item(),\n",
    "    }\n",
    "    loop.set_postfix(postfix)\n",
    "    loop.close()"
   ]
  }
 ],
 "metadata": {
  "kernelspec": {
   "display_name": "ml-env",
   "language": "python",
   "name": "python3"
  },
  "language_info": {
   "codemirror_mode": {
    "name": "ipython",
    "version": 3
   },
   "file_extension": ".py",
   "mimetype": "text/x-python",
   "name": "python",
   "nbconvert_exporter": "python",
   "pygments_lexer": "ipython3",
   "version": "3.11.4"
  },
  "orig_nbformat": 4
 },
 "nbformat": 4,
 "nbformat_minor": 2
}
