{
 "cells": [
  {
   "attachments": {},
   "cell_type": "markdown",
   "metadata": {},
   "source": [
    "# Based on 'A  Neural Probabilistic Language Model' Bengio et al. 2003"
   ]
  },
  {
   "cell_type": "code",
   "execution_count": 142,
   "metadata": {},
   "outputs": [],
   "source": [
    "import torch\n",
    "import torch.nn.functional as F\n",
    "from torch.utils.data import DataLoader\n",
    "import matplotlib.pyplot as plt\n",
    "from tqdm import tqdm\n",
    "%matplotlib inline"
   ]
  },
  {
   "cell_type": "code",
   "execution_count": 143,
   "metadata": {},
   "outputs": [],
   "source": [
    "device = torch.device('cuda') if torch.cuda.is_available() else torch.device('cpu')\n",
    "device = torch.device('cpu')"
   ]
  },
  {
   "cell_type": "code",
   "execution_count": 144,
   "metadata": {},
   "outputs": [
    {
     "data": {
      "text/plain": [
       "['emma',\n",
       " 'olivia',\n",
       " 'ava',\n",
       " 'isabella',\n",
       " 'sophia',\n",
       " 'charlotte',\n",
       " 'mia',\n",
       " 'amelia',\n",
       " 'harper',\n",
       " 'evelyn']"
      ]
     },
     "execution_count": 144,
     "metadata": {},
     "output_type": "execute_result"
    }
   ],
   "source": [
    "words = open('Deep_Learning/NLP/makemore/names.txt', 'r').read().splitlines()\n",
    "words[:10]"
   ]
  },
  {
   "cell_type": "code",
   "execution_count": 145,
   "metadata": {},
   "outputs": [
    {
     "name": "stdout",
     "output_type": "stream",
     "text": [
      "{1: 'a', 2: 'b', 3: 'c', 4: 'd', 5: 'e', 6: 'f', 7: 'g', 8: 'h', 9: 'i', 10: 'j', 11: 'k', 12: 'l', 13: 'm', 14: 'n', 15: 'o', 16: 'p', 17: 'q', 18: 'r', 19: 's', 20: 't', 21: 'u', 22: 'v', 23: 'w', 24: 'x', 25: 'y', 26: 'z', 0: '.'}\n",
      "vocab length: 27\n"
     ]
    }
   ],
   "source": [
    "# Build the vocab of characters and mappings to/from integers\n",
    "chars = sorted(list(set(''.join(words))))\n",
    "stoi = {s:i+1 for i,s in enumerate(chars)}\n",
    "stoi['.'] = 0\n",
    "itos = {i:s for s,i in stoi.items()}\n",
    "vocab_len = len(stoi)\n",
    "print(itos)\n",
    "print('vocab length:', vocab_len)"
   ]
  },
  {
   "cell_type": "code",
   "execution_count": 146,
   "metadata": {},
   "outputs": [],
   "source": [
    "import random\n",
    "random.seed(42)\n",
    "random.shuffle(words)"
   ]
  },
  {
   "cell_type": "code",
   "execution_count": 193,
   "metadata": {},
   "outputs": [],
   "source": [
    "block_size = 8\n",
    "\n",
    "def build_dataset(words, device=device):\n",
    "    X, Y = [], []\n",
    "    for w in words:\n",
    "        context = [0] * block_size\n",
    "        for ch in w + '.':\n",
    "            idx = stoi[ch]\n",
    "            X.append(context)\n",
    "            Y.append(idx)\n",
    "            # print(''.join(itos[i] for i in context), '-->', itos[idx])\n",
    "            context = context[1:] + [idx]\n",
    "    return torch.tensor(X).to(device), torch.tensor(Y).to(device)\n",
    "\n",
    "split1 = int(0.8 * len(words))\n",
    "split2 = int(0.9 * len(words))\n",
    "import random\n",
    "random.seed(42)\n",
    "random.shuffle(words)\n",
    "\n",
    "X_train, Y_train = build_dataset(words[:split1])\n",
    "X_val, Y_val = build_dataset(words[split1:split2])\n",
    "X_test, Y_test = build_dataset(words[split2:])\n"
   ]
  },
  {
   "cell_type": "code",
   "execution_count": 216,
   "metadata": {},
   "outputs": [],
   "source": [
    "class Linear:\n",
    "\n",
    "    def __init__(self, fan_in, fan_out, bias=True):\n",
    "        self.weight = torch.randn((fan_in, fan_out)) / fan_in**0.5 # kaiming init\n",
    "        self.bias = torch.zeros(fan_out) if bias else None\n",
    "\n",
    "    def __call__(self, x):\n",
    "        self.out = x @ self.weight\n",
    "        if self.bias is not None:\n",
    "            self.out += self.bias\n",
    "        return self.out\n",
    "    \n",
    "    def parameters(self):\n",
    "        return [self.weight] + ([self.bias] if self.bias is not None else [])\n",
    "\n",
    "    def to(self, device):\n",
    "        self.weight = self.weight.to(device)\n",
    "        if self.bias is not None:\n",
    "            self.bias = self.bias.to(device)\n",
    "\n",
    "\n",
    "class BatchNorm1d:\n",
    "\n",
    "    def __init__(self, dim, eps=1e-5, momentum=0.1):\n",
    "        self.eps = eps\n",
    "        self.momentum = momentum\n",
    "        self.training = True\n",
    "        # parameters (trained with backprop)\n",
    "        self.gamma = torch.ones(dim)\n",
    "        self.beta = torch.zeros(dim)\n",
    "        # buffers (trained with a running 'momentum update')\n",
    "        self.running_mean = torch.zeros(dim)\n",
    "        self.running_var = torch.ones(dim)\n",
    "\n",
    "    def __call__(self, x):\n",
    "        if self.training:\n",
    "            if x.ndim == 2:\n",
    "                dim = 0\n",
    "            elif x.ndim == 3:\n",
    "                dim = (0,1)\n",
    "            mean = x.mean(dim, keepdim=True)\n",
    "            var = x.var(dim, keepdim=True)\n",
    "        else:\n",
    "            mean = self.running_mean\n",
    "            var = self.running_var\n",
    "        x_hat = (x - mean) / (var + self.eps).sqrt()\n",
    "        self.out = self.gamma * x_hat + self.beta\n",
    "        if self.training:\n",
    "            self.running_mean = self.momentum * mean + (1 - self.momentum) * self.running_mean\n",
    "            self.running_var = self.momentum * var + (1 - self.momentum) * self.running_var\n",
    "        return self.out\n",
    "    \n",
    "    def parameters(self):\n",
    "        return [self.gamma, self.beta]\n",
    "    \n",
    "    def to(self, device):\n",
    "        self.gamma = self.gamma.to(device)\n",
    "        self.beta = self.beta.to(device)\n",
    "        self.running_mean = self.running_mean.to(device)\n",
    "        self.running_var = self.running_var.to(device)\n",
    "    \n",
    "\n",
    "class Tanh:\n",
    "    \n",
    "    def __call__(self, x):\n",
    "        self.out = x.tanh()\n",
    "        return self.out\n",
    "    \n",
    "    def parameters(self):\n",
    "        return []\n",
    "    \n",
    "    def to(self, device):\n",
    "        pass\n",
    "\n",
    "\n",
    "class Embedding:\n",
    "\n",
    "    def __init__(self, num_embeddings, emb_dim):\n",
    "        self.weight = torch.randn((num_embeddings, emb_dim))# / emb_dim**0.5\n",
    "\n",
    "    def __call__(self, x):\n",
    "        self.out = self.weight[x]\n",
    "        return self.out\n",
    "    \n",
    "    def parameters(self):\n",
    "        return [self.weight]\n",
    "    \n",
    "    def to(self, device):\n",
    "        self.weight = self.weight.to(device)\n",
    "\n",
    "\n",
    "class FlattenConsecutive:\n",
    "\n",
    "    def __init__(self, n):\n",
    "        self.n = n\n",
    "\n",
    "    def __call__(self, x):\n",
    "        B, T, C = x.shape\n",
    "        x = x.view(B, T//self.n, C*self.n)\n",
    "        if x.shape[1] == 1:\n",
    "            x = x.squeeze(1)\n",
    "        self.out = x\n",
    "        return self.out\n",
    "    \n",
    "    def parameters(self):\n",
    "        return []\n",
    "    \n",
    "    def to(self, device):\n",
    "        pass"
   ]
  },
  {
   "cell_type": "code",
   "execution_count": 217,
   "metadata": {},
   "outputs": [],
   "source": [
    "class Dataset:\n",
    "\n",
    "    def __init__(self, X, Y):\n",
    "        self.X = X\n",
    "        self.Y = Y\n",
    "\n",
    "    def __getitem__(self, idx):\n",
    "        return self.X[idx], self.Y[idx]\n",
    "\n",
    "    def __len__(self):\n",
    "        return len(self.X)\n",
    "\n",
    "train_dataset = Dataset(X_train, Y_train)\n",
    "val_dataset = Dataset(X_val, Y_val)"
   ]
  },
  {
   "cell_type": "code",
   "execution_count": 218,
   "metadata": {},
   "outputs": [
    {
     "name": "stdout",
     "output_type": "stream",
     "text": [
      "22397\n"
     ]
    }
   ],
   "source": [
    "# Define the model\n",
    "n_embd = 10\n",
    "n_hidden = 68\n",
    "\n",
    "class Model():\n",
    "    \n",
    "    def __init__(self):\n",
    "\n",
    "        self.layers = [\n",
    "            Embedding(vocab_len, n_embd), \n",
    "            FlattenConsecutive(2), Linear(n_embd*2, n_hidden, bias=False), BatchNorm1d(n_hidden), Tanh(),\n",
    "            FlattenConsecutive(2), Linear(n_hidden*2, n_hidden, bias=False), BatchNorm1d(n_hidden), Tanh(),\n",
    "            FlattenConsecutive(2), Linear(n_hidden*2, n_hidden, bias=False), BatchNorm1d(n_hidden), Tanh(),\n",
    "            Linear(n_hidden, vocab_len)\n",
    "        ]\n",
    "\n",
    "        # parameter init\n",
    "        with torch.no_grad():\n",
    "            self.layers[-1].weight /= 10.\n",
    "\n",
    "        self.parameters = [p for l in self.layers for p in l.parameters()]\n",
    "        for p in self.parameters:\n",
    "            p.requires_grad = True\n",
    "    \n",
    "    def __call__(self, x, eval=False):\n",
    "        for layer in self.layers:\n",
    "            x = layer(x)\n",
    "        return x\n",
    "\n",
    "    def eval(self):\n",
    "        for layer in self.layers:\n",
    "            if hasattr(layer, 'training'):\n",
    "                layer.training = False\n",
    "    \n",
    "    def train(self):\n",
    "        for layer in self.layers:\n",
    "            if hasattr(layer, 'training'):\n",
    "                layer.training = True\n",
    "    \n",
    "    def to(self, device):\n",
    "        for layer in self.layers:\n",
    "            layer.to(device)\n",
    "        return self\n",
    "\n",
    "torch.manual_seed(42)\n",
    "model = Model().to(device)\n",
    "print(sum(p.nelement() for p in model.parameters))\n",
    "# Initialise trackers\n",
    "train_lossi = []\n",
    "val_lossi = []"
   ]
  },
  {
   "cell_type": "code",
   "execution_count": 219,
   "metadata": {},
   "outputs": [],
   "source": [
    "def train(lr=0.01, epochs = 10, batch_size=32, eval_every=1, reduce_lr_every=20):\n",
    "    train_loader = DataLoader(train_dataset, batch_size=batch_size, shuffle=True)\n",
    "    val_loader = DataLoader(val_dataset, batch_size=batch_size, shuffle=False)\n",
    "\n",
    "    for epoch in range(epochs):\n",
    "\n",
    "        total_epoch_loss = 0.0\n",
    "        model.train()\n",
    "        # update\n",
    "        if epoch > 0 and epoch % reduce_lr_every == 0:\n",
    "            lr /= 3.0\n",
    "        loop = tqdm(train_loader, leave=False)\n",
    "        for Xmb, Ymb in loop:\n",
    "            if epoch > 0:\n",
    "                loop.set_description('Epoch {}/{}'.format(epoch, epochs))\n",
    "                loop.set_postfix(train_loss=train_lossi[-1], val_loss=val_lossi[-1])\n",
    "\n",
    "            # forward pass\n",
    "            logits = model(Xmb)\n",
    "            loss = F.cross_entropy(logits, Ymb)\n",
    "\n",
    "            # backward pass\n",
    "            for p in model.parameters:\n",
    "                p.grad = None\n",
    "            loss.backward()\n",
    "            total_epoch_loss += loss.item()\n",
    "\n",
    "            for p in model.parameters: \n",
    "                p.data += -lr * p.grad\n",
    "\n",
    "        train_lossi.append(total_epoch_loss / len(train_loader))\n",
    "\n",
    "        if epoch % eval_every == 0:\n",
    "            with torch.no_grad():\n",
    "                model.eval()\n",
    "                for Xmb, Ymb in val_loader:\n",
    "                    logits = model(Xmb)\n",
    "                    loss = F.cross_entropy(logits, Ymb)\n",
    "                    val_lossi.append(loss.item())\n",
    "                    break"
   ]
  },
  {
   "cell_type": "code",
   "execution_count": 222,
   "metadata": {},
   "outputs": [
    {
     "name": "stderr",
     "output_type": "stream",
     "text": [
      "                                                                                                \r"
     ]
    },
    {
     "name": "stdout",
     "output_type": "stream",
     "text": [
      "last train loss: 2.0182162580951566\n"
     ]
    },
    {
     "data": {
      "image/png": "[encoded data removed]",
      "text/plain": [
       "<Figure size 640x480 with 1 Axes>"
      ]
     },
     "metadata": {},
     "output_type": "display_data"
    }
   ],
   "source": [
    "train(epochs = 30, batch_size=128, eval_every=1, reduce_lr_every=50)\n",
    "plt.plot(train_lossi)\n",
    "plt.plot(val_lossi)\n",
    "print(f\"last train loss: {train_lossi[-1]}\")"
   ]
  },
  {
   "cell_type": "code",
   "execution_count": 221,
   "metadata": {},
   "outputs": [
    {
     "name": "stdout",
     "output_type": "stream",
     "text": [
      "yaleen.\n",
      "jual.\n",
      "marklleem.\n",
      "aiyana.\n",
      "nade.\n",
      "hadalora.\n",
      "amzi.\n",
      "jylah.\n",
      "marin.\n",
      "tianna.\n",
      "adanai.\n",
      "hanmel.\n",
      "avonna.\n",
      "egfis.\n",
      "kinnon.\n",
      "rissian.\n",
      "hamith.\n",
      "vaichy.\n",
      "unigon.\n",
      "larah.\n"
     ]
    }
   ],
   "source": [
    "# Sampling from the model\n",
    "\n",
    "model.eval()\n",
    "for _ in range (20):\n",
    "    out = []\n",
    "    context = [0] * block_size\n",
    "    while True:\n",
    "        logits = model(torch.tensor([context]))\n",
    "        probs = F.softmax(logits, dim=1)\n",
    "        idx = torch.multinomial(probs, num_samples=1).item()\n",
    "        context = context[1:] + [idx]\n",
    "        out.append(idx)\n",
    "        if idx == 0:\n",
    "            break\n",
    "    print(''.join(itos[i] for i in out))"
   ]
  }
 ],
 "metadata": {
  "kernelspec": {
   "display_name": "ml-env",
   "language": "python",
   "name": "python3"
  },
  "language_info": {
   "codemirror_mode": {
    "name": "ipython",
    "version": 3
   },
   "file_extension": ".py",
   "mimetype": "text/x-python",
   "name": "python",
   "nbconvert_exporter": "python",
   "pygments_lexer": "ipython3",
   "version": "3.11.4"
  },
  "orig_nbformat": 4
 },
 "nbformat": 4,
 "nbformat_minor": 2
}
