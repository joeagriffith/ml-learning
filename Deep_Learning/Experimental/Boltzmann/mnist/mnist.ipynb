{
 "cells": [
  {
   "cell_type": "code",
   "execution_count": 1,
   "metadata": {},
   "outputs": [],
   "source": [
    "import torch\n",
    "import torch.nn as nn\n",
    "import torch.nn.functional as F\n",
    "import torchvision.transforms as transforms\n",
    "import torchvision.datasets as datasets\n",
    "from Deep_Learning.Experimental.Boltzmann.train import train, eval\n",
    "from Deep_Learning.Experimental.Boltzmann.model import FCBoltzmannModel\n",
    "from Utils.dataset import PreloadedDataset"
   ]
  },
  {
   "cell_type": "code",
   "execution_count": 2,
   "metadata": {},
   "outputs": [
    {
     "data": {
      "text/plain": [
       "device(type='cpu')"
      ]
     },
     "execution_count": 2,
     "metadata": {},
     "output_type": "execute_result"
    }
   ],
   "source": [
    "# device = torch.device('cuda') if torch.cuda.is_available() else \"cpu\"ArithmeticError\n",
    "device = torch.device('cpu')\n",
    "device"
   ]
  },
  {
   "cell_type": "code",
   "execution_count": 3,
   "metadata": {},
   "outputs": [],
   "source": [
    "# Sets vals < 0.0 -> 0.0 and vals >= 0.0 -> 1.0\n",
    "class HopfieldActivation():\n",
    "    def __call__(self, x, _=None):\n",
    "        return hopfield_activation(x)\n",
    "\n",
    "def hopfield_activation(x: torch.Tensor, threshold:float=0.0):\n",
    "    x = torch.clamp(x, max=0.0)\n",
    "    x = torch.sign(x)\n",
    "    x += 1.0\n",
    "    return x\n",
    "\n",
    "class MixSamples():\n",
    "    def __init__(self, dataset):\n",
    "        self.dataset = dataset\n",
    "        self.n = len(dataset)\n",
    "    def __call__(self, x, _=None):\n",
    "        i = torch.randint(0, self.n-1, (1,)).item()\n",
    "        return mix_images(x, self.dataset[i][0])\n",
    "\n",
    "def mix_images(x1, x2, steps=10):\n",
    "    mask = torch.bernoulli(torch.ones((28,28))*0.5).unsqueeze(0).unsqueeze(0)\n",
    "    # blur  with a filter of the form [1/4, 1/2, 1/4] in both horizontal and veritical directions\n",
    "    filter_h = torch.tensor([[1/4, 1/2, 1/4]])\n",
    "    filter_v = torch.tensor([[1/4], [1/2], [1/4]])\n",
    "    for _ in range(5):\n",
    "        mask = F.conv2d(mask, filter_h.unsqueeze(0).unsqueeze(0), padding='same')\n",
    "        mask = F.conv2d(mask, filter_v.unsqueeze(0).unsqueeze(0), padding='same')\n",
    "    \n",
    "    # threshold at 0.5\n",
    "    mask_1 = mask > 0.5\n",
    "    mask_2 = mask <= 0.5\n",
    "\n",
    "    out = x1*mask_1 + x2*mask_2\n",
    "    return out.squeeze(0)"
   ]
  },
  {
   "cell_type": "code",
   "execution_count": 4,
   "metadata": {},
   "outputs": [
    {
     "name": "stderr",
     "output_type": "stream",
     "text": [
      "                                      \r"
     ]
    },
    {
     "name": "stdout",
     "output_type": "stream",
     "text": [
      "Loaded MNIST with 64 samples\n"
     ]
    },
    {
     "data": {
      "image/png": "[encoded data removed]",
      "text/plain": [
       "<Figure size 1500x500 with 5 Axes>"
      ]
     },
     "metadata": {},
     "output_type": "display_data"
    },
    {
     "data": {
      "image/png": "[encoded data removed]",
      "text/plain": [
       "<Figure size 1500x500 with 5 Axes>"
      ]
     },
     "metadata": {},
     "output_type": "display_data"
    }
   ],
   "source": [
    "transform = transforms.Compose([\n",
    "    transforms.ToTensor(),\n",
    "    transforms.Normalize((0.1307,), (0.3081,)),\n",
    "    HopfieldActivation(),\n",
    "])\n",
    "\n",
    "subset_size = 64\n",
    "dataset = datasets.MNIST(root=\"../Datasets/\", train=True, transform=transform, download=False)\n",
    "dataset = torch.utils.data.Subset(dataset, range(subset_size))\n",
    "\n",
    "positive_dataset = PreloadedDataset.from_dataset(dataset, None, device)\n",
    "negative_dataset = PreloadedDataset.from_dataset(dataset, MixSamples(positive_dataset), device)\n",
    "print(f'Loaded MNIST with {len(positive_dataset)} samples')\n",
    "\n",
    "# show first samples positives\n",
    "import matplotlib.pyplot as plt\n",
    "import numpy as np\n",
    "fig, axs = plt.subplots(1, 5, figsize=(15, 5))\n",
    "for i in range(5):\n",
    "    axs[i].imshow(np.squeeze(positive_dataset[i][0].numpy()), cmap='gray')\n",
    "    axs[i].set_title(f\"Label: {positive_dataset[i][1]}\")\n",
    "plt.show()\n",
    "\n",
    "# show first samples negatives\n",
    "import matplotlib.pyplot as plt\n",
    "import numpy as np\n",
    "fig, axs = plt.subplots(1, 5, figsize=(15, 5))\n",
    "for i in range(5):\n",
    "    axs[i].imshow(np.squeeze(negative_dataset[i][0].numpy()), cmap='gray')\n",
    "    axs[i].set_title(f\"Label: {negative_dataset[i][1]}\")\n",
    "plt.show()"
   ]
  },
  {
   "cell_type": "code",
   "execution_count": 5,
   "metadata": {},
   "outputs": [],
   "source": [
    "eval_criterion=nn.MSELoss()\n",
    "model = FCBoltzmannModel(784, 32, [256])\n",
    "step = 0"
   ]
  },
  {
   "cell_type": "code",
   "execution_count": 6,
   "metadata": {},
   "outputs": [],
   "source": [
    "batch_size = 32\n",
    "positive_dataloader = torch.utils.data.DataLoader(positive_dataset, batch_size=batch_size, shuffle=True)\n",
    "negative_dataloader = torch.utils.data.DataLoader(negative_dataset, batch_size=batch_size, shuffle=True)"
   ]
  },
  {
   "cell_type": "code",
   "execution_count": 7,
   "metadata": {},
   "outputs": [
    {
     "name": "stderr",
     "output_type": "stream",
     "text": [
      "c:\\Users\\Joe\\anaconda3\\envs\\ml-env\\lib\\site-packages\\ipykernel_launcher.py:5: UserWarning: The use of `x.T` on tensors of dimension other than 2 to reverse their shape is deprecated and it will throw an error in a future release. Consider `x.mT` to transpose batches of matrices or `x.permute(*torch.arange(x.ndim - 1, -1, -1))` to reverse the dimensions of a tensor. (Triggered internally at C:\\cb\\pytorch_1000000000000\\work\\aten\\src\\ATen\\native\\TensorShape.cpp:3281.)\n",
      "  \"\"\"\n"
     ]
    },
    {
     "data": {
      "text/plain": [
       "tensor([True, True, True, True, True])"
      ]
     },
     "execution_count": 7,
     "metadata": {},
     "output_type": "execute_result"
    }
   ],
   "source": [
    "# for layer in model.layers:\n",
    "#     print(layer.weight.data.shape)\n",
    "x = torch.rand((5,32))\n",
    "w = model.layers[1].weight.data[:,0]\n",
    "x @ w == x @ w.T"
   ]
  },
  {
   "cell_type": "code",
   "execution_count": 8,
   "metadata": {},
   "outputs": [
    {
     "name": "stderr",
     "output_type": "stream",
     "text": [
      "                                             \r"
     ]
    },
    {
     "name": "stdout",
     "output_type": "stream",
     "text": [
      "model_params at pre-eval: [100, (1.0, 5.0), False]\n"
     ]
    },
    {
     "name": "stderr",
     "output_type": "stream",
     "text": [
      "                                             \r"
     ]
    },
    {
     "name": "stdout",
     "output_type": "stream",
     "text": [
      "model_params at pre-eval: [100, (1.0, 5.0), False]\n"
     ]
    },
    {
     "name": "stderr",
     "output_type": "stream",
     "text": [
      "                                             \r"
     ]
    },
    {
     "name": "stdout",
     "output_type": "stream",
     "text": [
      "model_params at pre-eval: [100, (1.0, 5.0), False]\n"
     ]
    },
    {
     "name": "stderr",
     "output_type": "stream",
     "text": [
      "                                             \r"
     ]
    },
    {
     "name": "stdout",
     "output_type": "stream",
     "text": [
      "model_params at pre-eval: [100, (1.0, 5.0), False]\n"
     ]
    },
    {
     "name": "stderr",
     "output_type": "stream",
     "text": [
      "                                             \r"
     ]
    },
    {
     "name": "stdout",
     "output_type": "stream",
     "text": [
      "model_params at pre-eval: [100, (1.0, 5.0), False]\n"
     ]
    },
    {
     "name": "stderr",
     "output_type": "stream",
     "text": [
      "                                             \r"
     ]
    },
    {
     "name": "stdout",
     "output_type": "stream",
     "text": [
      "model_params at pre-eval: [100, (1.0, 5.0), False]\n"
     ]
    },
    {
     "name": "stderr",
     "output_type": "stream",
     "text": [
      "                                             \r"
     ]
    },
    {
     "name": "stdout",
     "output_type": "stream",
     "text": [
      "model_params at pre-eval: [100, (1.0, 5.0), False]\n"
     ]
    },
    {
     "name": "stderr",
     "output_type": "stream",
     "text": [
      "                                             \r"
     ]
    },
    {
     "name": "stdout",
     "output_type": "stream",
     "text": [
      "model_params at pre-eval: [100, (1.0, 5.0), False]\n"
     ]
    },
    {
     "name": "stderr",
     "output_type": "stream",
     "text": [
      "                                             \r"
     ]
    },
    {
     "name": "stdout",
     "output_type": "stream",
     "text": [
      "model_params at pre-eval: [100, (1.0, 5.0), False]\n"
     ]
    },
    {
     "name": "stderr",
     "output_type": "stream",
     "text": [
      "                                             \r"
     ]
    },
    {
     "name": "stdout",
     "output_type": "stream",
     "text": [
      "model_params at pre-eval: [100, (1.0, 5.0), False]\n"
     ]
    },
    {
     "name": "stderr",
     "output_type": "stream",
     "text": [
      "                                             \r"
     ]
    },
    {
     "name": "stdout",
     "output_type": "stream",
     "text": [
      "model_params at pre-eval: [100, (1.0, 5.0), False]\n"
     ]
    },
    {
     "name": "stderr",
     "output_type": "stream",
     "text": [
      "                                             \r"
     ]
    },
    {
     "name": "stdout",
     "output_type": "stream",
     "text": [
      "model_params at pre-eval: [100, (1.0, 5.0), False]\n"
     ]
    },
    {
     "name": "stderr",
     "output_type": "stream",
     "text": [
      "                                             \r"
     ]
    },
    {
     "name": "stdout",
     "output_type": "stream",
     "text": [
      "model_params at pre-eval: [100, (1.0, 5.0), False]\n"
     ]
    },
    {
     "name": "stderr",
     "output_type": "stream",
     "text": [
      "                                             \r"
     ]
    },
    {
     "name": "stdout",
     "output_type": "stream",
     "text": [
      "model_params at pre-eval: [100, (1.0, 5.0), False]\n"
     ]
    },
    {
     "name": "stderr",
     "output_type": "stream",
     "text": [
      "                                             \r"
     ]
    },
    {
     "name": "stdout",
     "output_type": "stream",
     "text": [
      "model_params at pre-eval: [100, (1.0, 5.0), False]\n"
     ]
    },
    {
     "name": "stderr",
     "output_type": "stream",
     "text": [
      "                                             \r"
     ]
    },
    {
     "name": "stdout",
     "output_type": "stream",
     "text": [
      "model_params at pre-eval: [100, (1.0, 5.0), False]\n"
     ]
    },
    {
     "name": "stderr",
     "output_type": "stream",
     "text": [
      "                                             \r"
     ]
    },
    {
     "name": "stdout",
     "output_type": "stream",
     "text": [
      "model_params at pre-eval: [100, (1.0, 5.0), False]\n"
     ]
    },
    {
     "name": "stderr",
     "output_type": "stream",
     "text": [
      "                                             \r"
     ]
    },
    {
     "name": "stdout",
     "output_type": "stream",
     "text": [
      "model_params at pre-eval: [100, (1.0, 5.0), False]\n"
     ]
    },
    {
     "name": "stderr",
     "output_type": "stream",
     "text": [
      "                                             \r"
     ]
    },
    {
     "name": "stdout",
     "output_type": "stream",
     "text": [
      "model_params at pre-eval: [100, (1.0, 5.0), False]\n"
     ]
    },
    {
     "name": "stderr",
     "output_type": "stream",
     "text": [
      "                                             \r"
     ]
    },
    {
     "name": "stdout",
     "output_type": "stream",
     "text": [
      "model_params at pre-eval: [100, (1.0, 5.0), False]\n"
     ]
    },
    {
     "name": "stderr",
     "output_type": "stream",
     "text": [
      "                                             \r"
     ]
    },
    {
     "data": {
      "text/plain": [
       "([tensor(0.5068),\n",
       "  tensor(0.5728),\n",
       "  tensor(0.6040),\n",
       "  tensor(0.6052),\n",
       "  tensor(0.6082),\n",
       "  tensor(0.6091),\n",
       "  tensor(0.6084),\n",
       "  tensor(0.6083),\n",
       "  tensor(0.6080),\n",
       "  tensor(0.6074),\n",
       "  tensor(0.6084),\n",
       "  tensor(0.6089),\n",
       "  tensor(0.6099),\n",
       "  tensor(0.6078),\n",
       "  tensor(0.6107),\n",
       "  tensor(0.6094),\n",
       "  tensor(0.6095),\n",
       "  tensor(0.6097),\n",
       "  tensor(0.6072),\n",
       "  tensor(0.6112)],\n",
       " 3200)"
      ]
     },
     "execution_count": 8,
     "metadata": {},
     "output_type": "execute_result"
    }
   ],
   "source": [
    "learning_rate = 0.1\n",
    "epochs = 100\n",
    "train(\n",
    "    model, \n",
    "    positive_dataloader, \n",
    "    negative_dataloader, \n",
    "    eval_criterion, \n",
    "    learning_rate, \n",
    "    epochs, \n",
    "    neg_every=1,\n",
    "    neg_num=10000,\n",
    "    model_params=[100, (1.0, 5.0), False],\n",
    "    eval_every=5,\n",
    "    step=step\n",
    ")"
   ]
  },
  {
   "cell_type": "code",
   "execution_count": null,
   "metadata": {},
   "outputs": [],
   "source": [
    "g"
   ]
  },
  {
   "cell_type": "code",
   "execution_count": 19,
   "metadata": {},
   "outputs": [
    {
     "data": {
      "text/plain": [
       "tensor([0., 1., 0., 1.])"
      ]
     },
     "execution_count": 19,
     "metadata": {},
     "output_type": "execute_result"
    }
   ],
   "source": [
    "p_1 = torch.randn((4,))\n",
    "activation = (p_1 > torch.randn(p_1.shape)).float()\n",
    "activation"
   ]
  }
 ],
 "metadata": {
  "kernelspec": {
   "display_name": "ml-env",
   "language": "python",
   "name": "python3"
  },
  "language_info": {
   "codemirror_mode": {
    "name": "ipython",
    "version": 3
   },
   "file_extension": ".py",
   "mimetype": "text/x-python",
   "name": "python",
   "nbconvert_exporter": "python",
   "pygments_lexer": "ipython3",
   "version": "3.7.15"
  },
  "orig_nbformat": 4
 },
 "nbformat": 4,
 "nbformat_minor": 2
}
