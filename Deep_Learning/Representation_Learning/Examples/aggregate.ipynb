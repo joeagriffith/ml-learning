{
 "cells": [
  {
   "cell_type": "code",
   "execution_count": 2,
   "metadata": {},
   "outputs": [],
   "source": [
    "import shutil\n",
    "from glob import glob\n",
    "import tensorboard_reducer as tbr\n",
    "import os"
   ]
  },
  {
   "cell_type": "code",
   "execution_count": 5,
   "metadata": {},
   "outputs": [
    {
     "name": "stdout",
     "output_type": "stream",
     "text": [
      "Path Deep_Learning/Representation_Learning/Examples/MNIST/out/logs/AugPC-mnist_cnn-output/normalised-lr3e-3/classifier/ does not exist\n",
      "Path Deep_Learning/Representation_Learning/Examples/MNIST/out/logs/DINO-lrs/3e-3/classifier/ does not exist\n",
      "Path Deep_Learning/Representation_Learning/Examples/MNIST/out/logs/pc_vs_ae1/Untrained/encoder/ does not exist\n"
     ]
    }
   ],
   "source": [
    "example = \"MNIST\"\n",
    "log_path = f\"Deep_Learning/Representation_Learning/Examples/{example}/out/logs/\"\n",
    "for experiment in os.listdir(log_path):\n",
    "    experiment_path = log_path + experiment + \"/\"\n",
    "    for exp_id in os.listdir(experiment_path):\n",
    "        exp_id_path = experiment_path + exp_id + \"/\"\n",
    "        for model_type in ['encoder', 'classifier']:\n",
    "            # check if reduction already exists\n",
    "            if os.path.exists(exp_id_path + model_type + \"/reduction.csv\"):\n",
    "                continue\n",
    "\n",
    "            path = exp_id_path + model_type + \"/\"\n",
    "            # if path doesnt exist, skip\n",
    "            if not os.path.exists(path):\n",
    "                print(f\"Path {path} does not exist\")\n",
    "                continue\n",
    "            input_event_dirs = sorted(glob(path + \"*\"))\n",
    "            joined_dirs = \"\\n\".join(input_event_dirs)\n",
    "            print(f\"Found {len(input_event_dirs)} event dirs:\\n{joined_dirs}\")\n",
    "\n",
    "            csv_out_dir = path + 'reduction.csv'\n",
    "            overwrite = True\n",
    "            reduce_ops = (\"mean\", \"min\", \"max\", \"std\")\n",
    "            events_dict = tbr.load_tb_events(input_event_dirs, verbose=True)\n",
    "\n",
    "            reduced_events = tbr.reduce_events(events_dict, reduce_ops, verbose=True)\n",
    "\n",
    "            tbr.write_data_file(reduced_events, csv_out_dir, overwrite=overwrite, verbose=True)\n",
    "\n",
    "            print(\"Reduction complete\")"
   ]
  }
 ],
 "metadata": {
  "kernelspec": {
   "display_name": "ml-env",
   "language": "python",
   "name": "python3"
  },
  "language_info": {
   "codemirror_mode": {
    "name": "ipython",
    "version": 3
   },
   "file_extension": ".py",
   "mimetype": "text/x-python",
   "name": "python",
   "nbconvert_exporter": "python",
   "pygments_lexer": "ipython3",
   "version": "3.11.4"
  }
 },
 "nbformat": 4,
 "nbformat_minor": 2
}
