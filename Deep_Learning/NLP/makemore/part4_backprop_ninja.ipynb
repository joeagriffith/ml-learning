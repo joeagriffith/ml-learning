{
 "cells": [
  {
   "attachments": {},
   "cell_type": "markdown",
   "metadata": {},
   "source": [
    "# Becoming a backprop ninja"
   ]
  },
  {
   "cell_type": "code",
   "execution_count": 1,
   "metadata": {},
   "outputs": [],
   "source": [
    "import torch\n",
    "import torch.nn.functional as F\n",
    "import matplotlib.pyplot as plt\n",
    "%matplotlib inline"
   ]
  },
  {
   "cell_type": "code",
   "execution_count": 2,
   "metadata": {},
   "outputs": [
    {
     "data": {
      "text/plain": [
       "['emma',\n",
       " 'olivia',\n",
       " 'ava',\n",
       " 'isabella',\n",
       " 'sophia',\n",
       " 'charlotte',\n",
       " 'mia',\n",
       " 'amelia',\n",
       " 'harper',\n",
       " 'evelyn']"
      ]
     },
     "execution_count": 2,
     "metadata": {},
     "output_type": "execute_result"
    }
   ],
   "source": [
    "words = open('Deep_Learning/NLP/makemore/names.txt', 'r').read().splitlines()\n",
    "words[:10]"
   ]
  },
  {
   "cell_type": "code",
   "execution_count": 3,
   "metadata": {},
   "outputs": [
    {
     "name": "stdout",
     "output_type": "stream",
     "text": [
      "{1: 'a', 2: 'b', 3: 'c', 4: 'd', 5: 'e', 6: 'f', 7: 'g', 8: 'h', 9: 'i', 10: 'j', 11: 'k', 12: 'l', 13: 'm', 14: 'n', 15: 'o', 16: 'p', 17: 'q', 18: 'r', 19: 's', 20: 't', 21: 'u', 22: 'v', 23: 'w', 24: 'x', 25: 'y', 26: 'z', 0: '.'}\n",
      "vocab length: 27\n"
     ]
    }
   ],
   "source": [
    "# Build the vocab of characters and mappings to/from integers\n",
    "chars = sorted(list(set(''.join(words))))\n",
    "stoi = {s:i+1 for i,s in enumerate(chars)}\n",
    "stoi['.'] = 0\n",
    "itos = {i:s for s,i in stoi.items()}\n",
    "vocab_len = len(stoi)\n",
    "print(itos)\n",
    "print('vocab length:', vocab_len)"
   ]
  },
  {
   "cell_type": "code",
   "execution_count": 4,
   "metadata": {},
   "outputs": [],
   "source": [
    "block_size = 3\n",
    "\n",
    "def build_dataset(words):\n",
    "    X, Y = [], []\n",
    "    for w in words:\n",
    "        # print(w)\n",
    "        context = [0] * block_size\n",
    "        for ch in w + '.':\n",
    "            idx = stoi[ch]\n",
    "            X.append(context)\n",
    "            Y.append(idx)\n",
    "            context = context[1:] + [idx]\n",
    "    return torch.tensor(X), torch.tensor(Y)\n",
    "\n",
    "split1 = int(0.8 * len(words))\n",
    "split2 = int(0.9 * len(words))\n",
    "import random\n",
    "random.seed(42)\n",
    "random.shuffle(words)\n",
    "\n",
    "X_train, Y_train = build_dataset(words[:split1])\n",
    "X_val, Y_val = build_dataset(words[split1:split2])\n",
    "X_test, Y_test = build_dataset(words[split2:])\n"
   ]
  },
  {
   "cell_type": "code",
   "execution_count": 152,
   "metadata": {},
   "outputs": [],
   "source": [
    "def cmp(s, dt, t):\n",
    "    ex = torch.all(dt == t.grad).item()\n",
    "    app = torch.allclose(dt, t.grad)\n",
    "    maxdiff = (dt - t.grad).abs().max().item()\n",
    "    print(f'{s:15s} | exact: {str(ex):5s} | approx: {str(app):5s} | maxdiff: {maxdiff}')"
   ]
  },
  {
   "cell_type": "code",
   "execution_count": 153,
   "metadata": {},
   "outputs": [],
   "source": [
    "# Define the model\n",
    "emb_size = 10\n",
    "hidden_size = 64\n",
    "\n",
    "# Initialise parameters\n",
    "g = torch.Generator().manual_seed(2147483647)\n",
    "C = torch.randn((vocab_len, emb_size), generator=g)\n",
    "# Layer 1\n",
    "W1 = torch.randn((emb_size*block_size, hidden_size), generator=g) * (5/3)/((emb_size*block_size)**0.5)\n",
    "b1 = torch.randn(hidden_size, generator=g) * 0.1 # No need for bias if using batchnorm\n",
    "# Layer 2\n",
    "W2 = torch.randn((hidden_size, vocab_len), generator=g) * 0.1\n",
    "b2 = torch.randn(vocab_len, generator=g) * 0.1\n",
    "# Batchnorm parameters\n",
    "bngain = torch.randn((1, hidden_size))*0.1 + 1.0\n",
    "bnbias = torch.randn((1, hidden_size))*0.1\n",
    "# bnmean_running = torch.zeros((1, hidden_size))\n",
    "# bnstd_running = torch.ones((1, hidden_size))\n",
    "\n",
    "parameters = [C, W1, b1, W2, b2, bngain, bnbias]\n",
    "for p in parameters:\n",
    "    p.requires_grad = True\n",
    "\n",
    "\n",
    "# def batchnorm(x, eval=False):\n",
    "#     global bnmean_running, bnstd_running\n",
    "\n",
    "#     if eval:\n",
    "#         mean = bnmean_running\n",
    "#         std = bnstd_running\n",
    "#     else:\n",
    "#         mean = x.mean(dim=0, keepdim=True)\n",
    "#         std = (x.std(dim=0, keepdim=True) + 1e-8)\n",
    "#         bnmean_running = 0.999 * bnmean_running + 0.001 * mean\n",
    "#         bnstd_running = 0.999 * bnstd_running + 0.001 * std\n",
    "#     normed = (x - mean) / std\n",
    "#     return normed * bngain + bnbias\n",
    "\n",
    "# def model(x, eval=False):\n",
    "#     assert x.dim() == 2, f'expected 2D input, got {x.dim()}D'\n",
    "#     emb = C[x].view(len(x), -1) # embedded input\n",
    "#     h_pre = emb @ W1 # hidden layer, pre activation func\n",
    "#     h_bn = batchnorm(h_pre, eval) # batchnorm\n",
    "#     h = torch.tanh(h_bn) # hidden layer, post activation func\n",
    "#     logits = h @ W2 + b2 # output layer\n",
    "#     return logits\n",
    "\n",
    "\n",
    "# # Initialise trackers\n",
    "# train_lossi = []\n",
    "# val_lossi = []\n",
    "# stepi = []\n",
    "# evali = []"
   ]
  },
  {
   "cell_type": "code",
   "execution_count": 154,
   "metadata": {},
   "outputs": [],
   "source": [
    "batch_size = 32\n",
    "n = batch_size\n",
    "idx = torch.randint(0, len(X_train), (n,), generator=g)\n",
    "Xb, Yb = X_train[idx], Y_train[idx]"
   ]
  },
  {
   "cell_type": "code",
   "execution_count": 155,
   "metadata": {},
   "outputs": [
    {
     "data": {
      "text/plain": [
       "tensor(3.3362, grad_fn=<NegBackward0>)"
      ]
     },
     "execution_count": 155,
     "metadata": {},
     "output_type": "execute_result"
    }
   ],
   "source": [
    "# Forward pass, in small steps\n",
    "\n",
    "# Embedding Layer \n",
    "emb = C[Xb]\n",
    "embcat = emb.view(emb.shape[0], -1)\n",
    "\n",
    "# Linear Layer 1\n",
    "hprebn = embcat @ W1 + b1\n",
    "\n",
    "# Batchnorm\n",
    "bnmeani = 1/n*hprebn.sum(dim=0, keepdim=True)\n",
    "bndiff = hprebn - bnmeani\n",
    "bndiff2 = bndiff**2\n",
    "bnvar = 1/(n-1)*bndiff2.sum(dim=0, keepdim=True) # Using Bessel's correction (dividing by n-1 instead of n)\n",
    "bnvar_inv = (bnvar + 1e-5)**-0.5\n",
    "bnraw = bndiff * bnvar_inv\n",
    "hpreact = bngain * bnraw + bnbias\n",
    "\n",
    "# Non-linearity\n",
    "h = torch.tanh(hpreact)\n",
    "\n",
    "# Linear Layer 2\n",
    "logits = h @ W2 + b2\n",
    "\n",
    "# Cross-entropy loss\n",
    "logit_maxes = logits.max(dim=1, keepdim=True).values\n",
    "norm_logits = logits - logit_maxes # Subtract max for numerical stability\n",
    "counts = norm_logits.exp()\n",
    "counts_sum = counts.sum(dim=1, keepdim=True)\n",
    "counts_sum_inv = counts_sum**-1\n",
    "probs = counts * counts_sum_inv\n",
    "logprobs = probs.log()\n",
    "loss = -logprobs[range(n), Yb].mean()\n",
    "\n",
    "# PyTorch backward pass\n",
    "for p in parameters:\n",
    "    p.grad = None\n",
    "for t in [logprobs, probs, counts, counts_sum, counts_sum_inv,\n",
    "          norm_logits, logit_maxes, logits, h, hpreact,\n",
    "          bnraw, bnvar_inv, bnvar, bndiff2, bndiff, bnmeani,\n",
    "          hprebn, embcat, emb]:\n",
    "    t.retain_grad()\n",
    "loss.backward()\n",
    "loss"
   ]
  },
  {
   "cell_type": "code",
   "execution_count": 146,
   "metadata": {},
   "outputs": [
    {
     "data": {
      "text/plain": [
       "(torch.Size([1, 64]), torch.Size([32, 64]), torch.Size([32, 64]))"
      ]
     },
     "execution_count": 146,
     "metadata": {},
     "output_type": "execute_result"
    }
   ],
   "source": [
    "bnmeani.shape, hprebn.shape, bndiff.shape"
   ]
  },
  {
   "cell_type": "code",
   "execution_count": 156,
   "metadata": {},
   "outputs": [
    {
     "name": "stdout",
     "output_type": "stream",
     "text": [
      "logprobs        | exact: True  | approx: True  | maxdiff: 0.0\n",
      "probs           | exact: True  | approx: True  | maxdiff: 0.0\n",
      "counts_sum_inv  | exact: True  | approx: True  | maxdiff: 0.0\n",
      "counts_sum      | exact: True  | approx: True  | maxdiff: 0.0\n",
      "counts          | exact: True  | approx: True  | maxdiff: 0.0\n",
      "norm_logits     | exact: False | approx: True  | maxdiff: 6.51925802230835e-09\n",
      "logit_maxes     | exact: True  | approx: True  | maxdiff: 0.0\n",
      "logits          | exact: True  | approx: True  | maxdiff: 0.0\n",
      "h               | exact: True  | approx: True  | maxdiff: 0.0\n",
      "W2              | exact: True  | approx: True  | maxdiff: 0.0\n",
      "b2              | exact: True  | approx: True  | maxdiff: 0.0\n",
      "hpreact         | exact: True  | approx: True  | maxdiff: 0.0\n",
      "bngain          | exact: True  | approx: True  | maxdiff: 0.0\n",
      "bnbias          | exact: True  | approx: True  | maxdiff: 0.0\n",
      "bnraw           | exact: True  | approx: True  | maxdiff: 0.0\n",
      "bnvar_inv       | exact: True  | approx: True  | maxdiff: 0.0\n",
      "bnvar           | exact: True  | approx: True  | maxdiff: 0.0\n",
      "bndiff2         | exact: True  | approx: True  | maxdiff: 0.0\n",
      "bndiff          | exact: False | approx: False | maxdiff: 0.0009248590213246644\n",
      "bnmeani         | exact: True  | approx: True  | maxdiff: 0.0\n",
      "hprebn          | exact: True  | approx: True  | maxdiff: 0.0\n",
      "embcat          | exact: True  | approx: True  | maxdiff: 0.0\n"
     ]
    }
   ],
   "source": [
    "dlogprobs =  torch.zeros_like(logprobs)\n",
    "dlogprobs[range(n),Yb] = -1.0/n\n",
    "dprobs = 1.0/probs * dlogprobs\n",
    "dcounts_sum_inv = (counts * dprobs).sum(dim=1, keepdim=True)\n",
    "dcounts = counts_sum_inv * dprobs \n",
    "dcounts_sum = (-counts_sum**-2) * dcounts_sum_inv\n",
    "dcounts += dcounts_sum.expand(counts.shape)\n",
    "dnorm_logits = counts * dcounts\n",
    "dlogit_maxes = -dnorm_logits.sum(dim=1, keepdim=True).expand(logit_maxes.shape)\n",
    "dlogits = dnorm_logits\n",
    "dlogits[range(n), logits.max(dim=1).indices] += dlogit_maxes.squeeze(1)\n",
    "dh = dlogits @ W2.t()\n",
    "dW2 = (h.t() @ dlogits)\n",
    "db2 = dlogits.sum(dim=0)\n",
    "dhpreact = (1.0 - h**2) * dh\n",
    "dbngain = (bnraw * dhpreact).sum(dim=0, keepdim=True)\n",
    "dbnbias = dhpreact.sum(dim=0, keepdim=True)\n",
    "dbnraw = (bngain * dhpreact)\n",
    "dbnvar_inv = (bndiff * dbnraw).sum(dim=0, keepdim=True)\n",
    "dbnvar = -0.5*(bnvar+1e-5)**-1.5 * dbnvar_inv\n",
    "dbndiff2 = 1/(n-1) * torch.ones_like(bndiff2) * dbnvar\n",
    "dbndiff = bnvar_inv * dbnraw\n",
    "dbndiff += 2 * bndiff * dbndiff2\n",
    "dbnmeani = -dbndiff.sum(dim=0, keepdim=True)\n",
    "dhprebn = dbndiff\n",
    "dhprebn += 1/n * torch.ones_like(hprebn) * dbnmeani\n",
    "dembcat = dhprebn @ W1.t()\n",
    "\n",
    "\n",
    "cmp('logprobs', dlogprobs, logprobs)\n",
    "cmp('probs', dprobs, probs)\n",
    "cmp('counts_sum_inv', dcounts_sum_inv, counts_sum_inv)\n",
    "cmp('counts_sum', dcounts_sum, counts_sum)\n",
    "cmp('counts', dcounts, counts)\n",
    "cmp('norm_logits', dnorm_logits, norm_logits)\n",
    "cmp('logit_maxes', dlogit_maxes, logit_maxes)\n",
    "cmp('logits', dlogits, logits)\n",
    "cmp('h', dh, h)\n",
    "cmp('W2', dW2, W2)\n",
    "cmp('b2', db2, b2)\n",
    "cmp('hpreact', dhpreact, hpreact)\n",
    "cmp('bngain', dbngain, bngain)\n",
    "cmp('bnbias', dbnbias, bnbias)\n",
    "cmp('bnraw', dbnraw, bnraw)\n",
    "cmp('bnvar_inv', dbnvar_inv, bnvar_inv)\n",
    "cmp('bnvar', dbnvar, bnvar)\n",
    "cmp('bndiff2', dbndiff2, bndiff2)\n",
    "cmp('bndiff', dbndiff, bndiff)\n",
    "cmp('bnmeani', dbnmeani, bnmeani)\n",
    "cmp('hprebn', dhprebn, hprebn)\n",
    "cmp('embcat', dembcat, embcat)\n",
    "# cmp('W1', dW1, W1)\n",
    "# cmp('b1', db1, b1)\n",
    "# cmp('emb', demb, emb)\n",
    "# cmp('C', dC, C)"
   ]
  },
  {
   "cell_type": "code",
   "execution_count": 131,
   "metadata": {},
   "outputs": [
    {
     "data": {
      "text/plain": [
       "(tensor([[-7.6108e-05,  1.2347e-04,  1.9981e-03,  ...,  1.6617e-05,\n",
       "          -2.3287e-04,  4.0592e-04],\n",
       "         [-4.5307e-05,  2.0803e-04, -2.6765e-03,  ..., -3.8086e-04,\n",
       "           1.1760e-03,  2.9721e-03],\n",
       "         [ 2.4925e-04, -7.8074e-04, -1.6765e-03,  ...,  1.4188e-03,\n",
       "          -3.4100e-03, -3.8357e-04],\n",
       "         ...,\n",
       "         [ 1.6317e-04, -2.0433e-05,  1.4156e-03,  ...,  5.9098e-05,\n",
       "          -3.3875e-03,  9.1141e-04],\n",
       "         [ 1.7521e-04,  9.9951e-04,  9.7441e-04,  ...,  1.6083e-03,\n",
       "           4.1965e-04, -1.2777e-04],\n",
       "         [-5.7270e-04, -2.4560e-04, -3.6565e-03,  ..., -6.9673e-04,\n",
       "           1.1211e-03,  1.8175e-03]], grad_fn=<AddBackward0>),\n",
       " tensor([[-2.3463e-04,  5.3012e-04,  1.3891e-03,  ...,  6.4014e-04,\n",
       "          -8.7623e-04,  7.4512e-04],\n",
       "         [-2.0382e-04,  6.1469e-04, -3.2855e-03,  ...,  2.4266e-04,\n",
       "           5.3262e-04,  3.3113e-03],\n",
       "         [ 9.0736e-05, -3.7409e-04, -2.2855e-03,  ...,  2.0424e-03,\n",
       "          -4.0533e-03, -4.4368e-05],\n",
       "         ...,\n",
       "         [ 4.6539e-06,  3.8622e-04,  8.0661e-04,  ...,  6.8262e-04,\n",
       "          -4.0309e-03,  1.2506e-03],\n",
       "         [ 1.6695e-05,  1.4062e-03,  3.6543e-04,  ...,  2.2318e-03,\n",
       "          -2.2371e-04,  2.1143e-04],\n",
       "         [-7.3122e-04,  1.6106e-04, -4.2655e-03,  ..., -7.3214e-05,\n",
       "           4.7778e-04,  2.1567e-03]]))"
      ]
     },
     "execution_count": 131,
     "metadata": {},
     "output_type": "execute_result"
    }
   ],
   "source": [
    "dbndiff, bndiff.grad"
   ]
  },
  {
   "cell_type": "code",
   "execution_count": 69,
   "metadata": {},
   "outputs": [],
   "source": [
    "# def eval(X, Y):\n",
    "#     logits = model(X, eval=True)\n",
    "#     loss = F.cross_entropy(logits, Y)\n",
    "#     return loss\n",
    "\n",
    "\n",
    "def train(learning_rate=0.01, epochs = 200000, batch_size=32, step=0, eval_every=1000):\n",
    "    global bnmean_running_track, bnstd_running_track\n",
    "    for epoch in range(epochs):\n",
    "        # build minibatches\n",
    "        idxs = torch.randint(0, X_train.shape[0], (batch_size,), generator=g).to(device)\n",
    "        Xmb, Ymb = X_train[idxs], Y_train[idxs]\n",
    "\n",
    "        # forward pass\n",
    "        logits = model(Xmb)\n",
    "        loss = F.cross_entropy(logits, Ymb)\n",
    "\n",
    "        # backward pass\n",
    "        for p in parameters:\n",
    "            p.grad = None\n",
    "        loss.backward()\n",
    "\n",
    "        # update\n",
    "        lr = learning_rate if epochs < 100000 else learning_rate/10.0\n",
    "        for p in parameters: \n",
    "            p.data += -lr * p.grad\n",
    "\n",
    "        if epoch % eval_every == 0:\n",
    "            with torch.no_grad():\n",
    "                val_loss = eval(X_val, Y_val)\n",
    "                evali.append(step+epoch)\n",
    "                val_lossi.append(val_loss.log10().item())\n",
    "\n",
    "        stepi.append(step+epoch)\n",
    "        train_lossi.append(loss.log10().item())\n",
    "\n",
    "        bnmean_running_track.append(bnmean_running[0,0].item())\n",
    "        bnstd_running_track.append(bnstd_running[0,0].item())\n",
    "\n",
    "    \n",
    "\n",
    "    return loss.item()"
   ]
  },
  {
   "cell_type": "code",
   "execution_count": 70,
   "metadata": {},
   "outputs": [],
   "source": [
    "bnmean_running_track = []\n",
    "bnstd_running_track = []"
   ]
  },
  {
   "cell_type": "code",
   "execution_count": 71,
   "metadata": {},
   "outputs": [
    {
     "name": "stdout",
     "output_type": "stream",
     "text": [
      "last train loss: 0.3214015066623688\n"
     ]
    },
    {
     "data": {
      "image/png": "[encoded data removed]",
      "text/plain": [
       "<Figure size 640x480 with 1 Axes>"
      ]
     },
     "metadata": {},
     "output_type": "display_data"
    }
   ],
   "source": [
    "step = stepi[-1] if len(stepi) > 0 else 0\n",
    "train(learning_rate=0.1, epochs=200000, batch_size=32, step=step)\n",
    "plt.plot(stepi, train_lossi)\n",
    "plt.plot(evali, val_lossi)\n",
    "print(f\"last train loss: {train_lossi[-1]}\")"
   ]
  },
  {
   "cell_type": "code",
   "execution_count": 72,
   "metadata": {},
   "outputs": [
    {
     "data": {
      "image/png": "[encoded data removed]",
      "text/plain": [
       "<Figure size 640x480 with 1 Axes>"
      ]
     },
     "metadata": {},
     "output_type": "display_data"
    }
   ],
   "source": [
    "# plt.plot(bnmean_running_track)\n",
    "plt.plot(bnstd_running_track)\n",
    "plt.show()"
   ]
  },
  {
   "cell_type": "code",
   "execution_count": 61,
   "metadata": {},
   "outputs": [
    {
     "name": "stdout",
     "output_type": "stream",
     "text": [
      "train loss: 2.130506992340088\n",
      "val loss: 2.1533138751983643\n"
     ]
    }
   ],
   "source": [
    "print(f\"train loss: {eval(X_train, Y_train)}\")\n",
    "print(f\"val loss: {eval(X_val, Y_val)}\")"
   ]
  },
  {
   "cell_type": "code",
   "execution_count": 79,
   "metadata": {},
   "outputs": [
    {
     "data": {
      "image/png": "[encoded data removed]",
      "text/plain": [
       "<Figure size 800x800 with 1 Axes>"
      ]
     },
     "metadata": {},
     "output_type": "display_data"
    }
   ],
   "source": [
    "plt.figure(figsize=(8,8))\n",
    "plt.scatter(C[:,0].data, C[:,1].data, s=200)\n",
    "for i in range(C.shape[0]):\n",
    "    plt.text(C[i,0].item(), C[i,1].item(), itos[i], ha=\"center\", va=\"center\", color='white')\n",
    "plt.grid('minor')"
   ]
  },
  {
   "cell_type": "code",
   "execution_count": 87,
   "metadata": {},
   "outputs": [
    {
     "name": "stdout",
     "output_type": "stream",
     "text": [
      "anuseen.\n",
      "tis.\n",
      "mari.\n",
      "nedyn.\n",
      "shan.\n",
      "silayley.\n",
      "kemarce.\n",
      "man.\n",
      "epiacelle.\n",
      "jamel.\n",
      "angon.\n",
      "jordon.\n",
      "kalla.\n",
      "mari.\n",
      "yana.\n",
      "cvahia.\n",
      "achance.\n",
      "tian.\n",
      "tiyan.\n",
      "mar.\n"
     ]
    }
   ],
   "source": [
    "# Sampling from the model\n",
    "\n",
    "g = torch.Generator().manual_seed(42)\n",
    "\n",
    "for _ in range (20):\n",
    "    out = []\n",
    "    context = [0] * block_size\n",
    "    while True:\n",
    "        logits = model(torch.tensor([context]), eval=True)\n",
    "        probs = F.softmax(logits, dim=1)\n",
    "        idx = torch.multinomial(probs, num_samples=1, generator=g).item()\n",
    "        context = context[1:] + [idx]\n",
    "        out.append(idx)\n",
    "        if idx == 0:\n",
    "            break\n",
    "    print(''.join(itos[i] for i in out))"
   ]
  }
 ],
 "metadata": {
  "kernelspec": {
   "display_name": "ml-env",
   "language": "python",
   "name": "python3"
  },
  "language_info": {
   "codemirror_mode": {
    "name": "ipython",
    "version": 3
   },
   "file_extension": ".py",
   "mimetype": "text/x-python",
   "name": "python",
   "nbconvert_exporter": "python",
   "pygments_lexer": "ipython3",
   "version": "3.7.15"
  },
  "orig_nbformat": 4
 },
 "nbformat": 4,
 "nbformat_minor": 2
}
