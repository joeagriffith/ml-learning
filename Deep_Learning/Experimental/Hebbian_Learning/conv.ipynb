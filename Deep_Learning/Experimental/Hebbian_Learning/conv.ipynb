{
 "cells": [
  {
   "cell_type": "code",
   "execution_count": null,
   "metadata": {},
   "outputs": [],
   "source": []
  },
  {
   "cell_type": "code",
   "execution_count": null,
   "metadata": {},
   "outputs": [],
   "source": []
  },
  {
   "cell_type": "code",
   "execution_count": null,
   "metadata": {},
   "outputs": [],
   "source": []
  },
  {
   "cell_type": "code",
   "execution_count": null,
   "metadata": {},
   "outputs": [],
   "source": []
  },
  {
   "cell_type": "code",
   "execution_count": null,
   "metadata": {},
   "outputs": [],
   "source": []
  },
  {
   "cell_type": "code",
   "execution_count": null,
   "metadata": {},
   "outputs": [],
   "source": [
    "U = nn.Conv2d(1, 3, (3,3), bias=False)\n",
    "optimiser = torch.optim.SGD(U.parameters(), lr=0.001)\n",
    "Ut = nn.ConvTranspose2d(3, 1, (3,3))\n",
    "with torch.no_grad():\n",
    "    Ut.weight = U.weight\n",
    "grad = torch.zeros_like(U.weight)\n",
    "def step(x, e, r):\n",
    "    with torch.no_grad():\n",
    "        e = x - Ut(r)\n",
    "    r = r + U(e)\n",
    "    return e, r"
   ]
  }
 ],
 "metadata": {
  "language_info": {
   "name": "python"
  },
  "orig_nbformat": 4
 },
 "nbformat": 4,
 "nbformat_minor": 2
}
