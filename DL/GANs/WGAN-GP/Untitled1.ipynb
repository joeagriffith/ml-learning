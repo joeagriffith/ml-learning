{
 "cells": [
  {
   "cell_type": "code",
   "execution_count": 3,
   "id": "344245ce",
   "metadata": {},
   "outputs": [],
   "source": [
    "import torch\n",
    "import torch.nn.functional as F"
   ]
  },
  {
   "cell_type": "code",
   "execution_count": 109,
   "id": "13cdc905",
   "metadata": {},
   "outputs": [
    {
     "name": "stdout",
     "output_type": "stream",
     "text": [
      "tensor(0.5060)\n"
     ]
    }
   ],
   "source": [
    "batch_size = 1000\n",
    "num_classes = 2\n",
    "\n",
    "x = torch.rand(batch_size, num_classes, 1, 1)\n",
    "x = torch.argmax(x, dim=1).squeeze(2).squeeze(1)\n",
    "# print(x)\n",
    "\n",
    "y = torch.randint(0, num_classes, (batch_size,))\n",
    "# print(y)\n",
    "\n",
    "z = x == y\n",
    "print(z.sum()/z.shape[0])"
   ]
  },
  {
   "cell_type": "code",
   "execution_count": null,
   "id": "799db84a",
   "metadata": {},
   "outputs": [],
   "source": []
  }
 ],
 "metadata": {
  "kernelspec": {
   "display_name": "Python [conda env:ml-env] *",
   "language": "python",
   "name": "conda-env-ml-env-py"
  },
  "language_info": {
   "codemirror_mode": {
    "name": "ipython",
    "version": 3
   },
   "file_extension": ".py",
   "mimetype": "text/x-python",
   "name": "python",
   "nbconvert_exporter": "python",
   "pygments_lexer": "ipython3",
   "version": "3.7.15"
  }
 },
 "nbformat": 4,
 "nbformat_minor": 5
}
