{
 "cells": [
  {
   "cell_type": "code",
   "execution_count": 198,
   "metadata": {},
   "outputs": [],
   "source": [
    "import torch\n",
    "import torch.nn as nn\n",
    "import torch.nn.functional as F\n",
    "import matplotlib.pyplot as plt"
   ]
  },
  {
   "attachments": {},
   "cell_type": "markdown",
   "metadata": {},
   "source": [
    "Proof that reducing r^2 gives a hebbian learning rule. also, Es are reduced when weights are random. For Scalars"
   ]
  },
  {
   "cell_type": "code",
   "execution_count": 1030,
   "metadata": {},
   "outputs": [],
   "source": [
    "U1 = nn.Linear(1,1, bias=True)\n",
    "# U2 = nn.Linear(1,1, bias=False)\n",
    "\n",
    "# def step(x, e1, r1, e2, r2):\n",
    "def step(x, e1, r1):\n",
    "    with torch.no_grad():\n",
    "        e1 = x - torch.matmul(U1.weight.T, r1)\n",
    "        if U1.bias is not None:\n",
    "            e1 = e1 + U1.bias\n",
    "        # e2 = r1 - torch.matmul(U2.weight.T, r2)\n",
    "    r1 = r1 + U1(e1) \n",
    "    # r2 = r2 + U2(e2)\n",
    "    # return e1, r1, e2, r2\n",
    "    return e1, r1"
   ]
  },
  {
   "cell_type": "code",
   "execution_count": 1056,
   "metadata": {},
   "outputs": [
    {
     "name": "stdout",
     "output_type": "stream",
     "text": [
      "x: tensor([0.3278])\n",
      "e1: tensor([0.6532])\n",
      "r1: tensor([0.3958])\n"
     ]
    }
   ],
   "source": [
    "x = torch.rand(1)\n",
    "e1 = torch.rand(1)\n",
    "r1 = torch.rand(1)\n",
    "# e2 = torch.rand(1)\n",
    "# r2 = torch.rand(1)\n",
    "\n",
    "# print all\n",
    "print(f\"x: {x}\")\n",
    "print(f\"e1: {e1}\")\n",
    "print(f\"r1: {r1}\")\n",
    "# print(f\"e2: {e2}\")\n",
    "# print(f\"r2: {r2}\")"
   ]
  },
  {
   "cell_type": "code",
   "execution_count": 1078,
   "metadata": {},
   "outputs": [
    {
     "name": "stdout",
     "output_type": "stream",
     "text": [
      " x: tensor([0.3278])\n",
      "e1: tensor([0.9079])\n",
      "r1: tensor([-1.6491], grad_fn=<AddBackward0>)\n",
      "Ur1: tensor([-1.2906], grad_fn=<MvBackward0>)\n"
     ]
    }
   ],
   "source": [
    "e1 = e1.detach()\n",
    "r1 = r1.detach()\n",
    "# e2 = e2.detach()\n",
    "# r2 = r2.detach()\n",
    "# e1, r1, e2, r2 = step(x, e1, r1, e2, r2)\n",
    "e1, r1 = step(x, e1, r1)\n",
    "print(f\" x: {x}\")\n",
    "print(f\"e1: {e1}\")\n",
    "print(f\"r1: {r1}\")\n",
    "print(f\"Ur1: {torch.matmul(U1.weight.T, r1)}\")\n",
    "# print(f\"e2: {e2}\")\n",
    "# print(f\"r2: {r2}\")"
   ]
  },
  {
   "cell_type": "code",
   "execution_count": 15,
   "metadata": {},
   "outputs": [
    {
     "name": "stdout",
     "output_type": "stream",
     "text": [
      "U1.weight.grad:\n",
      "tensor([[0.0049]])\n",
      "U2.weight.grad:\n",
      "tensor([[0.0075]])\n"
     ]
    }
   ],
   "source": [
    "with torch.no_grad():\n",
    "    U1.weight.grad = torch.zeros_like(U1.weight)\n",
    "    U2.weight.grad = torch.zeros_like(U2.weight)\n",
    "loss = 0.5*((r1**2).sum() + (r2**2).sum())\n",
    "loss.sum().backward()\n",
    "print(f'U1.weight.grad:\\n{U1.weight.grad}')\n",
    "print(f'U2.weight.grad:\\n{U2.weight.grad}')"
   ]
  },
  {
   "cell_type": "code",
   "execution_count": 17,
   "metadata": {},
   "outputs": [
    {
     "name": "stdout",
     "output_type": "stream",
     "text": [
      "1:\n",
      "tensor([[0.0049]], grad_fn=<PermuteBackward0>)\n",
      "2:\n",
      "tensor([[0.0075]], grad_fn=<PermuteBackward0>)\n"
     ]
    }
   ],
   "source": [
    "print(f'1:\\n{torch.matmul(e1.unsqueeze(1), r1.unsqueeze(1).T).T}')\n",
    "print(f'2:\\n{torch.matmul(e2.unsqueeze(1), r2.unsqueeze(1).T).T}')"
   ]
  },
  {
   "attachments": {},
   "cell_type": "markdown",
   "metadata": {},
   "source": [
    "Expansion to Vector Es and Rs"
   ]
  },
  {
   "cell_type": "code",
   "execution_count": 256,
   "metadata": {},
   "outputs": [
    {
     "name": "stdout",
     "output_type": "stream",
     "text": [
      "Parameter containing:\n",
      "tensor([[ 0.5406,  0.5869],\n",
      "        [-0.1657,  0.6496],\n",
      "        [-0.1549,  0.1427],\n",
      "        [-0.3443,  0.4153],\n",
      "        [ 0.6233, -0.5188],\n",
      "        [ 0.6146,  0.1323],\n",
      "        [ 0.5224,  0.0958],\n",
      "        [ 0.3410, -0.0998]], requires_grad=True)\n",
      "tensor(2.0695)\n",
      "Parameter containing:\n",
      "tensor([[ 0.2725,  0.0523, -0.1651,  0.0901, -0.1629, -0.0415, -0.1436,  0.2345],\n",
      "        [-0.2791, -0.1630, -0.0998, -0.2126,  0.0334, -0.3492,  0.3193, -0.3003],\n",
      "        [ 0.2730,  0.0588, -0.1148,  0.2185,  0.0551,  0.2857,  0.0387, -0.1115],\n",
      "        [ 0.0950, -0.0959,  0.1488,  0.3157,  0.2044, -0.1546,  0.2041,  0.0633],\n",
      "        [ 0.1795, -0.2155, -0.3500, -0.1366, -0.2712,  0.2901,  0.1018,  0.1464],\n",
      "        [ 0.1118, -0.0062,  0.2767, -0.2512,  0.0223, -0.2413,  0.1090, -0.1218],\n",
      "        [ 0.1083, -0.0737,  0.2932, -0.2096, -0.2109, -0.2109,  0.3180,  0.1178],\n",
      "        [ 0.3402, -0.2918, -0.3507, -0.2766, -0.2378,  0.1432,  0.1266,  0.2938],\n",
      "        [-0.1826, -0.2410,  0.1876, -0.1429,  0.2146, -0.0839,  0.2022, -0.2747],\n",
      "        [-0.1784,  0.1078,  0.0747, -0.0901,  0.2107,  0.2403, -0.2564, -0.1888],\n",
      "        [ 0.3237, -0.1193, -0.1253, -0.3421, -0.2025,  0.0883, -0.0467, -0.2566],\n",
      "        [ 0.0083, -0.2415, -0.3000, -0.1947, -0.3094, -0.2251,  0.3534,  0.0668],\n",
      "        [ 0.1090, -0.3298, -0.2322, -0.1177,  0.0553, -0.3111, -0.1523, -0.2117],\n",
      "        [ 0.0010, -0.1316, -0.0245, -0.2396, -0.2427, -0.2063, -0.1210, -0.2791],\n",
      "        [ 0.2964, -0.0702,  0.3042,  0.1102, -0.2994,  0.2447, -0.0973, -0.1355],\n",
      "        [-0.2935, -0.3515,  0.1012, -0.0772,  0.1376, -0.2901,  0.2625, -0.2595]],\n",
      "       requires_grad=True)\n",
      "tensor(2.6415)\n"
     ]
    }
   ],
   "source": [
    "torch.manual_seed(42)\n",
    "# Converges to zero if i+1 is > i, but explodes if i+1 >> i. Converges to poor minima if i+1 < i\n",
    "sizes = [2, 8, 16]\n",
    "U1 = nn.Linear(sizes[0],sizes[1], bias=False)\n",
    "# U1.weight.data = torch.ones_like(U1.weight.data)\n",
    "# U1.weight.data /= U1.weight.data.norm()\n",
    "U2 = nn.Linear(sizes[1], sizes[2], bias=False)\n",
    "# U2.weight.data = torch.ones_like(U2.weight.data) / 24.0\n",
    "# U2.weight.data /= U2.weight.data.norm()\n",
    "\n",
    "print(U1.weight)\n",
    "u1mag = (U1.weight.data @ U1.weight.data.T).norm()\n",
    "print(u1mag)\n",
    "print(U2.weight)\n",
    "u2mag = (U2.weight.data @ U2.weight.data.T).norm()\n",
    "print(u2mag)\n",
    "\n",
    "# def step(x, e1, r1, e2, r2):\n",
    "#     with torch.no_grad():\n",
    "#         e1 = x - torch.matmul(U1.weight.T, r1)\n",
    "#     r1 = r1 + U1(e1) \n",
    "#     with torch.no_grad():\n",
    "#         # r1 -= (0.01*e2)\n",
    "#         e2 = r1 - torch.matmul(U2.weight.T, r2)\n",
    "#     r2 = r2 + U2(e2)\n",
    "#     return e1, r1, e2, r2\n",
    "def step(x, e1, r1, e2, r2):\n",
    "    with torch.no_grad():\n",
    "        e1 = x - torch.matmul(U1.weight.T, r1)\n",
    "        e2 = r1 - torch.matmul(U2.weight.T, r2)\n",
    "    r1 = r1 + U1(e1)\n",
    "    r2 = r2 + U2(e2)\n",
    "    return e1, r1, e2, r2\n",
    "\n",
    "# def step(x, e1, r1, e2, r2):\n",
    "#     with torch.no_grad():\n",
    "#         e1 = torch.matmul(U1.weight.T, r1) - x\n",
    "#     r1 = r1 - U1(e1) \n",
    "#     with torch.no_grad():\n",
    "#         e2 = torch.matmul(U2.weight.T, r2) - r1\n",
    "#     r2 = r2 - U2(e2)\n",
    "#     return e1, r1, e2, r2"
   ]
  },
  {
   "cell_type": "code",
   "execution_count": 257,
   "metadata": {},
   "outputs": [],
   "source": [
    "x = torch.rand(sizes[0])\n",
    "e1 = torch.rand(sizes[0])\n",
    "r1 = torch.rand(sizes[1])\n",
    "e2 = torch.rand(sizes[1])\n",
    "r2 = torch.rand(sizes[2])\n",
    "\n",
    "# print all\n",
    "# print(f\"x: {x}\")\n",
    "# print(f\"e1: {e1}\")\n",
    "# print(f\"r1: {r1}\")\n",
    "# print(f\"e2: {e2}\")\n",
    "# print(f\"r2: {r2}\")\n",
    "\n",
    "e1s = []\n",
    "e2s = []\n",
    "steps = []\n",
    "step_i = 0"
   ]
  },
  {
   "cell_type": "code",
   "execution_count": 258,
   "metadata": {},
   "outputs": [
    {
     "name": "stdout",
     "output_type": "stream",
     "text": [
      "e1 abs mean: 0.00\n",
      "r1 abs mean: 0.36\n",
      "e2 abs mean: 0.00\n",
      "r2 abs mean: 0.47\n",
      "tensor([ 1.6242e-05, -6.7949e-06])\n",
      "tensor([ 0.0041,  0.0090, -0.0036, -0.0021,  0.0029, -0.0024,  0.0064, -0.0053])\n"
     ]
    },
    {
     "data": {
      "text/plain": [
       "<matplotlib.legend.Legend at 0x29e8f1be948>"
      ]
     },
     "execution_count": 258,
     "metadata": {},
     "output_type": "execute_result"
    },
    {
     "data": {
      "image/png": "[encoded data removed]",
      "text/plain": [
       "<Figure size 640x480 with 1 Axes>"
      ]
     },
     "metadata": {},
     "output_type": "display_data"
    }
   ],
   "source": [
    "e1 = e1.detach()\n",
    "r1 = r1.detach()\n",
    "e2 = e2.detach()\n",
    "r2 = r2.detach()\n",
    "\n",
    "for _ in range(30):\n",
    "    e1, r1, e2, r2 = step(x, e1, r1, e2, r2)\n",
    "    e1s.append(e1.abs().mean())\n",
    "    e2s.append(e2.abs().mean())\n",
    "    steps.append(step_i)\n",
    "    step_i += 1\n",
    "# print(f\" x: {x}\")\n",
    "print(f\"e1 abs mean: {e1.abs().mean():.2f}\")\n",
    "print(f\"r1 abs mean: {r1.abs().mean():.2f}\")\n",
    "print(f\"e2 abs mean: {e2.abs().mean():.2f}\")\n",
    "print(f\"r2 abs mean: {r2.abs().mean():.2f}\")\n",
    "print(e1)\n",
    "print(e2)\n",
    "\n",
    "plt.plot(steps, e1s, label=\"e1\")\n",
    "plt.plot(steps, e2s, label=\"e2\")\n",
    "plt.legend()\n",
    "\n"
   ]
  },
  {
   "cell_type": "code",
   "execution_count": 177,
   "metadata": {},
   "outputs": [],
   "source": [
    "r21 = r1\n",
    "r22 = r2"
   ]
  },
  {
   "cell_type": "code",
   "execution_count": 178,
   "metadata": {},
   "outputs": [],
   "source": [
    "r1 = (r11 - r21)\n",
    "r2 = (r12 - r22)"
   ]
  },
  {
   "cell_type": "code",
   "execution_count": 179,
   "metadata": {},
   "outputs": [
    {
     "data": {
      "text/plain": [
       "(tensor(1.0249, grad_fn=<MeanBackward0>),\n",
       " tensor(2.5901, grad_fn=<MeanBackward0>))"
      ]
     },
     "execution_count": 179,
     "metadata": {},
     "output_type": "execute_result"
    }
   ],
   "source": [
    "r1.abs().mean(), r2.abs().mean()"
   ]
  },
  {
   "cell_type": "code",
   "execution_count": 181,
   "metadata": {},
   "outputs": [
    {
     "data": {
      "text/plain": [
       "tensor(7.9766, grad_fn=<MaxBackward1>)"
      ]
     },
     "execution_count": 181,
     "metadata": {},
     "output_type": "execute_result"
    }
   ],
   "source": [
    "r2.max()"
   ]
  },
  {
   "cell_type": "code",
   "execution_count": 74,
   "metadata": {},
   "outputs": [
    {
     "ename": "RuntimeError",
     "evalue": "element 0 of tensors does not require grad and does not have a grad_fn",
     "output_type": "error",
     "traceback": [
      "\u001b[1;31m---------------------------------------------------------------------------\u001b[0m",
      "\u001b[1;31mRuntimeError\u001b[0m                              Traceback (most recent call last)",
      "\u001b[1;32m~\\AppData\\Local\\Temp\\ipykernel_12156\\2803913906.py\u001b[0m in \u001b[0;36m<module>\u001b[1;34m\u001b[0m\n\u001b[0;32m      3\u001b[0m     \u001b[0mU2\u001b[0m\u001b[1;33m.\u001b[0m\u001b[0mweight\u001b[0m\u001b[1;33m.\u001b[0m\u001b[0mgrad\u001b[0m \u001b[1;33m=\u001b[0m \u001b[0mtorch\u001b[0m\u001b[1;33m.\u001b[0m\u001b[0mzeros_like\u001b[0m\u001b[1;33m(\u001b[0m\u001b[0mU2\u001b[0m\u001b[1;33m.\u001b[0m\u001b[0mweight\u001b[0m\u001b[1;33m)\u001b[0m\u001b[1;33m\u001b[0m\u001b[1;33m\u001b[0m\u001b[0m\n\u001b[0;32m      4\u001b[0m \u001b[0mloss\u001b[0m \u001b[1;33m=\u001b[0m \u001b[1;36m0.5\u001b[0m\u001b[1;33m*\u001b[0m\u001b[1;33m(\u001b[0m\u001b[1;33m(\u001b[0m\u001b[0mr1\u001b[0m\u001b[1;33m**\u001b[0m\u001b[1;36m2\u001b[0m\u001b[1;33m)\u001b[0m\u001b[1;33m.\u001b[0m\u001b[0msum\u001b[0m\u001b[1;33m(\u001b[0m\u001b[1;33m)\u001b[0m \u001b[1;33m+\u001b[0m \u001b[1;33m(\u001b[0m\u001b[0mr2\u001b[0m\u001b[1;33m**\u001b[0m\u001b[1;36m2\u001b[0m\u001b[1;33m)\u001b[0m\u001b[1;33m.\u001b[0m\u001b[0msum\u001b[0m\u001b[1;33m(\u001b[0m\u001b[1;33m)\u001b[0m\u001b[1;33m)\u001b[0m\u001b[1;33m\u001b[0m\u001b[1;33m\u001b[0m\u001b[0m\n\u001b[1;32m----> 5\u001b[1;33m \u001b[0mloss\u001b[0m\u001b[1;33m.\u001b[0m\u001b[0msum\u001b[0m\u001b[1;33m(\u001b[0m\u001b[1;33m)\u001b[0m\u001b[1;33m.\u001b[0m\u001b[0mbackward\u001b[0m\u001b[1;33m(\u001b[0m\u001b[1;33m)\u001b[0m\u001b[1;33m\u001b[0m\u001b[1;33m\u001b[0m\u001b[0m\n\u001b[0m\u001b[0;32m      6\u001b[0m \u001b[0mprint\u001b[0m\u001b[1;33m(\u001b[0m\u001b[1;34mf'U1.weight.grad:\\n{U1.weight.grad}'\u001b[0m\u001b[1;33m)\u001b[0m\u001b[1;33m\u001b[0m\u001b[1;33m\u001b[0m\u001b[0m\n\u001b[0;32m      7\u001b[0m \u001b[0mprint\u001b[0m\u001b[1;33m(\u001b[0m\u001b[1;34mf'U2.weight.grad:\\n{U2.weight.grad}'\u001b[0m\u001b[1;33m)\u001b[0m\u001b[1;33m\u001b[0m\u001b[1;33m\u001b[0m\u001b[0m\n",
      "\u001b[1;32mc:\\Users\\Joe\\anaconda3\\envs\\ml-env\\lib\\site-packages\\torch\\_tensor.py\u001b[0m in \u001b[0;36mbackward\u001b[1;34m(self, gradient, retain_graph, create_graph, inputs)\u001b[0m\n\u001b[0;32m    487\u001b[0m             )\n\u001b[0;32m    488\u001b[0m         torch.autograd.backward(\n\u001b[1;32m--> 489\u001b[1;33m             \u001b[0mself\u001b[0m\u001b[1;33m,\u001b[0m \u001b[0mgradient\u001b[0m\u001b[1;33m,\u001b[0m \u001b[0mretain_graph\u001b[0m\u001b[1;33m,\u001b[0m \u001b[0mcreate_graph\u001b[0m\u001b[1;33m,\u001b[0m \u001b[0minputs\u001b[0m\u001b[1;33m=\u001b[0m\u001b[0minputs\u001b[0m\u001b[1;33m\u001b[0m\u001b[1;33m\u001b[0m\u001b[0m\n\u001b[0m\u001b[0;32m    490\u001b[0m         )\n\u001b[0;32m    491\u001b[0m \u001b[1;33m\u001b[0m\u001b[0m\n",
      "\u001b[1;32mc:\\Users\\Joe\\anaconda3\\envs\\ml-env\\lib\\site-packages\\torch\\autograd\\__init__.py\u001b[0m in \u001b[0;36mbackward\u001b[1;34m(tensors, grad_tensors, retain_graph, create_graph, grad_variables, inputs)\u001b[0m\n\u001b[0;32m    197\u001b[0m     Variable._execution_engine.run_backward(  # Calls into the C++ engine to run the backward pass\n\u001b[0;32m    198\u001b[0m         \u001b[0mtensors\u001b[0m\u001b[1;33m,\u001b[0m \u001b[0mgrad_tensors_\u001b[0m\u001b[1;33m,\u001b[0m \u001b[0mretain_graph\u001b[0m\u001b[1;33m,\u001b[0m \u001b[0mcreate_graph\u001b[0m\u001b[1;33m,\u001b[0m \u001b[0minputs\u001b[0m\u001b[1;33m,\u001b[0m\u001b[1;33m\u001b[0m\u001b[1;33m\u001b[0m\u001b[0m\n\u001b[1;32m--> 199\u001b[1;33m         allow_unreachable=True, accumulate_grad=True)  # Calls into the C++ engine to run the backward pass\n\u001b[0m\u001b[0;32m    200\u001b[0m \u001b[1;33m\u001b[0m\u001b[0m\n\u001b[0;32m    201\u001b[0m def grad(\n",
      "\u001b[1;31mRuntimeError\u001b[0m: element 0 of tensors does not require grad and does not have a grad_fn"
     ]
    }
   ],
   "source": [
    "with torch.no_grad():\n",
    "    U1.weight.grad = torch.zeros_like(U1.weight)\n",
    "    U2.weight.grad = torch.zeros_like(U2.weight)\n",
    "loss = 0.5*((r1**2).sum() + (r2**2).sum())\n",
    "loss.sum().backward()\n",
    "print(f'U1.weight.grad:\\n{U1.weight.grad}')\n",
    "print(f'U2.weight.grad:\\n{U2.weight.grad}')"
   ]
  },
  {
   "cell_type": "code",
   "execution_count": 198,
   "metadata": {},
   "outputs": [
    {
     "name": "stdout",
     "output_type": "stream",
     "text": [
      "1:\n",
      "tensor([[-0.6933,  0.4221],\n",
      "        [-0.3558,  0.2166],\n",
      "        [-0.3064,  0.1865],\n",
      "        [ 0.1959, -0.1192]], grad_fn=<PermuteBackward0>)\n",
      "2:\n",
      "tensor([[-0.3013, -0.6518, -0.1750,  0.1821],\n",
      "        [-0.2382, -0.5154, -0.1384,  0.1440],\n",
      "        [-0.3859, -0.8350, -0.2242,  0.2333],\n",
      "        [-0.1283, -0.2775, -0.0745,  0.0776],\n",
      "        [-0.1763, -0.3815, -0.1024,  0.1066],\n",
      "        [ 0.0057,  0.0124,  0.0033, -0.0035]], grad_fn=<PermuteBackward0>)\n"
     ]
    }
   ],
   "source": [
    "print(f'1:\\n{torch.matmul(e1.unsqueeze(1), r1.unsqueeze(1).T).T}')\n",
    "print(f'2:\\n{torch.matmul(e2.unsqueeze(1), r2.unsqueeze(1).T).T}')"
   ]
  },
  {
   "cell_type": "code",
   "execution_count": 274,
   "metadata": {},
   "outputs": [],
   "source": [
    "U = nn.Conv2d(1, 3, (3,3), bias=False)\n",
    "optimiser = torch.optim.SGD(U.parameters(), lr=0.001)\n",
    "Ut = nn.ConvTranspose2d(3, 1, (3,3))\n",
    "with torch.no_grad():\n",
    "    Ut.weight = U.weight\n",
    "grad = torch.zeros_like(U.weight)\n",
    "def step(x, e, r):\n",
    "    with torch.no_grad():\n",
    "        e = x - Ut(r)\n",
    "    r = r + U(e)\n",
    "    return e, r"
   ]
  },
  {
   "cell_type": "code",
   "execution_count": 275,
   "metadata": {},
   "outputs": [],
   "source": [
    "x = torch.rand((1,1,4,4))\n",
    "e = torch.zeros_like(x)\n",
    "r = torch.zeros((1,3,2,2))"
   ]
  },
  {
   "cell_type": "code",
   "execution_count": 294,
   "metadata": {},
   "outputs": [
    {
     "name": "stdout",
     "output_type": "stream",
     "text": [
      "tensor([[[[ 0.5686, -0.0906,  0.0353,  0.2347],\n",
      "          [ 0.3378,  0.1243, -0.1070, -0.0324],\n",
      "          [ 0.2056,  0.1212, -0.0081, -0.0222],\n",
      "          [ 0.0375,  0.0403,  0.0899,  0.0199]]]])\n",
      "tensor([[[[ 0.3041,  0.3235],\n",
      "          [-0.1773, -0.0444]],\n",
      "\n",
      "         [[-0.0907, -1.0017],\n",
      "          [ 0.0183, -0.6439]],\n",
      "\n",
      "         [[ 0.6487,  1.1892],\n",
      "          [-0.4736, -0.6325]]]], grad_fn=<AddBackward0>)\n"
     ]
    }
   ],
   "source": [
    "e = e.detach()\n",
    "r = r.detach()\n",
    "e, r = step(x, e, r)\n",
    "print(e)\n",
    "print(r)"
   ]
  },
  {
   "cell_type": "code",
   "execution_count": 295,
   "metadata": {},
   "outputs": [
    {
     "name": "stdout",
     "output_type": "stream",
     "text": [
      "tensor(2.0582, grad_fn=<SumBackward0>)\n"
     ]
    }
   ],
   "source": [
    "optimiser.zero_grad()\n",
    "loss = (0.5*(r**2)).sum()\n",
    "print(loss)\n",
    "loss.backward()\n",
    "optimiser.step()"
   ]
  },
  {
   "cell_type": "code",
   "execution_count": 296,
   "metadata": {},
   "outputs": [
    {
     "data": {
      "text/plain": [
       "tensor([[[[ 0.0782, -0.0334,  0.1071],\n",
       "          [ 0.1011, -0.0180, -0.0406],\n",
       "          [ 0.0933,  0.0231, -0.0265]]],\n",
       "\n",
       "\n",
       "        [[[-0.0347,  0.0440, -0.2194],\n",
       "          [-0.2294,  0.1033,  0.0563],\n",
       "          [-0.1653, -0.0601,  0.0118]]],\n",
       "\n",
       "\n",
       "        [[[ 0.0226, -0.0079,  0.3732],\n",
       "          [ 0.1929, -0.0989, -0.0901],\n",
       "          [ 0.2343, -0.0069, -0.0868]]]])"
      ]
     },
     "execution_count": 296,
     "metadata": {},
     "output_type": "execute_result"
    }
   ],
   "source": [
    "U.weight.grad"
   ]
  }
 ],
 "metadata": {
  "kernelspec": {
   "display_name": "ml-env",
   "language": "python",
   "name": "python3"
  },
  "language_info": {
   "codemirror_mode": {
    "name": "ipython",
    "version": 3
   },
   "file_extension": ".py",
   "mimetype": "text/x-python",
   "name": "python",
   "nbconvert_exporter": "python",
   "pygments_lexer": "ipython3",
   "version": "3.7.15"
  },
  "orig_nbformat": 4
 },
 "nbformat": 4,
 "nbformat_minor": 2
}
