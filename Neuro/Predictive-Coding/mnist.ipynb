{
 "cells": [
  {
   "cell_type": "code",
   "execution_count": 12,
   "metadata": {},
   "outputs": [],
   "source": [
    "import torch\n",
    "import torch.nn as nn\n",
    "import torch.optim as optim\n",
    "import torchvision.datasets as datasets\n",
    "import torchvision.transforms as transforms\n",
    "from torch.utils.data import DataLoader\n",
    "from torch.utils.tensorboard import SummaryWriter\n",
    "import torch.nn.functional as F\n",
    "from tqdm import tqdm\n",
    "from cnn_models import LeNet\n",
    "from PCLeNet import PCLeNet\n",
    "from CustomDataset import PreloadedDataset\n",
    "from train_loops import train, train_pc\n",
    "from my_funcs import RandomGaussianNoise"
   ]
  },
  {
   "cell_type": "code",
   "execution_count": 68,
   "metadata": {},
   "outputs": [
    {
     "name": "stdout",
     "output_type": "stream",
     "text": [
      "tensor([[[0.2210, 0.8962],\n",
      "         [0.8571, 0.4833]],\n",
      "\n",
      "        [[0.5902, 0.2014],\n",
      "         [0.5777, 0.5776]],\n",
      "\n",
      "        [[0.0680, 0.7574],\n",
      "         [0.5303, 0.2064]],\n",
      "\n",
      "        [[0.0351, 0.3617],\n",
      "         [0.3685, 0.0249]]])\n",
      "tensor([[1, 0],\n",
      "        [0, 1]])\n"
     ]
    },
    {
     "data": {
      "text/plain": [
       "tensor([[[0, 1],\n",
       "         [1, 0]],\n",
       "\n",
       "        [[1, 0],\n",
       "         [0, 1]],\n",
       "\n",
       "        [[0, 0],\n",
       "         [0, 0]],\n",
       "\n",
       "        [[0, 0],\n",
       "         [0, 0]]])"
      ]
     },
     "execution_count": 68,
     "metadata": {},
     "output_type": "execute_result"
    }
   ],
   "source": [
    "#  SpearMax\n",
    "x = torch.rand(4,2,2)\n",
    "print(x)\n",
    "x = x.argmax(dim=0)\n",
    "print(x)\n",
    "x = F.one_hot(x, 4).transpose(2,1).transpose(1,0)\n",
    "x"
   ]
  },
  {
   "cell_type": "code",
   "execution_count": 2,
   "metadata": {},
   "outputs": [
    {
     "data": {
      "text/plain": [
       "'cuda'"
      ]
     },
     "execution_count": 2,
     "metadata": {},
     "output_type": "execute_result"
    }
   ],
   "source": [
    "device = \"cuda\" if torch.cuda.is_available() else \"cpu\"\n",
    "device"
   ]
  },
  {
   "cell_type": "code",
   "execution_count": 3,
   "metadata": {},
   "outputs": [
    {
     "name": "stderr",
     "output_type": "stream",
     "text": [
      "                                                        \r"
     ]
    }
   ],
   "source": [
    "VAL_RATIO = 0.2\n",
    "\n",
    "transform = transforms.Compose([\n",
    "    transforms.ToTensor(),\n",
    "    transforms.RandomHorizontalFlip(p=0.5),\n",
    "    RandomGaussianNoise(std=0.001),\n",
    "    transforms.RandomAffine(degrees=35, translate=(0.15,0.15), scale=(0.90,1.10)),\n",
    "])\n",
    "\n",
    "dataset = datasets.MNIST(root=\"../../../datasets/\", train=True, transform=transforms.ToTensor(), download=True)\n",
    "val_len = int(len(dataset) * VAL_RATIO)\n",
    "train_len = len(dataset) - val_len\n",
    "# print(dataset[0][1])\n",
    "train_dataset, val_dataset = torch.utils.data.random_split(dataset, [train_len, val_len])\n",
    "train_dataset = PreloadedDataset.from_dataset(train_dataset, transform, device)\n",
    "val_dataset = PreloadedDataset.from_dataset(val_dataset, transforms.ToTensor(), device)"
   ]
  },
  {
   "cell_type": "code",
   "execution_count": 12,
   "metadata": {},
   "outputs": [
    {
     "name": "stderr",
     "output_type": "stream",
     "text": [
      "                                                                                                                                   \r"
     ]
    }
   ],
   "source": [
    "#  Standard LeNet CNN\n",
    "model_name = \"LeNet\"\n",
    "LEARNING_RATE = 3e-4\n",
    "lenet = LeNet().to(device)\n",
    "criterion = nn.CrossEntropyLoss()\n",
    "optimiser = optim.AdamW(lenet.parameters(), lr=LEARNING_RATE)\n",
    "cnn_train_loss, cnn_train_acc, cnn_val_loss, cnn_val_acc, _ = train(\n",
    "    lenet,\n",
    "    train_dataset,\n",
    "    val_dataset,\n",
    "    optimiser,\n",
    "    criterion,\n",
    "    model_name,\n",
    "    30,\n",
    "    log_dir=\"MNIST\",\n",
    "    device=device,\n",
    ")"
   ]
  },
  {
   "cell_type": "code",
   "execution_count": 12,
   "metadata": {},
   "outputs": [
    {
     "name": "stderr",
     "output_type": "stream",
     "text": [
      "                                                                                                                                 \r"
     ]
    }
   ],
   "source": [
    "torch.manual_seed(0)\n",
    "model_name=\"PCLeNetAdamW_BS500_DataAug\"\n",
    "LEARNING_RATE = 3e-4\n",
    "criterion = nn.CrossEntropyLoss()\n",
    "pclenet = PCLeNet().to(device)\n",
    "optimiser = optim.AdamW(pclenet.parameters())\n",
    "optimiser.lr=LEARNING_RATE\n",
    "pccnn_train_loss, pccnn_train_acc, pccnn_val_loss, pccnn_val_acc, step = train_pc(\n",
    "    pclenet,\n",
    "    train_dataset,\n",
    "    val_dataset,\n",
    "    optimiser,\n",
    "    criterion,\n",
    "    model_name,\n",
    "    100,\n",
    "    batch_size=500,\n",
    "    log_dir=\"MNIST\",\n",
    "    device=device,\n",
    "    save_model=True,\n",
    "    step=0\n",
    ")"
   ]
  },
  {
   "cell_type": "code",
   "execution_count": 13,
   "metadata": {},
   "outputs": [
    {
     "name": "stderr",
     "output_type": "stream",
     "text": [
      "                                                                                                                                 \r"
     ]
    }
   ],
   "source": [
    "torch.manual_seed(0)\n",
    "model_name=\"PCLeNetAdamW_BS500_DataAug_LR=3e-3\"\n",
    "LEARNING_RATE = 3e-3\n",
    "criterion = nn.CrossEntropyLoss()\n",
    "pclenet = PCLeNet().to(device)\n",
    "optimiser = optim.AdamW(pclenet.parameters())\n",
    "optimiser.lr=LEARNING_RATE\n",
    "pccnn_train_loss, pccnn_train_acc, pccnn_val_loss, pccnn_val_acc, step = train_pc(\n",
    "    pclenet,\n",
    "    train_dataset,\n",
    "    val_dataset,\n",
    "    optimiser,\n",
    "    criterion,\n",
    "    model_name,\n",
    "    100,\n",
    "    batch_size=500,\n",
    "    log_dir=\"MNIST\",\n",
    "    device=device,\n",
    "    save_model=True,\n",
    "    step=0\n",
    ")"
   ]
  },
  {
   "cell_type": "code",
   "execution_count": 14,
   "metadata": {},
   "outputs": [
    {
     "name": "stderr",
     "output_type": "stream",
     "text": [
      "                                                                                                                                \r"
     ]
    }
   ],
   "source": [
    "torch.manual_seed(0)\n",
    "model_name=\"PCLeNetAdamW_BS500_DataAug_LR=3e-3Sch2\"\n",
    "LEARNING_RATE = 3e-3\n",
    "criterion = nn.CrossEntropyLoss()\n",
    "pclenet = PCLeNet().to(device)\n",
    "optimiser = optim.AdamW(pclenet.parameters())\n",
    "optimiser.lr=LEARNING_RATE\n",
    "pccnn_train_loss, pccnn_train_acc, pccnn_val_loss, pccnn_val_acc, step = train_pc(\n",
    "    pclenet,\n",
    "    train_dataset,\n",
    "    val_dataset,\n",
    "    optimiser,\n",
    "    criterion,\n",
    "    model_name,\n",
    "    30,\n",
    "    batch_size=500,\n",
    "    log_dir=\"MNIST\",\n",
    "    device=device,\n",
    "    save_model=True,\n",
    "    step=0\n",
    ")\n",
    "\n",
    "optimiser.lr=3e-4\n",
    "pccnn_train_loss, pccnn_train_acc, pccnn_val_loss, pccnn_val_acc, step = train_pc(\n",
    "    pclenet,\n",
    "    train_dataset,\n",
    "    val_dataset,\n",
    "    optimiser,\n",
    "    criterion,\n",
    "    model_name,\n",
    "    70,\n",
    "    batch_size=500,\n",
    "    log_dir=\"MNIST\",\n",
    "    device=device,\n",
    "    save_model=True,\n",
    "    step=step\n",
    ")"
   ]
  },
  {
   "cell_type": "code",
   "execution_count": 15,
   "metadata": {},
   "outputs": [
    {
     "name": "stderr",
     "output_type": "stream",
     "text": [
      "                                                                                                                                \r"
     ]
    }
   ],
   "source": [
    "\n",
    "torch.manual_seed(0)\n",
    "model_name=\"PCLeNetAdamW_BS500_DataAug_LR=3e-3Sch3\"\n",
    "LEARNING_RATE = 3e-3\n",
    "criterion = nn.CrossEntropyLoss()\n",
    "pclenet = PCLeNet().to(device)\n",
    "optimiser = optim.AdamW(pclenet.parameters())\n",
    "optimiser.lr=LEARNING_RATE\n",
    "pccnn_train_loss, pccnn_train_acc, pccnn_val_loss, pccnn_val_acc, step = train_pc(\n",
    "    pclenet,\n",
    "    train_dataset,\n",
    "    val_dataset,\n",
    "    optimiser,\n",
    "    criterion,\n",
    "    model_name,\n",
    "    30,\n",
    "    batch_size=500,\n",
    "    log_dir=\"MNIST\",\n",
    "    device=device,\n",
    "    save_model=True,\n",
    "    step=0\n",
    ")\n",
    "\n",
    "optimiser.lr=3e-4\n",
    "pccnn_train_loss, pccnn_train_acc, pccnn_val_loss, pccnn_val_acc, step = train_pc(\n",
    "    pclenet,\n",
    "    train_dataset,\n",
    "    val_dataset,\n",
    "    optimiser,\n",
    "    criterion,\n",
    "    model_name,\n",
    "    30,\n",
    "    batch_size=500,\n",
    "    log_dir=\"MNIST\",\n",
    "    device=device,\n",
    "    save_model=True,\n",
    "    step=step\n",
    ")\n",
    "\n",
    "optimiser.lr=3e-5\n",
    "pccnn_train_loss, pccnn_train_acc, pccnn_val_loss, pccnn_val_acc, step = train_pc(\n",
    "    pclenet,\n",
    "    train_dataset,\n",
    "    val_dataset,\n",
    "    optimiser,\n",
    "    criterion,\n",
    "    model_name,\n",
    "    40,\n",
    "    batch_size=500,\n",
    "    log_dir=\"MNIST\",\n",
    "    device=device,\n",
    "    save_model=True,\n",
    "    step=step\n",
    ")"
   ]
  },
  {
   "cell_type": "code",
   "execution_count": null,
   "metadata": {},
   "outputs": [],
   "source": []
  },
  {
   "cell_type": "code",
   "execution_count": null,
   "metadata": {},
   "outputs": [],
   "source": []
  }
 ],
 "metadata": {
  "kernelspec": {
   "display_name": "ml-env",
   "language": "python",
   "name": "python3"
  },
  "language_info": {
   "codemirror_mode": {
    "name": "ipython",
    "version": 3
   },
   "file_extension": ".py",
   "mimetype": "text/x-python",
   "name": "python",
   "nbconvert_exporter": "python",
   "pygments_lexer": "ipython3",
   "version": "3.7.15"
  },
  "orig_nbformat": 4,
  "vscode": {
   "interpreter": {
    "hash": "ebc7c8a3c5c4a81c6d3df3c7c091e8d1ec5b9d2aff4d30dfde49ec05d4a72c2e"
   }
  }
 },
 "nbformat": 4,
 "nbformat_minor": 2
}
