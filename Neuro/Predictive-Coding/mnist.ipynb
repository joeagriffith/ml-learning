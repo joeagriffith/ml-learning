{
 "cells": [
  {
   "cell_type": "code",
   "execution_count": 1,
   "metadata": {},
   "outputs": [
    {
     "name": "stderr",
     "output_type": "stream",
     "text": [
      "c:\\Users\\Joe\\anaconda3\\envs\\ml-env\\lib\\site-packages\\tqdm\\auto.py:22: TqdmWarning: IProgress not found. Please update jupyter and ipywidgets. See https://ipywidgets.readthedocs.io/en/stable/user_install.html\n",
      "  from .autonotebook import tqdm as notebook_tqdm\n"
     ]
    }
   ],
   "source": [
    "import torch\n",
    "import torch.nn as nn\n",
    "import torch.optim as optim\n",
    "import torchvision.datasets as datasets\n",
    "import torchvision.transforms as transforms\n",
    "from torch.utils.data import DataLoader\n",
    "from torch.utils.tensorboard import SummaryWriter\n",
    "import torch.nn.functional as F\n",
    "from tqdm import tqdm\n",
    "from cnn_models import LeNet\n",
    "from PCLeNet import PCLeNet, PCLeNetv3, PCLeNetv3Deep\n",
    "from PCLeNet_L1MoreFeatures import PCLeNetv2\n",
    "from CustomDataset import PreloadedDataset\n",
    "from train_loops import train, train_pc_classification, train_pc_error, train_pc_ec\n",
    "from my_funcs import RandomGaussianNoise, Scale\n",
    "import matplotlib.pyplot as plt"
   ]
  },
  {
   "cell_type": "code",
   "execution_count": 2,
   "metadata": {},
   "outputs": [
    {
     "data": {
      "text/plain": [
       "'cuda'"
      ]
     },
     "execution_count": 2,
     "metadata": {},
     "output_type": "execute_result"
    }
   ],
   "source": [
    "device = \"cuda\" if torch.cuda.is_available() else \"cpu\"\n",
    "device"
   ]
  },
  {
   "cell_type": "code",
   "execution_count": 3,
   "metadata": {},
   "outputs": [
    {
     "name": "stderr",
     "output_type": "stream",
     "text": [
      "                                                        \r"
     ]
    }
   ],
   "source": [
    "VAL_RATIO = 0.2\n",
    "\n",
    "transform = transforms.Compose([\n",
    "    transforms.ToTensor(),\n",
    "    # Scale(255.0),\n",
    "    # transforms.RandomHorizontalFlip(p=0.5),\n",
    "    RandomGaussianNoise(std=0.001),\n",
    "    transforms.RandomAffine(degrees=20, translate=(0.15,0.15), scale=(0.90,1.10)),\n",
    "])\n",
    "\n",
    "dataset = datasets.MNIST(root=\"../../../datasets/\", train=True, transform=transforms.ToTensor(), download=True)\n",
    "val_len = int(len(dataset) * VAL_RATIO)\n",
    "train_len = len(dataset) - val_len\n",
    "train_dataset, val_dataset = torch.utils.data.random_split(dataset, [train_len, val_len])\n",
    "train_dataset = PreloadedDataset.from_dataset(train_dataset, transform, device)\n",
    "val_dataset = PreloadedDataset.from_dataset(val_dataset, transforms.ToTensor(), device)\n",
    "INPUT_SHAPE = train_dataset[0][0].shape\n",
    "NUM_CLASSES = 10"
   ]
  },
  {
   "cell_type": "code",
   "execution_count": 48,
   "metadata": {},
   "outputs": [
    {
     "data": {
      "text/plain": [
       "torch.Size([8, 2, 3, 3])"
      ]
     },
     "execution_count": 48,
     "metadata": {},
     "output_type": "execute_result"
    }
   ],
   "source": [
    "layer = nn.Conv2d(2, 8, (3,3))\n",
    "layer.weight.shape"
   ]
  },
  {
   "cell_type": "code",
   "execution_count": 9,
   "metadata": {},
   "outputs": [
    {
     "name": "stderr",
     "output_type": "stream",
     "text": [
      "                                                                                                                                     \r"
     ]
    }
   ],
   "source": [
    "seed = 42\n",
    "torch.manual_seed(seed)\n",
    "#  Standard LeNet CNN\n",
    "model_name = \"LeNet\"\n",
    "LEARNING_RATE = 3e-3\n",
    "lenet = LeNet(INPUT_SHAPE[0], NUM_CLASSES).to(device)\n",
    "criterion = nn.CrossEntropyLoss()\n",
    "optimiser = optim.AdamW(lenet.parameters(), lr=LEARNING_RATE)\n",
    "cnn_train_loss, cnn_train_acc, cnn_val_loss, cnn_val_acc, step = train(\n",
    "    lenet,\n",
    "    train_dataset,\n",
    "    val_dataset,\n",
    "    optimiser,\n",
    "    criterion,\n",
    "    model_name,\n",
    "    150,\n",
    "    batch_size=300,\n",
    "    save_model=True,\n",
    "    model_dir=\"MNIST/models/\",\n",
    "    log_dir=\"MNIST/logs/\",\n",
    "    device=device,\n",
    "    step=7200000\n",
    ")"
   ]
  },
  {
   "cell_type": "code",
   "execution_count": 4,
   "metadata": {},
   "outputs": [
    {
     "name": "stderr",
     "output_type": "stream",
     "text": [
      "                                       \r"
     ]
    },
    {
     "ename": "RuntimeError",
     "evalue": "one of the variables needed for gradient computation has been modified by an inplace operation: [torch.cuda.FloatTensor [10, 84]], which is output 0 of AsStridedBackward0, is at version 3; expected version 1 instead. Hint: enable anomaly detection to find the operation that failed to compute its gradient, with torch.autograd.set_detect_anomaly(True).",
     "output_type": "error",
     "traceback": [
      "\u001b[1;31m---------------------------------------------------------------------------\u001b[0m",
      "\u001b[1;31mRuntimeError\u001b[0m                              Traceback (most recent call last)",
      "\u001b[1;32m~\\AppData\\Local\\Temp\\ipykernel_22380\\1605490316.py\u001b[0m in \u001b[0;36m<module>\u001b[1;34m\u001b[0m\n\u001b[0;32m     20\u001b[0m     \u001b[0msave_model\u001b[0m\u001b[1;33m=\u001b[0m\u001b[1;32mTrue\u001b[0m\u001b[1;33m,\u001b[0m\u001b[1;33m\u001b[0m\u001b[1;33m\u001b[0m\u001b[0m\n\u001b[0;32m     21\u001b[0m     \u001b[0mdevice\u001b[0m\u001b[1;33m=\u001b[0m\u001b[0mdevice\u001b[0m\u001b[1;33m,\u001b[0m\u001b[1;33m\u001b[0m\u001b[1;33m\u001b[0m\u001b[0m\n\u001b[1;32m---> 22\u001b[1;33m     \u001b[0mbest\u001b[0m\u001b[1;33m=\u001b[0m\u001b[1;34m\"acc\"\u001b[0m\u001b[1;33m\u001b[0m\u001b[1;33m\u001b[0m\u001b[0m\n\u001b[0m\u001b[0;32m     23\u001b[0m )\n",
      "\u001b[1;32mc:\\Users\\Joe\\Documents\\ML-Learning\\Neuro\\Predictive-Coding\\train_loops.py\u001b[0m in \u001b[0;36mtrain_pc_ec\u001b[1;34m(model, train_dataset, val_dataset, criterion, model_name, num_epochs, pc_learning_rate, pc_weight_decay, c_learning_rate, c_weight_decay, optimiser, flatten, model_dir, log_dir, step, best, save_model, batch_size, plot_err, lambdas, device)\u001b[0m\n\u001b[0;32m    566\u001b[0m             \u001b[1;32mfor\u001b[0m \u001b[0mi\u001b[0m\u001b[1;33m,\u001b[0m \u001b[0me\u001b[0m \u001b[1;32min\u001b[0m \u001b[0menumerate\u001b[0m\u001b[1;33m(\u001b[0m\u001b[0mout\u001b[0m\u001b[1;33m[\u001b[0m\u001b[1;36m1\u001b[0m\u001b[1;33m]\u001b[0m\u001b[1;33m)\u001b[0m\u001b[1;33m:\u001b[0m\u001b[1;33m\u001b[0m\u001b[1;33m\u001b[0m\u001b[0m\n\u001b[0;32m    567\u001b[0m                 \u001b[0merror\u001b[0m \u001b[1;33m=\u001b[0m \u001b[0me\u001b[0m\u001b[1;33m.\u001b[0m\u001b[0mmean\u001b[0m\u001b[1;33m(\u001b[0m\u001b[1;33m)\u001b[0m\u001b[1;33m*\u001b[0m\u001b[0mlayer_loss_weights\u001b[0m\u001b[1;33m[\u001b[0m\u001b[0mi\u001b[0m\u001b[1;33m]\u001b[0m\u001b[1;33m\u001b[0m\u001b[1;33m\u001b[0m\u001b[0m\n\u001b[1;32m--> 568\u001b[1;33m                 \u001b[0merror\u001b[0m\u001b[1;33m.\u001b[0m\u001b[0mbackward\u001b[0m\u001b[1;33m(\u001b[0m\u001b[0mretain_graph\u001b[0m\u001b[1;33m=\u001b[0m\u001b[1;32mTrue\u001b[0m\u001b[1;33m)\u001b[0m\u001b[1;33m\u001b[0m\u001b[1;33m\u001b[0m\u001b[0m\n\u001b[0m\u001b[0;32m    569\u001b[0m                 \u001b[0mtrain_err\u001b[0m\u001b[1;33m[\u001b[0m\u001b[0mi\u001b[0m\u001b[1;33m]\u001b[0m \u001b[1;33m+=\u001b[0m \u001b[0merror\u001b[0m\u001b[1;33m.\u001b[0m\u001b[0mdetach\u001b[0m\u001b[1;33m(\u001b[0m\u001b[1;33m)\u001b[0m\u001b[1;33m\u001b[0m\u001b[1;33m\u001b[0m\u001b[0m\n\u001b[0;32m    570\u001b[0m                 \u001b[0mtrain_mean_err\u001b[0m \u001b[1;33m+=\u001b[0m \u001b[0me\u001b[0m\u001b[1;33m.\u001b[0m\u001b[0mdetach\u001b[0m\u001b[1;33m(\u001b[0m\u001b[1;33m)\u001b[0m\u001b[1;33m.\u001b[0m\u001b[0mmean\u001b[0m\u001b[1;33m(\u001b[0m\u001b[1;33m)\u001b[0m\u001b[1;33m\u001b[0m\u001b[1;33m\u001b[0m\u001b[0m\n",
      "\u001b[1;32mc:\\Users\\Joe\\anaconda3\\envs\\ml-env\\lib\\site-packages\\torch\\_tensor.py\u001b[0m in \u001b[0;36mbackward\u001b[1;34m(self, gradient, retain_graph, create_graph, inputs)\u001b[0m\n\u001b[0;32m    487\u001b[0m             )\n\u001b[0;32m    488\u001b[0m         torch.autograd.backward(\n\u001b[1;32m--> 489\u001b[1;33m             \u001b[0mself\u001b[0m\u001b[1;33m,\u001b[0m \u001b[0mgradient\u001b[0m\u001b[1;33m,\u001b[0m \u001b[0mretain_graph\u001b[0m\u001b[1;33m,\u001b[0m \u001b[0mcreate_graph\u001b[0m\u001b[1;33m,\u001b[0m \u001b[0minputs\u001b[0m\u001b[1;33m=\u001b[0m\u001b[0minputs\u001b[0m\u001b[1;33m\u001b[0m\u001b[1;33m\u001b[0m\u001b[0m\n\u001b[0m\u001b[0;32m    490\u001b[0m         )\n\u001b[0;32m    491\u001b[0m \u001b[1;33m\u001b[0m\u001b[0m\n",
      "\u001b[1;32mc:\\Users\\Joe\\anaconda3\\envs\\ml-env\\lib\\site-packages\\torch\\autograd\\__init__.py\u001b[0m in \u001b[0;36mbackward\u001b[1;34m(tensors, grad_tensors, retain_graph, create_graph, grad_variables, inputs)\u001b[0m\n\u001b[0;32m    197\u001b[0m     Variable._execution_engine.run_backward(  # Calls into the C++ engine to run the backward pass\n\u001b[0;32m    198\u001b[0m         \u001b[0mtensors\u001b[0m\u001b[1;33m,\u001b[0m \u001b[0mgrad_tensors_\u001b[0m\u001b[1;33m,\u001b[0m \u001b[0mretain_graph\u001b[0m\u001b[1;33m,\u001b[0m \u001b[0mcreate_graph\u001b[0m\u001b[1;33m,\u001b[0m \u001b[0minputs\u001b[0m\u001b[1;33m,\u001b[0m\u001b[1;33m\u001b[0m\u001b[1;33m\u001b[0m\u001b[0m\n\u001b[1;32m--> 199\u001b[1;33m         allow_unreachable=True, accumulate_grad=True)  # Calls into the C++ engine to run the backward pass\n\u001b[0m\u001b[0;32m    200\u001b[0m \u001b[1;33m\u001b[0m\u001b[0m\n\u001b[0;32m    201\u001b[0m def grad(\n",
      "\u001b[1;31mRuntimeError\u001b[0m: one of the variables needed for gradient computation has been modified by an inplace operation: [torch.cuda.FloatTensor [10, 84]], which is output 0 of AsStridedBackward0, is at version 3; expected version 1 instead. Hint: enable anomaly detection to find the operation that failed to compute its gradient, with torch.autograd.set_detect_anomaly(True)."
     ]
    }
   ],
   "source": [
    "seed = 42\n",
    "torch.manual_seed(seed)\n",
    "#  Standard LeNet CNN\n",
    "model_name = f\"PCLeNetv3_err\"\n",
    "LEARNING_RATE = 3e-4\n",
    "lenet = PCLeNetv3(INPUT_SHAPE, NUM_CLASSES, relu_errs=True).to(device)\n",
    "criterion = nn.CrossEntropyLoss()\n",
    "optimiser = optim.AdamW(lenet.parameters(), lr=LEARNING_RATE)\n",
    "step = train_pc_ec(\n",
    "    lenet,\n",
    "    train_dataset,\n",
    "    val_dataset,\n",
    "    # optimiser,\n",
    "    criterion,\n",
    "    model_name,\n",
    "    500,\n",
    "    batch_size=300,\n",
    "    log_dir=\"MNIST/logs/\",\n",
    "    model_dir=\"MNIST/models\",\n",
    "    save_model=True,\n",
    "    device=device,\n",
    "    best=\"acc\"\n",
    ")"
   ]
  },
  {
   "cell_type": "code",
   "execution_count": 5,
   "metadata": {},
   "outputs": [
    {
     "data": {
      "text/plain": [
       "<All keys matched successfully>"
      ]
     },
     "execution_count": 5,
     "metadata": {},
     "output_type": "execute_result"
    }
   ],
   "source": [
    "# model_name = \"PCLeNetv3_classification\"\n",
    "lenet = PCLeNetv3(INPUT_SHAPE, NUM_CLASSES, relu_errs=True).to(device)\n",
    "lenet.load_state_dict(torch.load(f\"MNIST/models/{model_name}.pth\"))"
   ]
  },
  {
   "cell_type": "code",
   "execution_count": 6,
   "metadata": {},
   "outputs": [
    {
     "data": {
      "image/png": "[encoded data removed]",
      "text/plain": [
       "<Figure size 640x480 with 4 Axes>"
      ]
     },
     "metadata": {},
     "output_type": "display_data"
    },
    {
     "name": "stdout",
     "output_type": "stream",
     "text": [
      "Error 0: 0.00014051437028683722\n",
      "Error 1: 0.08776825666427612\n",
      "Error 2: 0.012469873763620853\n",
      "Error 3: 0.16494876146316528\n",
      "Error 4: 0.32906079292297363\n"
     ]
    }
   ],
   "source": [
    "ys = F.one_hot(torch.tensor([1, 5, 7, 9]), 10).float().to(device)\n",
    "out = lenet.predict(ys)\n",
    "for i in range(4):\n",
    "    ax = plt.subplot(2,2, i+1)\n",
    "    plt.imshow(out[0][i].detach().squeeze(0).to(\"cpu\"), cmap='gray')\n",
    "    ax.set_title(f\"labels: {ys[i].argmax().item()}\")\n",
    "    ax.axis('off')\n",
    "plt.tight_layout()\n",
    "plt.show()\n",
    "for i in range(len(out[1])):\n",
    "    print(f\"Error {i}: {out[1][i].square().mean()}\")"
   ]
  },
  {
   "cell_type": "code",
   "execution_count": 4,
   "metadata": {},
   "outputs": [
    {
     "ename": "NameError",
     "evalue": "name 'lenet' is not defined",
     "output_type": "error",
     "traceback": [
      "\u001b[1;31m---------------------------------------------------------------------------\u001b[0m",
      "\u001b[1;31mNameError\u001b[0m                                 Traceback (most recent call last)",
      "\u001b[1;32m~\\AppData\\Local\\Temp\\ipykernel_26724\\3607247082.py\u001b[0m in \u001b[0;36m<module>\u001b[1;34m\u001b[0m\n\u001b[0;32m      7\u001b[0m \u001b[1;31m# optimiser = optim.AdamW(lenet.parameters(), lr=LEARNING_RATE)\u001b[0m\u001b[1;33m\u001b[0m\u001b[1;33m\u001b[0m\u001b[1;33m\u001b[0m\u001b[0m\n\u001b[0;32m      8\u001b[0m step = train_pc_classification(\n\u001b[1;32m----> 9\u001b[1;33m     \u001b[0mlenet\u001b[0m\u001b[1;33m,\u001b[0m\u001b[1;33m\u001b[0m\u001b[1;33m\u001b[0m\u001b[0m\n\u001b[0m\u001b[0;32m     10\u001b[0m     \u001b[0mtrain_dataset\u001b[0m\u001b[1;33m,\u001b[0m\u001b[1;33m\u001b[0m\u001b[1;33m\u001b[0m\u001b[0m\n\u001b[0;32m     11\u001b[0m     \u001b[0mval_dataset\u001b[0m\u001b[1;33m,\u001b[0m\u001b[1;33m\u001b[0m\u001b[1;33m\u001b[0m\u001b[0m\n",
      "\u001b[1;31mNameError\u001b[0m: name 'lenet' is not defined"
     ]
    }
   ],
   "source": [
    "\n",
    "torch.manual_seed(0)\n",
    "#  Standard LeNet CNN\n",
    "model_name = \"PCLeNetv2_classification_DataAug\"\n",
    "LEARNING_RATE = 3e-4\n",
    "lenet = PCLeNetv2(INPUT_SHAPE, NUM_CLASSES).to(device)\n",
    "criterion = nn.CrossEntropyLoss()\n",
    "optimiser = optim.AdamW(lenet.parameters(), lr=LEARNING_RATE)\n",
    "step = train_pc_classification(\n",
    "    lenet,\n",
    "    train_dataset,\n",
    "    val_dataset,\n",
    "    optimiser,\n",
    "    criterion,\n",
    "    model_name,\n",
    "    500,\n",
    "    batch_size=300,\n",
    "    log_dir=\"MNIST\",\n",
    "    save_model=False,\n",
    "    device=device,\n",
    "    plot_errs=True,\n",
    "    step=step\n",
    ")"
   ]
  },
  {
   "cell_type": "code",
   "execution_count": 12,
   "metadata": {},
   "outputs": [
    {
     "name": "stderr",
     "output_type": "stream",
     "text": [
      "                                                                                                                                 \r"
     ]
    }
   ],
   "source": [
    "torch.manual_seed(0)\n",
    "model_name=\"PCLeNetAdamW_BS500_DataAug\"\n",
    "LEARNING_RATE = 3e-4\n",
    "criterion = nn.CrossEntropyLoss()\n",
    "pclenet = PCLeNet().to(device)\n",
    "optimiser = optim.AdamW(pclenet.parameters())\n",
    "optimiser.lr=LEARNING_RATE\n",
    "pccnn_train_loss, pccnn_train_acc, pccnn_val_loss, pccnn_val_acc, step = train_pc(\n",
    "    pclenet,\n",
    "    train_dataset,\n",
    "    val_dataset,\n",
    "    optimiser,\n",
    "    criterion,\n",
    "    model_name,\n",
    "    100,\n",
    "    batch_size=500,\n",
    "    log_dir=\"MNIST\",\n",
    "    device=device,\n",
    "    save_model=True,\n",
    "    step=0\n",
    ")"
   ]
  },
  {
   "cell_type": "code",
   "execution_count": 13,
   "metadata": {},
   "outputs": [
    {
     "name": "stderr",
     "output_type": "stream",
     "text": [
      "                                                                                                                                 \r"
     ]
    }
   ],
   "source": [
    "torch.manual_seed(0)\n",
    "model_name=\"PCLeNetAdamW_BS500_DataAug_LR=3e-3\"\n",
    "LEARNING_RATE = 3e-3\n",
    "criterion = nn.CrossEntropyLoss()\n",
    "pclenet = PCLeNet().to(device)\n",
    "optimiser = optim.AdamW(pclenet.parameters())\n",
    "optimiser.lr=LEARNING_RATE\n",
    "pccnn_train_loss, pccnn_train_acc, pccnn_val_loss, pccnn_val_acc, step = train_pc(\n",
    "    pclenet,\n",
    "    train_dataset,\n",
    "    val_dataset,\n",
    "    optimiser,\n",
    "    criterion,\n",
    "    model_name,\n",
    "    100,\n",
    "    batch_size=500,\n",
    "    log_dir=\"MNIST\",\n",
    "    device=device,\n",
    "    save_model=True,\n",
    "    step=0\n",
    ")"
   ]
  },
  {
   "cell_type": "code",
   "execution_count": 14,
   "metadata": {},
   "outputs": [
    {
     "name": "stderr",
     "output_type": "stream",
     "text": [
      "                                                                                                                                \r"
     ]
    }
   ],
   "source": [
    "torch.manual_seed(0)\n",
    "model_name=\"PCLeNetAdamW_BS500_DataAug_LR=3e-3Sch2\"\n",
    "LEARNING_RATE = 3e-3\n",
    "criterion = nn.CrossEntropyLoss()\n",
    "pclenet = PCLeNet().to(device)\n",
    "optimiser = optim.AdamW(pclenet.parameters())\n",
    "optimiser.lr=LEARNING_RATE\n",
    "pccnn_train_loss, pccnn_train_acc, pccnn_val_loss, pccnn_val_acc, step = train_pc(\n",
    "    pclenet,\n",
    "    train_dataset,\n",
    "    val_dataset,\n",
    "    optimiser,\n",
    "    criterion,\n",
    "    model_name,\n",
    "    30,\n",
    "    batch_size=500,\n",
    "    log_dir=\"MNIST\",\n",
    "    device=device,\n",
    "    save_model=True,\n",
    "    step=0\n",
    ")\n",
    "\n",
    "optimiser.lr=3e-4\n",
    "pccnn_train_loss, pccnn_train_acc, pccnn_val_loss, pccnn_val_acc, step = train_pc(\n",
    "    pclenet,\n",
    "    train_dataset,\n",
    "    val_dataset,\n",
    "    optimiser,\n",
    "    criterion,\n",
    "    model_name,\n",
    "    70,\n",
    "    batch_size=500,\n",
    "    log_dir=\"MNIST\",\n",
    "    device=device,\n",
    "    save_model=True,\n",
    "    step=step\n",
    ")"
   ]
  },
  {
   "cell_type": "code",
   "execution_count": 15,
   "metadata": {},
   "outputs": [
    {
     "name": "stderr",
     "output_type": "stream",
     "text": [
      "                                                                                                                                \r"
     ]
    }
   ],
   "source": [
    "\n",
    "torch.manual_seed(0)\n",
    "model_name=\"PCLeNetAdamW_BS500_DataAug_LR=3e-3Sch3\"\n",
    "LEARNING_RATE = 3e-3\n",
    "criterion = nn.CrossEntropyLoss()\n",
    "pclenet = PCLeNet().to(device)\n",
    "optimiser = optim.AdamW(pclenet.parameters())\n",
    "optimiser.lr=LEARNING_RATE\n",
    "pccnn_train_loss, pccnn_train_acc, pccnn_val_loss, pccnn_val_acc, step = train_pc(\n",
    "    pclenet,\n",
    "    train_dataset,\n",
    "    val_dataset,\n",
    "    optimiser,\n",
    "    criterion,\n",
    "    model_name,\n",
    "    30,\n",
    "    batch_size=500,\n",
    "    log_dir=\"MNIST\",\n",
    "    device=device,\n",
    "    save_model=True,\n",
    "    step=0\n",
    ")\n",
    "\n",
    "optimiser.lr=3e-4\n",
    "pccnn_train_loss, pccnn_train_acc, pccnn_val_loss, pccnn_val_acc, step = train_pc(\n",
    "    pclenet,\n",
    "    train_dataset,\n",
    "    val_dataset,\n",
    "    optimiser,\n",
    "    criterion,\n",
    "    model_name,\n",
    "    30,\n",
    "    batch_size=500,\n",
    "    log_dir=\"MNIST\",\n",
    "    device=device,\n",
    "    save_model=True,\n",
    "    step=step\n",
    ")\n",
    "\n",
    "optimiser.lr=3e-5\n",
    "pccnn_train_loss, pccnn_train_acc, pccnn_val_loss, pccnn_val_acc, step = train_pc(\n",
    "    pclenet,\n",
    "    train_dataset,\n",
    "    val_dataset,\n",
    "    optimiser,\n",
    "    criterion,\n",
    "    model_name,\n",
    "    40,\n",
    "    batch_size=500,\n",
    "    log_dir=\"MNIST\",\n",
    "    device=device,\n",
    "    save_model=True,\n",
    "    step=step\n",
    ")"
   ]
  }
 ],
 "metadata": {
  "kernelspec": {
   "display_name": "ml-env",
   "language": "python",
   "name": "python3"
  },
  "language_info": {
   "codemirror_mode": {
    "name": "ipython",
    "version": 3
   },
   "file_extension": ".py",
   "mimetype": "text/x-python",
   "name": "python",
   "nbconvert_exporter": "python",
   "pygments_lexer": "ipython3",
   "version": "3.7.15"
  },
  "orig_nbformat": 4,
  "vscode": {
   "interpreter": {
    "hash": "ebc7c8a3c5c4a81c6d3df3c7c091e8d1ec5b9d2aff4d30dfde49ec05d4a72c2e"
   }
  }
 },
 "nbformat": 4,
 "nbformat_minor": 2
}
