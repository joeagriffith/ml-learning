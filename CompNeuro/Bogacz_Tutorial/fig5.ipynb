{
 "cells": [
  {
   "cell_type": "markdown",
   "metadata": {},
   "source": [
    "# Increase Dimensinality of Input (Implementing Fig. 5)"
   ]
  },
  {
   "cell_type": "code",
   "execution_count": 1,
   "metadata": {},
   "outputs": [],
   "source": [
    "import numpy as np\n",
    "import matplotlib.pyplot as plt\n",
    "import scipy.integrate as integrate\n",
    "%matplotlib inline"
   ]
  },
  {
   "cell_type": "code",
   "execution_count": 2,
   "metadata": {},
   "outputs": [],
   "source": [
    "# True Statistics\n",
    "v_mean = np.array([4, 6])\n",
    "v_var = np.array([1.5, 2.0])\n",
    "u_var = np.array([1.1, 1.2])\n",
    "Theta_true = np.array([[1.5, 0.1], [0.1, 1.5]])\n",
    "\n",
    "def h(v):\n",
    "    return np.square(v)\n",
    "\n",
    "def dh(v):\n",
    "    return 2*v\n",
    "\n",
    "\n",
    "def g(v, Theta):\n",
    "    return Theta @ h(v)\n",
    "\n",
    "def dg(v, Theta):\n",
    "    return Theta @ dh(v)"
   ]
  },
  {
   "cell_type": "code",
   "execution_count": 3,
   "metadata": {},
   "outputs": [
    {
     "data": {
      "text/plain": [
       "array([[1.21, 2.42],\n",
       "       [2.42, 4.84]])"
      ]
     },
     "execution_count": 3,
     "metadata": {},
     "output_type": "execute_result"
    }
   ],
   "source": [
    "x = np.array([1.1, 2.2])\n",
    "np.expand_dims(x, 1) @ np.expand_dims(x, 0)"
   ]
  },
  {
   "cell_type": "code",
   "execution_count": 4,
   "metadata": {},
   "outputs": [
    {
     "name": "stderr",
     "output_type": "stream",
     "text": [
      "C:\\Users\\joeag\\AppData\\Local\\Temp\\ipykernel_12960\\3604421241.py:8: RuntimeWarning: overflow encountered in square\n",
      "  return np.square(v)\n",
      "C:\\Users\\joeag\\AppData\\Local\\Temp\\ipykernel_12960\\2760485290.py:28: RuntimeWarning: invalid value encountered in subtract\n",
      "  eps_u += lr * (u - g(phi, Theta) - Sigma_u@eps_u)\n",
      "C:\\Users\\joeag\\AppData\\Local\\Temp\\ipykernel_12960\\2760485290.py:29: RuntimeWarning: invalid value encountered in subtract\n",
      "  eps_p += lr * (phi - v_p - Sigma_p@eps_p)\n"
     ]
    },
    {
     "data": {
      "image/png": "[encoded data removed]",
      "text/plain": [
       "<Figure size 1000x500 with 2 Axes>"
      ]
     },
     "metadata": {},
     "output_type": "display_data"
    }
   ],
   "source": [
    "# def simulate_learning(num_trials=10000, max_t=5, dt=0.01, lr=0.01):\n",
    "    # Learnable Parameters, Initialised in lists for tracking\n",
    "v_p = np.array([1.0,1.])\n",
    "Sigma_p = np.eye(2)\n",
    "Sigma_u = np.eye(2)\n",
    "Theta = np.ones((2,2)) * 0.1\n",
    "\n",
    "num_trials = 10000\n",
    "lr = 0.01\n",
    "max_t = 5\n",
    "dt = 0.01\n",
    "\n",
    "eps_us = np.zeros((num_trials, 2))\n",
    "eps_ps = np.zeros((num_trials, 2))\n",
    "\n",
    "for i in range(num_trials):\n",
    "\n",
    "    # Sample cause 'v' and its observation 'u'\n",
    "    v = np.random.normal(v_mean, np.sqrt(v_var))\n",
    "    u = np.random.normal(g(v, Theta_true), np.sqrt(u_var))\n",
    "\n",
    "    phi = v_p\n",
    "    eps_u = np.zeros(2)\n",
    "    eps_p = np.zeros(2)\n",
    "\n",
    "    for _ in range(int(max_t / dt)):\n",
    "        phi += lr * (-eps_p + dh(phi) * Theta.T @ eps_u)\n",
    "        eps_u += lr * (u - g(phi, Theta) - Sigma_u@eps_u)\n",
    "        eps_p += lr * (phi - v_p - Sigma_p@eps_p)\n",
    "    \n",
    "    eps_us[i] = eps_u\n",
    "    eps_ps[i] = eps_p\n",
    "\n",
    "    \n",
    "    Sigma_u += lr * 0.5 * (np.expand_dims(eps_u, 1) @ np.expand_dims(eps_u, 0) - np.linalg.inv(Sigma_u))\n",
    "    v_p +=     lr * eps_p\n",
    "    Sigma_p += lr * 0.5 * (np.expand_dims(eps_p, 1) @ np.expand_dims(eps_p, 0) - np.linalg.inv(Sigma_p))\n",
    "    Theta += lr * np.expand_dims(eps_u, 1) @ np.expand_dims(h(phi), 0)\n",
    "\n",
    "\n",
    "plt.figure(figsize=(10,5))\n",
    "plt.subplot(1,2,1)\n",
    "plt.plot(eps_us[:,0], label='$\\epsilon_u^1$')\n",
    "plt.plot(eps_us[:,1], label='$\\epsilon_u^2$')\n",
    "plt.legend()\n",
    "plt.xlabel('Trial')\n",
    "plt.ylabel('Error')\n",
    "plt.title('Error in $u$')\n",
    "\n",
    "plt.subplot(1,2,2)\n",
    "plt.plot(eps_ps[:,0], label='$\\epsilon_p^1$')\n",
    "plt.plot(eps_ps[:,1], label='$\\epsilon_p^2$')\n",
    "plt.legend()\n",
    "plt.xlabel('Trial')\n",
    "plt.ylabel('Error')\n",
    "plt.title('Error in $p$')\n",
    "\n",
    "plt.show()"
   ]
  },
  {
   "cell_type": "code",
   "execution_count": 49,
   "metadata": {},
   "outputs": [
    {
     "data": {
      "text/plain": [
       "array([[1.06906573, 0.        ],\n",
       "       [0.        , 1.06906573]])"
      ]
     },
     "execution_count": 49,
     "metadata": {},
     "output_type": "execute_result"
    }
   ],
   "source": [
    "Sigma_p"
   ]
  },
  {
   "cell_type": "code",
   "execution_count": null,
   "metadata": {},
   "outputs": [],
   "source": []
  }
 ],
 "metadata": {
  "kernelspec": {
   "display_name": "Python 3",
   "language": "python",
   "name": "python3"
  },
  "language_info": {
   "codemirror_mode": {
    "name": "ipython",
    "version": 3
   },
   "file_extension": ".py",
   "mimetype": "text/x-python",
   "name": "python",
   "nbconvert_exporter": "python",
   "pygments_lexer": "ipython3",
   "version": "3.11.4"
  },
  "orig_nbformat": 4
 },
 "nbformat": 4,
 "nbformat_minor": 2
}
